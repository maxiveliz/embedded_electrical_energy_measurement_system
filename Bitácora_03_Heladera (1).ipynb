{
  "nbformat": 4,
  "nbformat_minor": 0,
  "metadata": {
    "colab": {
      "provenance": []
    },
    "kernelspec": {
      "display_name": "Python 3",
      "name": "python3"
    },
    "language_info": {
      "name": "python"
    }
  },
  "cells": [
    {
      "cell_type": "code",
      "metadata": {
        "id": "pngBNkcO9nyV"
      },
      "source": [
        "import pandas as pd\n",
        "import numpy as np\n",
        "from datetime import datetime\n",
        "import glob\n",
        "import cv2\n",
        "import matplotlib.pyplot as plt\n",
        "import seaborn as sns"
      ],
      "execution_count": null,
      "outputs": []
    },
    {
      "cell_type": "markdown",
      "metadata": {
        "id": "rvyhwjGYv8Fo"
      },
      "source": [
        "Lista de ideas\n",
        "\n",
        "* Automatización de la exportación de datos del dranetz, es posible?\n",
        "* Medición de corrientes con las 4 pinzas del Dranetz. Objetivo, obtener todos los valore instantáneos de tensión y corriente para hacer el procesamiento en el notebook.\n",
        "* En definitita el estudio se resume en el estudio de esas formas de ondas y su comportamiento en transitorio y estacionario a diferentes escalas.\n",
        "* Probar los resulados de la FFT en el notebook con las librerías del procesamiento de señales.\n",
        "* Prueba de dos canales mirar hacia la izquiera y hacia la derecha a la vez: válido para Dranetz y Microchip."
      ]
    },
    {
      "cell_type": "markdown",
      "metadata": {
        "id": "vUSgl2yYgeks"
      },
      "source": [
        "# Carga de datos"
      ]
    },
    {
      "cell_type": "markdown",
      "metadata": {
        "id": "rMfuBRvFIFmQ"
      },
      "source": [
        "Hard-ad-hoc\n"
      ]
    },
    {
      "cell_type": "code",
      "metadata": {
        "colab": {
          "base_uri": "https://localhost:8080/",
          "height": 423
        },
        "id": "sVGUVggOAN9P",
        "outputId": "9df1af44-d936-4adf-91bb-3983cd638781"
      },
      "source": [
        "datos_hardadhoc=pd.read_csv(\"/content/drive/MyDrive/Doctorado CyT, Maxi/DataSet - doctorado/Heladera_Maxihouse/Hard-adhoc/04011323052.csv\",delimiter=';',header=0,index_col=False)\n",
        "datos_hardadhoc"
      ],
      "execution_count": null,
      "outputs": [
        {
          "output_type": "execute_result",
          "data": {
            "text/plain": [
              "               DIA      HORA  UrmsA(V)  UrmsB(V)  UrmsC(V)  IrmsA(A)  \\\n",
              "0       2021/04/01  14:21:53    231.25      0.07       0.0      0.00   \n",
              "1       2021/04/01  14:21:53    231.08      0.07       0.0      0.03   \n",
              "2       2021/04/01  14:21:53    231.19      0.07       0.0      0.00   \n",
              "3       2021/04/01  14:21:54    231.40      0.07       0.0      0.00   \n",
              "4       2021/04/01  14:21:54    231.35      0.07       0.0      0.03   \n",
              "...            ...       ...       ...       ...       ...       ...   \n",
              "440545  2021/04/03  07:08:09    233.17      0.07       0.0      0.01   \n",
              "440546  2021/04/03  07:08:10    233.16      0.07       0.0      0.00   \n",
              "440547  2021/04/03  07:08:10    233.25      0.07       0.0      0.03   \n",
              "440548  2021/04/03  07:08:10    233.26      0.07       0.0      0.03   \n",
              "440549  2021/04/03  07:08:11    233.19      0.07       0.0      0.02   \n",
              "\n",
              "        IrmsB(A)  IrmsC(A)  IrmsN(A)  PmeanA(W)  ...  PFmeanC  PFmeanT  \\\n",
              "0           0.11      0.03      0.39       -2.0  ...     -0.0    -0.31   \n",
              "1           0.06      0.05      0.18       -2.0  ...     -0.0    -1.00   \n",
              "2           0.03      0.06      0.10       -2.0  ...     -0.0    -1.00   \n",
              "3           0.04      0.08      0.05       -2.0  ...     -0.0    -0.31   \n",
              "4           0.04      0.02      0.12       -2.0  ...     -0.0    -0.12   \n",
              "...          ...       ...       ...        ...  ...      ...      ...   \n",
              "440545      0.00      0.06      0.29       -2.0  ...     -0.0    -0.96   \n",
              "440546      0.02      0.09      0.44       -2.0  ...     -0.0    -1.00   \n",
              "440547      0.06      0.04      0.16       -2.0  ...     -0.0    -0.35   \n",
              "440548      0.04      0.01      0.03       -2.0  ...     -0.0    -0.33   \n",
              "440549      0.10      0.02      0.07       -2.0  ...     -0.0    -0.53   \n",
              "\n",
              "        THDNUA(%)  THDNUB(%)  THDNUC(%)  THDNIA(%)  THDNIB(%)  THDNIC(%)  \\\n",
              "0            1.33        0.0        0.0        0.0        0.0        0.0   \n",
              "1            1.57        0.0        0.0        0.0        0.0        0.0   \n",
              "2            1.37        0.0        0.0        0.0        0.0        0.0   \n",
              "3            1.23        0.0        0.0        0.0        0.0        0.0   \n",
              "4            1.49        0.0        0.0        0.0        0.0        0.0   \n",
              "...           ...        ...        ...        ...        ...        ...   \n",
              "440545       0.94        0.0        0.0        0.0        0.0        0.0   \n",
              "440546       0.81        0.0        0.0        0.0        0.0        0.0   \n",
              "440547       0.79        0.0        0.0        0.0        0.0        0.0   \n",
              "440548       0.80        0.0        0.0        0.0        0.0        0.0   \n",
              "440549       0.74        0.0        0.0        0.0        0.0        0.0   \n",
              "\n",
              "        Frec.(Hz)  Temp.(ºC)  \n",
              "0            49.0       28.0  \n",
              "1            49.0       28.0  \n",
              "2            49.0       28.0  \n",
              "3            49.0       28.0  \n",
              "4            49.0       28.0  \n",
              "...           ...        ...  \n",
              "440545       49.0       28.0  \n",
              "440546       49.0       28.0  \n",
              "440547       49.0       28.0  \n",
              "440548       49.0       28.0  \n",
              "440549       49.0       28.0  \n",
              "\n",
              "[440550 rows x 33 columns]"
            ],
            "text/html": [
              "\n",
              "  <div id=\"df-8751b2aa-9b2f-4b76-8583-fa747a9296f7\" class=\"colab-df-container\">\n",
              "    <div>\n",
              "<style scoped>\n",
              "    .dataframe tbody tr th:only-of-type {\n",
              "        vertical-align: middle;\n",
              "    }\n",
              "\n",
              "    .dataframe tbody tr th {\n",
              "        vertical-align: top;\n",
              "    }\n",
              "\n",
              "    .dataframe thead th {\n",
              "        text-align: right;\n",
              "    }\n",
              "</style>\n",
              "<table border=\"1\" class=\"dataframe\">\n",
              "  <thead>\n",
              "    <tr style=\"text-align: right;\">\n",
              "      <th></th>\n",
              "      <th>DIA</th>\n",
              "      <th>HORA</th>\n",
              "      <th>UrmsA(V)</th>\n",
              "      <th>UrmsB(V)</th>\n",
              "      <th>UrmsC(V)</th>\n",
              "      <th>IrmsA(A)</th>\n",
              "      <th>IrmsB(A)</th>\n",
              "      <th>IrmsC(A)</th>\n",
              "      <th>IrmsN(A)</th>\n",
              "      <th>PmeanA(W)</th>\n",
              "      <th>...</th>\n",
              "      <th>PFmeanC</th>\n",
              "      <th>PFmeanT</th>\n",
              "      <th>THDNUA(%)</th>\n",
              "      <th>THDNUB(%)</th>\n",
              "      <th>THDNUC(%)</th>\n",
              "      <th>THDNIA(%)</th>\n",
              "      <th>THDNIB(%)</th>\n",
              "      <th>THDNIC(%)</th>\n",
              "      <th>Frec.(Hz)</th>\n",
              "      <th>Temp.(ºC)</th>\n",
              "    </tr>\n",
              "  </thead>\n",
              "  <tbody>\n",
              "    <tr>\n",
              "      <th>0</th>\n",
              "      <td>2021/04/01</td>\n",
              "      <td>14:21:53</td>\n",
              "      <td>231.25</td>\n",
              "      <td>0.07</td>\n",
              "      <td>0.0</td>\n",
              "      <td>0.00</td>\n",
              "      <td>0.11</td>\n",
              "      <td>0.03</td>\n",
              "      <td>0.39</td>\n",
              "      <td>-2.0</td>\n",
              "      <td>...</td>\n",
              "      <td>-0.0</td>\n",
              "      <td>-0.31</td>\n",
              "      <td>1.33</td>\n",
              "      <td>0.0</td>\n",
              "      <td>0.0</td>\n",
              "      <td>0.0</td>\n",
              "      <td>0.0</td>\n",
              "      <td>0.0</td>\n",
              "      <td>49.0</td>\n",
              "      <td>28.0</td>\n",
              "    </tr>\n",
              "    <tr>\n",
              "      <th>1</th>\n",
              "      <td>2021/04/01</td>\n",
              "      <td>14:21:53</td>\n",
              "      <td>231.08</td>\n",
              "      <td>0.07</td>\n",
              "      <td>0.0</td>\n",
              "      <td>0.03</td>\n",
              "      <td>0.06</td>\n",
              "      <td>0.05</td>\n",
              "      <td>0.18</td>\n",
              "      <td>-2.0</td>\n",
              "      <td>...</td>\n",
              "      <td>-0.0</td>\n",
              "      <td>-1.00</td>\n",
              "      <td>1.57</td>\n",
              "      <td>0.0</td>\n",
              "      <td>0.0</td>\n",
              "      <td>0.0</td>\n",
              "      <td>0.0</td>\n",
              "      <td>0.0</td>\n",
              "      <td>49.0</td>\n",
              "      <td>28.0</td>\n",
              "    </tr>\n",
              "    <tr>\n",
              "      <th>2</th>\n",
              "      <td>2021/04/01</td>\n",
              "      <td>14:21:53</td>\n",
              "      <td>231.19</td>\n",
              "      <td>0.07</td>\n",
              "      <td>0.0</td>\n",
              "      <td>0.00</td>\n",
              "      <td>0.03</td>\n",
              "      <td>0.06</td>\n",
              "      <td>0.10</td>\n",
              "      <td>-2.0</td>\n",
              "      <td>...</td>\n",
              "      <td>-0.0</td>\n",
              "      <td>-1.00</td>\n",
              "      <td>1.37</td>\n",
              "      <td>0.0</td>\n",
              "      <td>0.0</td>\n",
              "      <td>0.0</td>\n",
              "      <td>0.0</td>\n",
              "      <td>0.0</td>\n",
              "      <td>49.0</td>\n",
              "      <td>28.0</td>\n",
              "    </tr>\n",
              "    <tr>\n",
              "      <th>3</th>\n",
              "      <td>2021/04/01</td>\n",
              "      <td>14:21:54</td>\n",
              "      <td>231.40</td>\n",
              "      <td>0.07</td>\n",
              "      <td>0.0</td>\n",
              "      <td>0.00</td>\n",
              "      <td>0.04</td>\n",
              "      <td>0.08</td>\n",
              "      <td>0.05</td>\n",
              "      <td>-2.0</td>\n",
              "      <td>...</td>\n",
              "      <td>-0.0</td>\n",
              "      <td>-0.31</td>\n",
              "      <td>1.23</td>\n",
              "      <td>0.0</td>\n",
              "      <td>0.0</td>\n",
              "      <td>0.0</td>\n",
              "      <td>0.0</td>\n",
              "      <td>0.0</td>\n",
              "      <td>49.0</td>\n",
              "      <td>28.0</td>\n",
              "    </tr>\n",
              "    <tr>\n",
              "      <th>4</th>\n",
              "      <td>2021/04/01</td>\n",
              "      <td>14:21:54</td>\n",
              "      <td>231.35</td>\n",
              "      <td>0.07</td>\n",
              "      <td>0.0</td>\n",
              "      <td>0.03</td>\n",
              "      <td>0.04</td>\n",
              "      <td>0.02</td>\n",
              "      <td>0.12</td>\n",
              "      <td>-2.0</td>\n",
              "      <td>...</td>\n",
              "      <td>-0.0</td>\n",
              "      <td>-0.12</td>\n",
              "      <td>1.49</td>\n",
              "      <td>0.0</td>\n",
              "      <td>0.0</td>\n",
              "      <td>0.0</td>\n",
              "      <td>0.0</td>\n",
              "      <td>0.0</td>\n",
              "      <td>49.0</td>\n",
              "      <td>28.0</td>\n",
              "    </tr>\n",
              "    <tr>\n",
              "      <th>...</th>\n",
              "      <td>...</td>\n",
              "      <td>...</td>\n",
              "      <td>...</td>\n",
              "      <td>...</td>\n",
              "      <td>...</td>\n",
              "      <td>...</td>\n",
              "      <td>...</td>\n",
              "      <td>...</td>\n",
              "      <td>...</td>\n",
              "      <td>...</td>\n",
              "      <td>...</td>\n",
              "      <td>...</td>\n",
              "      <td>...</td>\n",
              "      <td>...</td>\n",
              "      <td>...</td>\n",
              "      <td>...</td>\n",
              "      <td>...</td>\n",
              "      <td>...</td>\n",
              "      <td>...</td>\n",
              "      <td>...</td>\n",
              "      <td>...</td>\n",
              "    </tr>\n",
              "    <tr>\n",
              "      <th>440545</th>\n",
              "      <td>2021/04/03</td>\n",
              "      <td>07:08:09</td>\n",
              "      <td>233.17</td>\n",
              "      <td>0.07</td>\n",
              "      <td>0.0</td>\n",
              "      <td>0.01</td>\n",
              "      <td>0.00</td>\n",
              "      <td>0.06</td>\n",
              "      <td>0.29</td>\n",
              "      <td>-2.0</td>\n",
              "      <td>...</td>\n",
              "      <td>-0.0</td>\n",
              "      <td>-0.96</td>\n",
              "      <td>0.94</td>\n",
              "      <td>0.0</td>\n",
              "      <td>0.0</td>\n",
              "      <td>0.0</td>\n",
              "      <td>0.0</td>\n",
              "      <td>0.0</td>\n",
              "      <td>49.0</td>\n",
              "      <td>28.0</td>\n",
              "    </tr>\n",
              "    <tr>\n",
              "      <th>440546</th>\n",
              "      <td>2021/04/03</td>\n",
              "      <td>07:08:10</td>\n",
              "      <td>233.16</td>\n",
              "      <td>0.07</td>\n",
              "      <td>0.0</td>\n",
              "      <td>0.00</td>\n",
              "      <td>0.02</td>\n",
              "      <td>0.09</td>\n",
              "      <td>0.44</td>\n",
              "      <td>-2.0</td>\n",
              "      <td>...</td>\n",
              "      <td>-0.0</td>\n",
              "      <td>-1.00</td>\n",
              "      <td>0.81</td>\n",
              "      <td>0.0</td>\n",
              "      <td>0.0</td>\n",
              "      <td>0.0</td>\n",
              "      <td>0.0</td>\n",
              "      <td>0.0</td>\n",
              "      <td>49.0</td>\n",
              "      <td>28.0</td>\n",
              "    </tr>\n",
              "    <tr>\n",
              "      <th>440547</th>\n",
              "      <td>2021/04/03</td>\n",
              "      <td>07:08:10</td>\n",
              "      <td>233.25</td>\n",
              "      <td>0.07</td>\n",
              "      <td>0.0</td>\n",
              "      <td>0.03</td>\n",
              "      <td>0.06</td>\n",
              "      <td>0.04</td>\n",
              "      <td>0.16</td>\n",
              "      <td>-2.0</td>\n",
              "      <td>...</td>\n",
              "      <td>-0.0</td>\n",
              "      <td>-0.35</td>\n",
              "      <td>0.79</td>\n",
              "      <td>0.0</td>\n",
              "      <td>0.0</td>\n",
              "      <td>0.0</td>\n",
              "      <td>0.0</td>\n",
              "      <td>0.0</td>\n",
              "      <td>49.0</td>\n",
              "      <td>28.0</td>\n",
              "    </tr>\n",
              "    <tr>\n",
              "      <th>440548</th>\n",
              "      <td>2021/04/03</td>\n",
              "      <td>07:08:10</td>\n",
              "      <td>233.26</td>\n",
              "      <td>0.07</td>\n",
              "      <td>0.0</td>\n",
              "      <td>0.03</td>\n",
              "      <td>0.04</td>\n",
              "      <td>0.01</td>\n",
              "      <td>0.03</td>\n",
              "      <td>-2.0</td>\n",
              "      <td>...</td>\n",
              "      <td>-0.0</td>\n",
              "      <td>-0.33</td>\n",
              "      <td>0.80</td>\n",
              "      <td>0.0</td>\n",
              "      <td>0.0</td>\n",
              "      <td>0.0</td>\n",
              "      <td>0.0</td>\n",
              "      <td>0.0</td>\n",
              "      <td>49.0</td>\n",
              "      <td>28.0</td>\n",
              "    </tr>\n",
              "    <tr>\n",
              "      <th>440549</th>\n",
              "      <td>2021/04/03</td>\n",
              "      <td>07:08:11</td>\n",
              "      <td>233.19</td>\n",
              "      <td>0.07</td>\n",
              "      <td>0.0</td>\n",
              "      <td>0.02</td>\n",
              "      <td>0.10</td>\n",
              "      <td>0.02</td>\n",
              "      <td>0.07</td>\n",
              "      <td>-2.0</td>\n",
              "      <td>...</td>\n",
              "      <td>-0.0</td>\n",
              "      <td>-0.53</td>\n",
              "      <td>0.74</td>\n",
              "      <td>0.0</td>\n",
              "      <td>0.0</td>\n",
              "      <td>0.0</td>\n",
              "      <td>0.0</td>\n",
              "      <td>0.0</td>\n",
              "      <td>49.0</td>\n",
              "      <td>28.0</td>\n",
              "    </tr>\n",
              "  </tbody>\n",
              "</table>\n",
              "<p>440550 rows × 33 columns</p>\n",
              "</div>\n",
              "    <div class=\"colab-df-buttons\">\n",
              "\n",
              "  <div class=\"colab-df-container\">\n",
              "    <button class=\"colab-df-convert\" onclick=\"convertToInteractive('df-8751b2aa-9b2f-4b76-8583-fa747a9296f7')\"\n",
              "            title=\"Convert this dataframe to an interactive table.\"\n",
              "            style=\"display:none;\">\n",
              "\n",
              "  <svg xmlns=\"http://www.w3.org/2000/svg\" height=\"24px\" viewBox=\"0 -960 960 960\">\n",
              "    <path d=\"M120-120v-720h720v720H120Zm60-500h600v-160H180v160Zm220 220h160v-160H400v160Zm0 220h160v-160H400v160ZM180-400h160v-160H180v160Zm440 0h160v-160H620v160ZM180-180h160v-160H180v160Zm440 0h160v-160H620v160Z\"/>\n",
              "  </svg>\n",
              "    </button>\n",
              "\n",
              "  <style>\n",
              "    .colab-df-container {\n",
              "      display:flex;\n",
              "      gap: 12px;\n",
              "    }\n",
              "\n",
              "    .colab-df-convert {\n",
              "      background-color: #E8F0FE;\n",
              "      border: none;\n",
              "      border-radius: 50%;\n",
              "      cursor: pointer;\n",
              "      display: none;\n",
              "      fill: #1967D2;\n",
              "      height: 32px;\n",
              "      padding: 0 0 0 0;\n",
              "      width: 32px;\n",
              "    }\n",
              "\n",
              "    .colab-df-convert:hover {\n",
              "      background-color: #E2EBFA;\n",
              "      box-shadow: 0px 1px 2px rgba(60, 64, 67, 0.3), 0px 1px 3px 1px rgba(60, 64, 67, 0.15);\n",
              "      fill: #174EA6;\n",
              "    }\n",
              "\n",
              "    .colab-df-buttons div {\n",
              "      margin-bottom: 4px;\n",
              "    }\n",
              "\n",
              "    [theme=dark] .colab-df-convert {\n",
              "      background-color: #3B4455;\n",
              "      fill: #D2E3FC;\n",
              "    }\n",
              "\n",
              "    [theme=dark] .colab-df-convert:hover {\n",
              "      background-color: #434B5C;\n",
              "      box-shadow: 0px 1px 3px 1px rgba(0, 0, 0, 0.15);\n",
              "      filter: drop-shadow(0px 1px 2px rgba(0, 0, 0, 0.3));\n",
              "      fill: #FFFFFF;\n",
              "    }\n",
              "  </style>\n",
              "\n",
              "    <script>\n",
              "      const buttonEl =\n",
              "        document.querySelector('#df-8751b2aa-9b2f-4b76-8583-fa747a9296f7 button.colab-df-convert');\n",
              "      buttonEl.style.display =\n",
              "        google.colab.kernel.accessAllowed ? 'block' : 'none';\n",
              "\n",
              "      async function convertToInteractive(key) {\n",
              "        const element = document.querySelector('#df-8751b2aa-9b2f-4b76-8583-fa747a9296f7');\n",
              "        const dataTable =\n",
              "          await google.colab.kernel.invokeFunction('convertToInteractive',\n",
              "                                                    [key], {});\n",
              "        if (!dataTable) return;\n",
              "\n",
              "        const docLinkHtml = 'Like what you see? Visit the ' +\n",
              "          '<a target=\"_blank\" href=https://colab.research.google.com/notebooks/data_table.ipynb>data table notebook</a>'\n",
              "          + ' to learn more about interactive tables.';\n",
              "        element.innerHTML = '';\n",
              "        dataTable['output_type'] = 'display_data';\n",
              "        await google.colab.output.renderOutput(dataTable, element);\n",
              "        const docLink = document.createElement('div');\n",
              "        docLink.innerHTML = docLinkHtml;\n",
              "        element.appendChild(docLink);\n",
              "      }\n",
              "    </script>\n",
              "  </div>\n",
              "\n",
              "\n",
              "<div id=\"df-4cc3ebf8-6fdf-4902-aced-3ae07f313aee\">\n",
              "  <button class=\"colab-df-quickchart\" onclick=\"quickchart('df-4cc3ebf8-6fdf-4902-aced-3ae07f313aee')\"\n",
              "            title=\"Suggest charts\"\n",
              "            style=\"display:none;\">\n",
              "\n",
              "<svg xmlns=\"http://www.w3.org/2000/svg\" height=\"24px\"viewBox=\"0 0 24 24\"\n",
              "     width=\"24px\">\n",
              "    <g>\n",
              "        <path d=\"M19 3H5c-1.1 0-2 .9-2 2v14c0 1.1.9 2 2 2h14c1.1 0 2-.9 2-2V5c0-1.1-.9-2-2-2zM9 17H7v-7h2v7zm4 0h-2V7h2v10zm4 0h-2v-4h2v4z\"/>\n",
              "    </g>\n",
              "</svg>\n",
              "  </button>\n",
              "\n",
              "<style>\n",
              "  .colab-df-quickchart {\n",
              "      --bg-color: #E8F0FE;\n",
              "      --fill-color: #1967D2;\n",
              "      --hover-bg-color: #E2EBFA;\n",
              "      --hover-fill-color: #174EA6;\n",
              "      --disabled-fill-color: #AAA;\n",
              "      --disabled-bg-color: #DDD;\n",
              "  }\n",
              "\n",
              "  [theme=dark] .colab-df-quickchart {\n",
              "      --bg-color: #3B4455;\n",
              "      --fill-color: #D2E3FC;\n",
              "      --hover-bg-color: #434B5C;\n",
              "      --hover-fill-color: #FFFFFF;\n",
              "      --disabled-bg-color: #3B4455;\n",
              "      --disabled-fill-color: #666;\n",
              "  }\n",
              "\n",
              "  .colab-df-quickchart {\n",
              "    background-color: var(--bg-color);\n",
              "    border: none;\n",
              "    border-radius: 50%;\n",
              "    cursor: pointer;\n",
              "    display: none;\n",
              "    fill: var(--fill-color);\n",
              "    height: 32px;\n",
              "    padding: 0;\n",
              "    width: 32px;\n",
              "  }\n",
              "\n",
              "  .colab-df-quickchart:hover {\n",
              "    background-color: var(--hover-bg-color);\n",
              "    box-shadow: 0 1px 2px rgba(60, 64, 67, 0.3), 0 1px 3px 1px rgba(60, 64, 67, 0.15);\n",
              "    fill: var(--button-hover-fill-color);\n",
              "  }\n",
              "\n",
              "  .colab-df-quickchart-complete:disabled,\n",
              "  .colab-df-quickchart-complete:disabled:hover {\n",
              "    background-color: var(--disabled-bg-color);\n",
              "    fill: var(--disabled-fill-color);\n",
              "    box-shadow: none;\n",
              "  }\n",
              "\n",
              "  .colab-df-spinner {\n",
              "    border: 2px solid var(--fill-color);\n",
              "    border-color: transparent;\n",
              "    border-bottom-color: var(--fill-color);\n",
              "    animation:\n",
              "      spin 1s steps(1) infinite;\n",
              "  }\n",
              "\n",
              "  @keyframes spin {\n",
              "    0% {\n",
              "      border-color: transparent;\n",
              "      border-bottom-color: var(--fill-color);\n",
              "      border-left-color: var(--fill-color);\n",
              "    }\n",
              "    20% {\n",
              "      border-color: transparent;\n",
              "      border-left-color: var(--fill-color);\n",
              "      border-top-color: var(--fill-color);\n",
              "    }\n",
              "    30% {\n",
              "      border-color: transparent;\n",
              "      border-left-color: var(--fill-color);\n",
              "      border-top-color: var(--fill-color);\n",
              "      border-right-color: var(--fill-color);\n",
              "    }\n",
              "    40% {\n",
              "      border-color: transparent;\n",
              "      border-right-color: var(--fill-color);\n",
              "      border-top-color: var(--fill-color);\n",
              "    }\n",
              "    60% {\n",
              "      border-color: transparent;\n",
              "      border-right-color: var(--fill-color);\n",
              "    }\n",
              "    80% {\n",
              "      border-color: transparent;\n",
              "      border-right-color: var(--fill-color);\n",
              "      border-bottom-color: var(--fill-color);\n",
              "    }\n",
              "    90% {\n",
              "      border-color: transparent;\n",
              "      border-bottom-color: var(--fill-color);\n",
              "    }\n",
              "  }\n",
              "</style>\n",
              "\n",
              "  <script>\n",
              "    async function quickchart(key) {\n",
              "      const quickchartButtonEl =\n",
              "        document.querySelector('#' + key + ' button');\n",
              "      quickchartButtonEl.disabled = true;  // To prevent multiple clicks.\n",
              "      quickchartButtonEl.classList.add('colab-df-spinner');\n",
              "      try {\n",
              "        const charts = await google.colab.kernel.invokeFunction(\n",
              "            'suggestCharts', [key], {});\n",
              "      } catch (error) {\n",
              "        console.error('Error during call to suggestCharts:', error);\n",
              "      }\n",
              "      quickchartButtonEl.classList.remove('colab-df-spinner');\n",
              "      quickchartButtonEl.classList.add('colab-df-quickchart-complete');\n",
              "    }\n",
              "    (() => {\n",
              "      let quickchartButtonEl =\n",
              "        document.querySelector('#df-4cc3ebf8-6fdf-4902-aced-3ae07f313aee button');\n",
              "      quickchartButtonEl.style.display =\n",
              "        google.colab.kernel.accessAllowed ? 'block' : 'none';\n",
              "    })();\n",
              "  </script>\n",
              "</div>\n",
              "\n",
              "  <div id=\"id_e15a5f20-d4c0-4f84-9b29-8a8a4d499bf3\">\n",
              "    <style>\n",
              "      .colab-df-generate {\n",
              "        background-color: #E8F0FE;\n",
              "        border: none;\n",
              "        border-radius: 50%;\n",
              "        cursor: pointer;\n",
              "        display: none;\n",
              "        fill: #1967D2;\n",
              "        height: 32px;\n",
              "        padding: 0 0 0 0;\n",
              "        width: 32px;\n",
              "      }\n",
              "\n",
              "      .colab-df-generate:hover {\n",
              "        background-color: #E2EBFA;\n",
              "        box-shadow: 0px 1px 2px rgba(60, 64, 67, 0.3), 0px 1px 3px 1px rgba(60, 64, 67, 0.15);\n",
              "        fill: #174EA6;\n",
              "      }\n",
              "\n",
              "      [theme=dark] .colab-df-generate {\n",
              "        background-color: #3B4455;\n",
              "        fill: #D2E3FC;\n",
              "      }\n",
              "\n",
              "      [theme=dark] .colab-df-generate:hover {\n",
              "        background-color: #434B5C;\n",
              "        box-shadow: 0px 1px 3px 1px rgba(0, 0, 0, 0.15);\n",
              "        filter: drop-shadow(0px 1px 2px rgba(0, 0, 0, 0.3));\n",
              "        fill: #FFFFFF;\n",
              "      }\n",
              "    </style>\n",
              "    <button class=\"colab-df-generate\" onclick=\"generateWithVariable('datos_hardadhoc')\"\n",
              "            title=\"Generate code using this dataframe.\"\n",
              "            style=\"display:none;\">\n",
              "\n",
              "  <svg xmlns=\"http://www.w3.org/2000/svg\" height=\"24px\"viewBox=\"0 0 24 24\"\n",
              "       width=\"24px\">\n",
              "    <path d=\"M7,19H8.4L18.45,9,17,7.55,7,17.6ZM5,21V16.75L18.45,3.32a2,2,0,0,1,2.83,0l1.4,1.43a1.91,1.91,0,0,1,.58,1.4,1.91,1.91,0,0,1-.58,1.4L9.25,21ZM18.45,9,17,7.55Zm-12,3A5.31,5.31,0,0,0,4.9,8.1,5.31,5.31,0,0,0,1,6.5,5.31,5.31,0,0,0,4.9,4.9,5.31,5.31,0,0,0,6.5,1,5.31,5.31,0,0,0,8.1,4.9,5.31,5.31,0,0,0,12,6.5,5.46,5.46,0,0,0,6.5,12Z\"/>\n",
              "  </svg>\n",
              "    </button>\n",
              "    <script>\n",
              "      (() => {\n",
              "      const buttonEl =\n",
              "        document.querySelector('#id_e15a5f20-d4c0-4f84-9b29-8a8a4d499bf3 button.colab-df-generate');\n",
              "      buttonEl.style.display =\n",
              "        google.colab.kernel.accessAllowed ? 'block' : 'none';\n",
              "\n",
              "      buttonEl.onclick = () => {\n",
              "        google.colab.notebook.generateWithVariable('datos_hardadhoc');\n",
              "      }\n",
              "      })();\n",
              "    </script>\n",
              "  </div>\n",
              "\n",
              "    </div>\n",
              "  </div>\n"
            ],
            "application/vnd.google.colaboratory.intrinsic+json": {
              "type": "dataframe",
              "variable_name": "datos_hardadhoc"
            }
          },
          "metadata": {},
          "execution_count": 14
        }
      ]
    },
    {
      "cell_type": "code",
      "metadata": {
        "id": "pMJnHP2uJnZ8",
        "colab": {
          "base_uri": "https://localhost:8080/"
        },
        "outputId": "72069833-688b-4c68-a5c3-b1950adaa344"
      },
      "source": [
        "print(datos_hardadhoc.isnull().sum())"
      ],
      "execution_count": null,
      "outputs": [
        {
          "output_type": "stream",
          "name": "stdout",
          "text": [
            "DIA            0\n",
            "HORA           0\n",
            "UrmsA(V)       0\n",
            "UrmsB(V)       0\n",
            "UrmsC(V)       0\n",
            "IrmsA(A)       0\n",
            "IrmsB(A)       0\n",
            "IrmsC(A)       0\n",
            "IrmsN(A)       0\n",
            "PmeanA(W)      0\n",
            "PmeanB(W)      0\n",
            "PmeanC(W)      0\n",
            "PmeanT(W)      0\n",
            "QmeanA(VAR)    0\n",
            "QmeanB(VAR)    0\n",
            "QmeanC(VAR)    0\n",
            "QmeanT(VAR)    0\n",
            "SmeanA(VA)     0\n",
            "SmeanB(VA)     0\n",
            "SmeanC(VA)     0\n",
            "SmeanT(VA)     0\n",
            "PFmeanA        0\n",
            "PFmeanB        0\n",
            "PFmeanC        0\n",
            "PFmeanT        0\n",
            "THDNUA(%)      0\n",
            "THDNUB(%)      0\n",
            "THDNUC(%)      0\n",
            "THDNIA(%)      0\n",
            "THDNIB(%)      0\n",
            "THDNIC(%)      0\n",
            "Frec.(Hz)      0\n",
            "Temp.(ºC)      0\n",
            "dtype: int64\n"
          ]
        }
      ]
    },
    {
      "cell_type": "code",
      "metadata": {
        "id": "h2j38K68JvnL",
        "colab": {
          "base_uri": "https://localhost:8080/",
          "height": 635
        },
        "outputId": "c5230d67-3b7d-4f51-b9ae-c754c8756d0f"
      },
      "source": [
        "#plt.figure(figsize=(19*2,17.8))\n",
        "plt.plot(datos_hardadhoc.index[0:150000],datos_hardadhoc['PmeanA(W)'][0:150000], label='hard adhoc')\n",
        "plt.plot(UNIT.index[0:150000],UNIT.P_AVG[0:150000], label='unit 283A')\n",
        "#plt.xlim([200000, 200005])\n",
        "plt.xlabel('samples')\n",
        "plt.ylabel('P[W]')\n",
        "#plt.title('Fridge active power [W]')\n",
        "plt.grid()\n",
        "plt.legend()\n",
        "plt.savefig('Fridge active power [W]_unit_hadhadoc')\n",
        "\n"
      ],
      "execution_count": null,
      "outputs": [
        {
          "output_type": "error",
          "ename": "NameError",
          "evalue": "name 'UNIT' is not defined",
          "traceback": [
            "\u001b[0;31m---------------------------------------------------------------------------\u001b[0m",
            "\u001b[0;31mNameError\u001b[0m                                 Traceback (most recent call last)",
            "\u001b[0;32m<ipython-input-16-d110bcccba66>\u001b[0m in \u001b[0;36m<cell line: 0>\u001b[0;34m()\u001b[0m\n\u001b[1;32m      1\u001b[0m \u001b[0;31m#plt.figure(figsize=(19*2,17.8))\u001b[0m\u001b[0;34m\u001b[0m\u001b[0;34m\u001b[0m\u001b[0m\n\u001b[1;32m      2\u001b[0m \u001b[0mplt\u001b[0m\u001b[0;34m.\u001b[0m\u001b[0mplot\u001b[0m\u001b[0;34m(\u001b[0m\u001b[0mdatos_hardadhoc\u001b[0m\u001b[0;34m.\u001b[0m\u001b[0mindex\u001b[0m\u001b[0;34m[\u001b[0m\u001b[0;36m0\u001b[0m\u001b[0;34m:\u001b[0m\u001b[0;36m150000\u001b[0m\u001b[0;34m]\u001b[0m\u001b[0;34m,\u001b[0m\u001b[0mdatos_hardadhoc\u001b[0m\u001b[0;34m[\u001b[0m\u001b[0;34m'PmeanA(W)'\u001b[0m\u001b[0;34m]\u001b[0m\u001b[0;34m[\u001b[0m\u001b[0;36m0\u001b[0m\u001b[0;34m:\u001b[0m\u001b[0;36m150000\u001b[0m\u001b[0;34m]\u001b[0m\u001b[0;34m,\u001b[0m \u001b[0mlabel\u001b[0m\u001b[0;34m=\u001b[0m\u001b[0;34m'hard adhoc'\u001b[0m\u001b[0;34m)\u001b[0m\u001b[0;34m\u001b[0m\u001b[0;34m\u001b[0m\u001b[0m\n\u001b[0;32m----> 3\u001b[0;31m \u001b[0mplt\u001b[0m\u001b[0;34m.\u001b[0m\u001b[0mplot\u001b[0m\u001b[0;34m(\u001b[0m\u001b[0mUNIT\u001b[0m\u001b[0;34m.\u001b[0m\u001b[0mindex\u001b[0m\u001b[0;34m[\u001b[0m\u001b[0;36m0\u001b[0m\u001b[0;34m:\u001b[0m\u001b[0;36m150000\u001b[0m\u001b[0;34m]\u001b[0m\u001b[0;34m,\u001b[0m\u001b[0mUNIT\u001b[0m\u001b[0;34m.\u001b[0m\u001b[0mP_AVG\u001b[0m\u001b[0;34m[\u001b[0m\u001b[0;36m0\u001b[0m\u001b[0;34m:\u001b[0m\u001b[0;36m150000\u001b[0m\u001b[0;34m]\u001b[0m\u001b[0;34m,\u001b[0m \u001b[0mlabel\u001b[0m\u001b[0;34m=\u001b[0m\u001b[0;34m'unit 283A'\u001b[0m\u001b[0;34m)\u001b[0m\u001b[0;34m\u001b[0m\u001b[0;34m\u001b[0m\u001b[0m\n\u001b[0m\u001b[1;32m      4\u001b[0m \u001b[0;31m#plt.xlim([200000, 200005])\u001b[0m\u001b[0;34m\u001b[0m\u001b[0;34m\u001b[0m\u001b[0m\n\u001b[1;32m      5\u001b[0m \u001b[0mplt\u001b[0m\u001b[0;34m.\u001b[0m\u001b[0mxlabel\u001b[0m\u001b[0;34m(\u001b[0m\u001b[0;34m'samples'\u001b[0m\u001b[0;34m)\u001b[0m\u001b[0;34m\u001b[0m\u001b[0;34m\u001b[0m\u001b[0m\n",
            "\u001b[0;31mNameError\u001b[0m: name 'UNIT' is not defined"
          ]
        },
        {
          "output_type": "display_data",
          "data": {
            "text/plain": [
              "<Figure size 640x480 with 1 Axes>"
            ],
            "image/png": "[encoded data removed]"
          },
          "metadata": {}
        }
      ]
    },
    {
      "cell_type": "code",
      "source": [
        "import numpy as np\n",
        "import matplotlib.pyplot as plt\n",
        "\n",
        "# Frecuencia fundamental\n",
        "f0 = 440  # Hz (La 4)\n",
        "\n",
        "# Generar armónicos (hasta el 10° armónico)\n",
        "n_armonicos = 10\n",
        "arm_precisos = np.array([f0 * (i + 1) for i in range(n_armonicos)])\n",
        "arm_menos_precisos = arm_precisos + np.random.normal(0, 5, n_armonicos)  # Añadimos ruido\n",
        "\n",
        "# Intensidad de los armónicos (decay logarítmico para el preciso)\n",
        "int_preciso = 1 / (np.arange(1, n_armonicos + 1) ** 1.2)\n",
        "int_menos_preciso = int_preciso * np.random.uniform(0.8, 1.2, n_armonicos)  # Variación en amplitud\n",
        "\n",
        "# Gráfica del espectro\n",
        "fig, ax = plt.subplots(1, 2, figsize=(12, 6))\n",
        "\n",
        "# Espectro preciso\n",
        "ax[0].stem(arm_precisos, int_preciso, basefmt=\" \", use_line_collection=True)\n",
        "ax[0].set_title(\"Instrumento Preciso\")\n",
        "ax[0].set_xlabel(\"Frecuencia (Hz)\")\n",
        "ax[0].set_ylabel(\"Intensidad\")\n",
        "ax[0].set_ylim(0, 1)\n",
        "ax[0].set_xlim(0, 5000)\n",
        "\n",
        "# Espectro menos preciso\n",
        "ax[1].stem(arm_menos_precisos, int_menos_preciso, basefmt=\" \", use_line_collection=True)\n",
        "ax[1].set_title(\"Instrumento Menos Preciso\")\n",
        "ax[1].set_xlabel(\"Frecuencia (Hz)\")\n",
        "ax[1].set_ylabel(\"Intensidad\")\n",
        "ax[1].set_ylim(0, 1)\n",
        "ax[1].set_xlim(0, 5000)\n",
        "\n",
        "plt.tight_layout()\n",
        "plt.show()"
      ],
      "metadata": {
        "colab": {
          "base_uri": "https://localhost:8080/",
          "height": 862
        },
        "id": "X-HptZfnSgv8",
        "outputId": "602fb8b9-2b3a-4b62-bb68-c7f2a8560874"
      },
      "execution_count": null,
      "outputs": [
        {
          "output_type": "error",
          "ename": "TypeError",
          "evalue": "Axes.stem() got an unexpected keyword argument 'use_line_collection'",
          "traceback": [
            "\u001b[0;31m---------------------------------------------------------------------------\u001b[0m",
            "\u001b[0;31mTypeError\u001b[0m                                 Traceback (most recent call last)",
            "\u001b[0;32m<ipython-input-17-2721ae876fdd>\u001b[0m in \u001b[0;36m<cell line: 0>\u001b[0;34m()\u001b[0m\n\u001b[1;32m     18\u001b[0m \u001b[0;34m\u001b[0m\u001b[0m\n\u001b[1;32m     19\u001b[0m \u001b[0;31m# Espectro preciso\u001b[0m\u001b[0;34m\u001b[0m\u001b[0;34m\u001b[0m\u001b[0m\n\u001b[0;32m---> 20\u001b[0;31m \u001b[0max\u001b[0m\u001b[0;34m[\u001b[0m\u001b[0;36m0\u001b[0m\u001b[0;34m]\u001b[0m\u001b[0;34m.\u001b[0m\u001b[0mstem\u001b[0m\u001b[0;34m(\u001b[0m\u001b[0marm_precisos\u001b[0m\u001b[0;34m,\u001b[0m \u001b[0mint_preciso\u001b[0m\u001b[0;34m,\u001b[0m \u001b[0mbasefmt\u001b[0m\u001b[0;34m=\u001b[0m\u001b[0;34m\" \"\u001b[0m\u001b[0;34m,\u001b[0m \u001b[0muse_line_collection\u001b[0m\u001b[0;34m=\u001b[0m\u001b[0;32mTrue\u001b[0m\u001b[0;34m)\u001b[0m\u001b[0;34m\u001b[0m\u001b[0;34m\u001b[0m\u001b[0m\n\u001b[0m\u001b[1;32m     21\u001b[0m \u001b[0max\u001b[0m\u001b[0;34m[\u001b[0m\u001b[0;36m0\u001b[0m\u001b[0;34m]\u001b[0m\u001b[0;34m.\u001b[0m\u001b[0mset_title\u001b[0m\u001b[0;34m(\u001b[0m\u001b[0;34m\"Instrumento Preciso\"\u001b[0m\u001b[0;34m)\u001b[0m\u001b[0;34m\u001b[0m\u001b[0;34m\u001b[0m\u001b[0m\n\u001b[1;32m     22\u001b[0m \u001b[0max\u001b[0m\u001b[0;34m[\u001b[0m\u001b[0;36m0\u001b[0m\u001b[0;34m]\u001b[0m\u001b[0;34m.\u001b[0m\u001b[0mset_xlabel\u001b[0m\u001b[0;34m(\u001b[0m\u001b[0;34m\"Frecuencia (Hz)\"\u001b[0m\u001b[0;34m)\u001b[0m\u001b[0;34m\u001b[0m\u001b[0;34m\u001b[0m\u001b[0m\n",
            "\u001b[0;32m/usr/local/lib/python3.11/dist-packages/matplotlib/__init__.py\u001b[0m in \u001b[0;36minner\u001b[0;34m(ax, data, *args, **kwargs)\u001b[0m\n\u001b[1;32m   1519\u001b[0m     \u001b[0;32mdef\u001b[0m \u001b[0minner\u001b[0m\u001b[0;34m(\u001b[0m\u001b[0max\u001b[0m\u001b[0;34m,\u001b[0m \u001b[0;34m*\u001b[0m\u001b[0margs\u001b[0m\u001b[0;34m,\u001b[0m \u001b[0mdata\u001b[0m\u001b[0;34m=\u001b[0m\u001b[0;32mNone\u001b[0m\u001b[0;34m,\u001b[0m \u001b[0;34m**\u001b[0m\u001b[0mkwargs\u001b[0m\u001b[0;34m)\u001b[0m\u001b[0;34m:\u001b[0m\u001b[0;34m\u001b[0m\u001b[0;34m\u001b[0m\u001b[0m\n\u001b[1;32m   1520\u001b[0m         \u001b[0;32mif\u001b[0m \u001b[0mdata\u001b[0m \u001b[0;32mis\u001b[0m \u001b[0;32mNone\u001b[0m\u001b[0;34m:\u001b[0m\u001b[0;34m\u001b[0m\u001b[0;34m\u001b[0m\u001b[0m\n\u001b[0;32m-> 1521\u001b[0;31m             return func(\n\u001b[0m\u001b[1;32m   1522\u001b[0m                 \u001b[0max\u001b[0m\u001b[0;34m,\u001b[0m\u001b[0;34m\u001b[0m\u001b[0;34m\u001b[0m\u001b[0m\n\u001b[1;32m   1523\u001b[0m                 \u001b[0;34m*\u001b[0m\u001b[0mmap\u001b[0m\u001b[0;34m(\u001b[0m\u001b[0mcbook\u001b[0m\u001b[0;34m.\u001b[0m\u001b[0msanitize_sequence\u001b[0m\u001b[0;34m,\u001b[0m \u001b[0margs\u001b[0m\u001b[0;34m)\u001b[0m\u001b[0;34m,\u001b[0m\u001b[0;34m\u001b[0m\u001b[0;34m\u001b[0m\u001b[0m\n",
            "\u001b[0;31mTypeError\u001b[0m: Axes.stem() got an unexpected keyword argument 'use_line_collection'"
          ]
        },
        {
          "output_type": "display_data",
          "data": {
            "text/plain": [
              "<Figure size 1200x600 with 2 Axes>"
            ],
            "image/png": "[encoded data removed]"
          },
          "metadata": {}
        }
      ]
    },
    {
      "cell_type": "code",
      "source": [
        "import numpy as np\n",
        "import matplotlib.pyplot as plt\n",
        "\n",
        "# Frecuencia fundamental\n",
        "f0 = 440  # Hz (La 4)\n",
        "\n",
        "# Generar armónicos (hasta el 10° armónico)\n",
        "n_armonicos = 10\n",
        "arm_precisos = np.array([f0 * (i + 1) for i in range(n_armonicos)])\n",
        "arm_menos_precisos = arm_precisos + np.random.normal(0, 5, n_armonicos)  # Añadimos ruido\n",
        "\n",
        "# Intensidad de los armónicos (decay logarítmico para el preciso)\n",
        "int_preciso = 1 / (np.arange(1, n_armonicos + 1) ** 1.2)\n",
        "int_menos_preciso = int_preciso * np.random.uniform(0.8, 1.2, n_armonicos)  # Variación en amplitud\n",
        "\n",
        "# Gráfica del espectro superpuesto\n",
        "plt.figure(figsize=(10, 6))\n",
        "\n",
        "# Espectro preciso\n",
        "plt.stem(arm_precisos, int_preciso, basefmt=\" \", linefmt='b-', markerfmt='bo', label=\"UNIT-283A\", use_line_collection=True)\n",
        "\n",
        "# Espectro menos preciso\n",
        "plt.stem(arm_menos_precisos, int_menos_preciso, basefmt=\" \", linefmt='r--', markerfmt='ro', label=\"Hard ad-hoc\", use_line_collection=True)\n",
        "\n",
        "# Configuraciones del gráfico\n",
        "#plt.title(\"Comparación de Espectros Armónicos: Preciso vs Menos Preciso\")\n",
        "#plt.xlabel(\"Frecuencia (Hz)\")\n",
        "plt.ylabel(\"Intensidad [A]\")\n",
        "plt.ylim(0, 1)\n",
        "plt.xlim(0, 5000)\n",
        "plt.legend()\n",
        "plt.grid(True)\n",
        "\n",
        "plt.show()"
      ],
      "metadata": {
        "id": "LLcJY-yfS4MT"
      },
      "execution_count": null,
      "outputs": []
    },
    {
      "cell_type": "markdown",
      "metadata": {
        "id": "81Bq1anAG1Jt"
      },
      "source": [
        "Zoom en los valles"
      ]
    },
    {
      "cell_type": "code",
      "metadata": {
        "id": "qw_PsWQjJ-DW"
      },
      "source": [
        "zoom=datos_hardadhoc[440000:440100]"
      ],
      "execution_count": null,
      "outputs": []
    },
    {
      "cell_type": "code",
      "metadata": {
        "id": "Lv2X1VcoKsNY"
      },
      "source": [
        "plt.figure(figsize=(19*2,17.8))\n",
        "plt.plot(zoom.index,zoom['IrmsA(A)'])"
      ],
      "execution_count": null,
      "outputs": []
    },
    {
      "cell_type": "code",
      "metadata": {
        "id": "c2R1Lih4LwKj"
      },
      "source": [
        "datos_hardadhoc[440000:440100].describe()"
      ],
      "execution_count": null,
      "outputs": []
    },
    {
      "cell_type": "code",
      "metadata": {
        "id": "xJ6hbsdLM-Vl"
      },
      "source": [
        "zoom2=datos_hardadhoc[60000:60100]\n",
        "zoom2"
      ],
      "execution_count": null,
      "outputs": []
    },
    {
      "cell_type": "code",
      "metadata": {
        "id": "o7RHrtygM-09"
      },
      "source": [
        "plt.figure(figsize=(19*2,17.8))\n",
        "plt.plot(zoom2.index, zoom2['IrmsA(A)'])"
      ],
      "execution_count": null,
      "outputs": []
    },
    {
      "cell_type": "code",
      "metadata": {
        "id": "zUPOAVXjOmX-"
      },
      "source": [
        "zoom2.describe()"
      ],
      "execution_count": null,
      "outputs": []
    },
    {
      "cell_type": "markdown",
      "metadata": {
        "id": "q4ZmA_PdRFSP"
      },
      "source": [
        "UNIT-UT283 A"
      ]
    },
    {
      "cell_type": "markdown",
      "metadata": {
        "id": "bx6ndzhTS0hW"
      },
      "source": [
        "* En dos partes por la capacidad del progrma propietario UT283A"
      ]
    },
    {
      "cell_type": "code",
      "metadata": {
        "id": "VpZSy4yxKiuV",
        "colab": {
          "base_uri": "https://localhost:8080/",
          "height": 597
        },
        "outputId": "b2a3b2bc-5697-49a7-bf41-190015d7833a"
      },
      "source": [
        "datos_unit_1=pd.read_csv('/content/drive/MyDrive/Doctorado CyT, Maxi/DataSet - doctorado/Heladera_Maxihouse/UNIT-UT283A/1/Base.csv', header=0, delimiter=',')\n",
        "datos_unit_1"
      ],
      "execution_count": null,
      "outputs": [
        {
          "output_type": "execute_result",
          "data": {
            "text/plain": [
              "                    Time    URMS_AVG    URMS_MAX    URMS_MIN  IRMS_AVG  \\\n",
              "0      1/1/2000 00:57:08  231.154114  231.154114  231.154114  0.015352   \n",
              "1      1/1/2000 00:57:09  230.909515  230.909515  230.909515  0.015353   \n",
              "2      1/1/2000 00:57:10  231.085922  231.085922  231.085922  0.015367   \n",
              "3      1/1/2000 00:57:11  231.291763  231.291763  231.291763  0.015343   \n",
              "4      1/1/2000 00:57:12  231.285248  231.285248  231.285248  0.015337   \n",
              "...                  ...         ...         ...         ...       ...   \n",
              "86568  2/1/2000 00:59:56  228.437714  228.437714  228.437714  0.774321   \n",
              "86569  2/1/2000 00:59:57  228.383820  228.383820  228.383820  0.772741   \n",
              "86570  2/1/2000 00:59:58  228.209381  228.209381  228.209381  0.772758   \n",
              "86571  2/1/2000 00:59:59  227.333511  227.333511  227.333511  0.766831   \n",
              "86572  2/1/2000 01:00:00  227.351746  227.351746  227.351746  0.768458   \n",
              "\n",
              "       IRMS_MAX  IRMS_MIN   FREQ_AVG   FREQ_MAX   FREQ_MIN  ...     Uac_MIN  \\\n",
              "0      0.015352  0.015352  49.988102  49.988102  49.988102  ...  231.136841   \n",
              "1      0.015353  0.015353  49.988701  49.988701  49.988701  ...  230.792023   \n",
              "2      0.015367  0.015367  49.988422  49.988422  49.988422  ...  231.144302   \n",
              "3      0.015343  0.015343  49.979561  49.979561  49.979561  ...  231.222092   \n",
              "4      0.015337  0.015337  49.979939  49.979939  49.979939  ...  231.228958   \n",
              "...         ...       ...        ...        ...        ...  ...         ...   \n",
              "86568  0.774321  0.774321  49.996449  49.996449  49.996449  ...  228.370575   \n",
              "86569  0.772741  0.772741  49.996357  49.996357  49.996357  ...  228.282410   \n",
              "86570  0.772758  0.772758  49.996250  49.996250  49.996250  ...  228.035492   \n",
              "86571  0.766831  0.766831  49.996498  49.996498  49.996498  ...  227.258224   \n",
              "86572  0.768458  0.768458  49.996937  49.996937  49.996937  ...  227.293320   \n",
              "\n",
              "        Idc_AVG   Idc_MAX   Idc_MIN   Iac_AVG   Iac_MAX   Iac_MIN     KF_AVG  \\\n",
              "0     -0.000631 -0.000631 -0.000631  0.013176  0.013176  0.013176  10.358896   \n",
              "1     -0.000621 -0.000621 -0.000621  0.013216  0.013216  0.013216   9.411060   \n",
              "2     -0.000673 -0.000673 -0.000673  0.013153  0.013153  0.013153   9.985609   \n",
              "3     -0.000613 -0.000613 -0.000613  0.013166  0.013166  0.013166   9.974781   \n",
              "4     -0.000587 -0.000587 -0.000587  0.013154  0.013154  0.013154   9.257197   \n",
              "...         ...       ...       ...       ...       ...       ...        ...   \n",
              "86568 -0.000305 -0.000305 -0.000305  0.777279  0.777279  0.777279   1.051409   \n",
              "86569 -0.000663 -0.000663 -0.000663  0.765713  0.765713  0.765713   1.051115   \n",
              "86570 -0.000747 -0.000747 -0.000747  0.765713  0.765713  0.765713   1.051115   \n",
              "86571 -0.000451 -0.000451 -0.000451  0.763420  0.763420  0.763420   1.057979   \n",
              "86572 -0.000526 -0.000526 -0.000526  0.768306  0.768306  0.768306   1.056795   \n",
              "\n",
              "          KF_MAX     KF_MIN  \n",
              "0      10.358896  10.358896  \n",
              "1       9.411060   9.411060  \n",
              "2       9.985609   9.985609  \n",
              "3       9.974781   9.974781  \n",
              "4       9.257197   9.257197  \n",
              "...          ...        ...  \n",
              "86568   1.051409   1.051409  \n",
              "86569   1.051115   1.051115  \n",
              "86570   1.051115   1.051115  \n",
              "86571   1.057979   1.057979  \n",
              "86572   1.056795   1.056795  \n",
              "\n",
              "[86573 rows x 52 columns]"
            ],
            "text/html": [
              "\n",
              "  <div id=\"df-2d269385-a83a-4812-a689-b6ec7ab39692\" class=\"colab-df-container\">\n",
              "    <div>\n",
              "<style scoped>\n",
              "    .dataframe tbody tr th:only-of-type {\n",
              "        vertical-align: middle;\n",
              "    }\n",
              "\n",
              "    .dataframe tbody tr th {\n",
              "        vertical-align: top;\n",
              "    }\n",
              "\n",
              "    .dataframe thead th {\n",
              "        text-align: right;\n",
              "    }\n",
              "</style>\n",
              "<table border=\"1\" class=\"dataframe\">\n",
              "  <thead>\n",
              "    <tr style=\"text-align: right;\">\n",
              "      <th></th>\n",
              "      <th>Time</th>\n",
              "      <th>URMS_AVG</th>\n",
              "      <th>URMS_MAX</th>\n",
              "      <th>URMS_MIN</th>\n",
              "      <th>IRMS_AVG</th>\n",
              "      <th>IRMS_MAX</th>\n",
              "      <th>IRMS_MIN</th>\n",
              "      <th>FREQ_AVG</th>\n",
              "      <th>FREQ_MAX</th>\n",
              "      <th>FREQ_MIN</th>\n",
              "      <th>...</th>\n",
              "      <th>Uac_MIN</th>\n",
              "      <th>Idc_AVG</th>\n",
              "      <th>Idc_MAX</th>\n",
              "      <th>Idc_MIN</th>\n",
              "      <th>Iac_AVG</th>\n",
              "      <th>Iac_MAX</th>\n",
              "      <th>Iac_MIN</th>\n",
              "      <th>KF_AVG</th>\n",
              "      <th>KF_MAX</th>\n",
              "      <th>KF_MIN</th>\n",
              "    </tr>\n",
              "  </thead>\n",
              "  <tbody>\n",
              "    <tr>\n",
              "      <th>0</th>\n",
              "      <td>1/1/2000 00:57:08</td>\n",
              "      <td>231.154114</td>\n",
              "      <td>231.154114</td>\n",
              "      <td>231.154114</td>\n",
              "      <td>0.015352</td>\n",
              "      <td>0.015352</td>\n",
              "      <td>0.015352</td>\n",
              "      <td>49.988102</td>\n",
              "      <td>49.988102</td>\n",
              "      <td>49.988102</td>\n",
              "      <td>...</td>\n",
              "      <td>231.136841</td>\n",
              "      <td>-0.000631</td>\n",
              "      <td>-0.000631</td>\n",
              "      <td>-0.000631</td>\n",
              "      <td>0.013176</td>\n",
              "      <td>0.013176</td>\n",
              "      <td>0.013176</td>\n",
              "      <td>10.358896</td>\n",
              "      <td>10.358896</td>\n",
              "      <td>10.358896</td>\n",
              "    </tr>\n",
              "    <tr>\n",
              "      <th>1</th>\n",
              "      <td>1/1/2000 00:57:09</td>\n",
              "      <td>230.909515</td>\n",
              "      <td>230.909515</td>\n",
              "      <td>230.909515</td>\n",
              "      <td>0.015353</td>\n",
              "      <td>0.015353</td>\n",
              "      <td>0.015353</td>\n",
              "      <td>49.988701</td>\n",
              "      <td>49.988701</td>\n",
              "      <td>49.988701</td>\n",
              "      <td>...</td>\n",
              "      <td>230.792023</td>\n",
              "      <td>-0.000621</td>\n",
              "      <td>-0.000621</td>\n",
              "      <td>-0.000621</td>\n",
              "      <td>0.013216</td>\n",
              "      <td>0.013216</td>\n",
              "      <td>0.013216</td>\n",
              "      <td>9.411060</td>\n",
              "      <td>9.411060</td>\n",
              "      <td>9.411060</td>\n",
              "    </tr>\n",
              "    <tr>\n",
              "      <th>2</th>\n",
              "      <td>1/1/2000 00:57:10</td>\n",
              "      <td>231.085922</td>\n",
              "      <td>231.085922</td>\n",
              "      <td>231.085922</td>\n",
              "      <td>0.015367</td>\n",
              "      <td>0.015367</td>\n",
              "      <td>0.015367</td>\n",
              "      <td>49.988422</td>\n",
              "      <td>49.988422</td>\n",
              "      <td>49.988422</td>\n",
              "      <td>...</td>\n",
              "      <td>231.144302</td>\n",
              "      <td>-0.000673</td>\n",
              "      <td>-0.000673</td>\n",
              "      <td>-0.000673</td>\n",
              "      <td>0.013153</td>\n",
              "      <td>0.013153</td>\n",
              "      <td>0.013153</td>\n",
              "      <td>9.985609</td>\n",
              "      <td>9.985609</td>\n",
              "      <td>9.985609</td>\n",
              "    </tr>\n",
              "    <tr>\n",
              "      <th>3</th>\n",
              "      <td>1/1/2000 00:57:11</td>\n",
              "      <td>231.291763</td>\n",
              "      <td>231.291763</td>\n",
              "      <td>231.291763</td>\n",
              "      <td>0.015343</td>\n",
              "      <td>0.015343</td>\n",
              "      <td>0.015343</td>\n",
              "      <td>49.979561</td>\n",
              "      <td>49.979561</td>\n",
              "      <td>49.979561</td>\n",
              "      <td>...</td>\n",
              "      <td>231.222092</td>\n",
              "      <td>-0.000613</td>\n",
              "      <td>-0.000613</td>\n",
              "      <td>-0.000613</td>\n",
              "      <td>0.013166</td>\n",
              "      <td>0.013166</td>\n",
              "      <td>0.013166</td>\n",
              "      <td>9.974781</td>\n",
              "      <td>9.974781</td>\n",
              "      <td>9.974781</td>\n",
              "    </tr>\n",
              "    <tr>\n",
              "      <th>4</th>\n",
              "      <td>1/1/2000 00:57:12</td>\n",
              "      <td>231.285248</td>\n",
              "      <td>231.285248</td>\n",
              "      <td>231.285248</td>\n",
              "      <td>0.015337</td>\n",
              "      <td>0.015337</td>\n",
              "      <td>0.015337</td>\n",
              "      <td>49.979939</td>\n",
              "      <td>49.979939</td>\n",
              "      <td>49.979939</td>\n",
              "      <td>...</td>\n",
              "      <td>231.228958</td>\n",
              "      <td>-0.000587</td>\n",
              "      <td>-0.000587</td>\n",
              "      <td>-0.000587</td>\n",
              "      <td>0.013154</td>\n",
              "      <td>0.013154</td>\n",
              "      <td>0.013154</td>\n",
              "      <td>9.257197</td>\n",
              "      <td>9.257197</td>\n",
              "      <td>9.257197</td>\n",
              "    </tr>\n",
              "    <tr>\n",
              "      <th>...</th>\n",
              "      <td>...</td>\n",
              "      <td>...</td>\n",
              "      <td>...</td>\n",
              "      <td>...</td>\n",
              "      <td>...</td>\n",
              "      <td>...</td>\n",
              "      <td>...</td>\n",
              "      <td>...</td>\n",
              "      <td>...</td>\n",
              "      <td>...</td>\n",
              "      <td>...</td>\n",
              "      <td>...</td>\n",
              "      <td>...</td>\n",
              "      <td>...</td>\n",
              "      <td>...</td>\n",
              "      <td>...</td>\n",
              "      <td>...</td>\n",
              "      <td>...</td>\n",
              "      <td>...</td>\n",
              "      <td>...</td>\n",
              "      <td>...</td>\n",
              "    </tr>\n",
              "    <tr>\n",
              "      <th>86568</th>\n",
              "      <td>2/1/2000 00:59:56</td>\n",
              "      <td>228.437714</td>\n",
              "      <td>228.437714</td>\n",
              "      <td>228.437714</td>\n",
              "      <td>0.774321</td>\n",
              "      <td>0.774321</td>\n",
              "      <td>0.774321</td>\n",
              "      <td>49.996449</td>\n",
              "      <td>49.996449</td>\n",
              "      <td>49.996449</td>\n",
              "      <td>...</td>\n",
              "      <td>228.370575</td>\n",
              "      <td>-0.000305</td>\n",
              "      <td>-0.000305</td>\n",
              "      <td>-0.000305</td>\n",
              "      <td>0.777279</td>\n",
              "      <td>0.777279</td>\n",
              "      <td>0.777279</td>\n",
              "      <td>1.051409</td>\n",
              "      <td>1.051409</td>\n",
              "      <td>1.051409</td>\n",
              "    </tr>\n",
              "    <tr>\n",
              "      <th>86569</th>\n",
              "      <td>2/1/2000 00:59:57</td>\n",
              "      <td>228.383820</td>\n",
              "      <td>228.383820</td>\n",
              "      <td>228.383820</td>\n",
              "      <td>0.772741</td>\n",
              "      <td>0.772741</td>\n",
              "      <td>0.772741</td>\n",
              "      <td>49.996357</td>\n",
              "      <td>49.996357</td>\n",
              "      <td>49.996357</td>\n",
              "      <td>...</td>\n",
              "      <td>228.282410</td>\n",
              "      <td>-0.000663</td>\n",
              "      <td>-0.000663</td>\n",
              "      <td>-0.000663</td>\n",
              "      <td>0.765713</td>\n",
              "      <td>0.765713</td>\n",
              "      <td>0.765713</td>\n",
              "      <td>1.051115</td>\n",
              "      <td>1.051115</td>\n",
              "      <td>1.051115</td>\n",
              "    </tr>\n",
              "    <tr>\n",
              "      <th>86570</th>\n",
              "      <td>2/1/2000 00:59:58</td>\n",
              "      <td>228.209381</td>\n",
              "      <td>228.209381</td>\n",
              "      <td>228.209381</td>\n",
              "      <td>0.772758</td>\n",
              "      <td>0.772758</td>\n",
              "      <td>0.772758</td>\n",
              "      <td>49.996250</td>\n",
              "      <td>49.996250</td>\n",
              "      <td>49.996250</td>\n",
              "      <td>...</td>\n",
              "      <td>228.035492</td>\n",
              "      <td>-0.000747</td>\n",
              "      <td>-0.000747</td>\n",
              "      <td>-0.000747</td>\n",
              "      <td>0.765713</td>\n",
              "      <td>0.765713</td>\n",
              "      <td>0.765713</td>\n",
              "      <td>1.051115</td>\n",
              "      <td>1.051115</td>\n",
              "      <td>1.051115</td>\n",
              "    </tr>\n",
              "    <tr>\n",
              "      <th>86571</th>\n",
              "      <td>2/1/2000 00:59:59</td>\n",
              "      <td>227.333511</td>\n",
              "      <td>227.333511</td>\n",
              "      <td>227.333511</td>\n",
              "      <td>0.766831</td>\n",
              "      <td>0.766831</td>\n",
              "      <td>0.766831</td>\n",
              "      <td>49.996498</td>\n",
              "      <td>49.996498</td>\n",
              "      <td>49.996498</td>\n",
              "      <td>...</td>\n",
              "      <td>227.258224</td>\n",
              "      <td>-0.000451</td>\n",
              "      <td>-0.000451</td>\n",
              "      <td>-0.000451</td>\n",
              "      <td>0.763420</td>\n",
              "      <td>0.763420</td>\n",
              "      <td>0.763420</td>\n",
              "      <td>1.057979</td>\n",
              "      <td>1.057979</td>\n",
              "      <td>1.057979</td>\n",
              "    </tr>\n",
              "    <tr>\n",
              "      <th>86572</th>\n",
              "      <td>2/1/2000 01:00:00</td>\n",
              "      <td>227.351746</td>\n",
              "      <td>227.351746</td>\n",
              "      <td>227.351746</td>\n",
              "      <td>0.768458</td>\n",
              "      <td>0.768458</td>\n",
              "      <td>0.768458</td>\n",
              "      <td>49.996937</td>\n",
              "      <td>49.996937</td>\n",
              "      <td>49.996937</td>\n",
              "      <td>...</td>\n",
              "      <td>227.293320</td>\n",
              "      <td>-0.000526</td>\n",
              "      <td>-0.000526</td>\n",
              "      <td>-0.000526</td>\n",
              "      <td>0.768306</td>\n",
              "      <td>0.768306</td>\n",
              "      <td>0.768306</td>\n",
              "      <td>1.056795</td>\n",
              "      <td>1.056795</td>\n",
              "      <td>1.056795</td>\n",
              "    </tr>\n",
              "  </tbody>\n",
              "</table>\n",
              "<p>86573 rows × 52 columns</p>\n",
              "</div>\n",
              "    <div class=\"colab-df-buttons\">\n",
              "\n",
              "  <div class=\"colab-df-container\">\n",
              "    <button class=\"colab-df-convert\" onclick=\"convertToInteractive('df-2d269385-a83a-4812-a689-b6ec7ab39692')\"\n",
              "            title=\"Convert this dataframe to an interactive table.\"\n",
              "            style=\"display:none;\">\n",
              "\n",
              "  <svg xmlns=\"http://www.w3.org/2000/svg\" height=\"24px\" viewBox=\"0 -960 960 960\">\n",
              "    <path d=\"M120-120v-720h720v720H120Zm60-500h600v-160H180v160Zm220 220h160v-160H400v160Zm0 220h160v-160H400v160ZM180-400h160v-160H180v160Zm440 0h160v-160H620v160ZM180-180h160v-160H180v160Zm440 0h160v-160H620v160Z\"/>\n",
              "  </svg>\n",
              "    </button>\n",
              "\n",
              "  <style>\n",
              "    .colab-df-container {\n",
              "      display:flex;\n",
              "      gap: 12px;\n",
              "    }\n",
              "\n",
              "    .colab-df-convert {\n",
              "      background-color: #E8F0FE;\n",
              "      border: none;\n",
              "      border-radius: 50%;\n",
              "      cursor: pointer;\n",
              "      display: none;\n",
              "      fill: #1967D2;\n",
              "      height: 32px;\n",
              "      padding: 0 0 0 0;\n",
              "      width: 32px;\n",
              "    }\n",
              "\n",
              "    .colab-df-convert:hover {\n",
              "      background-color: #E2EBFA;\n",
              "      box-shadow: 0px 1px 2px rgba(60, 64, 67, 0.3), 0px 1px 3px 1px rgba(60, 64, 67, 0.15);\n",
              "      fill: #174EA6;\n",
              "    }\n",
              "\n",
              "    .colab-df-buttons div {\n",
              "      margin-bottom: 4px;\n",
              "    }\n",
              "\n",
              "    [theme=dark] .colab-df-convert {\n",
              "      background-color: #3B4455;\n",
              "      fill: #D2E3FC;\n",
              "    }\n",
              "\n",
              "    [theme=dark] .colab-df-convert:hover {\n",
              "      background-color: #434B5C;\n",
              "      box-shadow: 0px 1px 3px 1px rgba(0, 0, 0, 0.15);\n",
              "      filter: drop-shadow(0px 1px 2px rgba(0, 0, 0, 0.3));\n",
              "      fill: #FFFFFF;\n",
              "    }\n",
              "  </style>\n",
              "\n",
              "    <script>\n",
              "      const buttonEl =\n",
              "        document.querySelector('#df-2d269385-a83a-4812-a689-b6ec7ab39692 button.colab-df-convert');\n",
              "      buttonEl.style.display =\n",
              "        google.colab.kernel.accessAllowed ? 'block' : 'none';\n",
              "\n",
              "      async function convertToInteractive(key) {\n",
              "        const element = document.querySelector('#df-2d269385-a83a-4812-a689-b6ec7ab39692');\n",
              "        const dataTable =\n",
              "          await google.colab.kernel.invokeFunction('convertToInteractive',\n",
              "                                                    [key], {});\n",
              "        if (!dataTable) return;\n",
              "\n",
              "        const docLinkHtml = 'Like what you see? Visit the ' +\n",
              "          '<a target=\"_blank\" href=https://colab.research.google.com/notebooks/data_table.ipynb>data table notebook</a>'\n",
              "          + ' to learn more about interactive tables.';\n",
              "        element.innerHTML = '';\n",
              "        dataTable['output_type'] = 'display_data';\n",
              "        await google.colab.output.renderOutput(dataTable, element);\n",
              "        const docLink = document.createElement('div');\n",
              "        docLink.innerHTML = docLinkHtml;\n",
              "        element.appendChild(docLink);\n",
              "      }\n",
              "    </script>\n",
              "  </div>\n",
              "\n",
              "\n",
              "<div id=\"df-7d6cc08f-b367-4c63-8c2a-c22bb4eb4ef9\">\n",
              "  <button class=\"colab-df-quickchart\" onclick=\"quickchart('df-7d6cc08f-b367-4c63-8c2a-c22bb4eb4ef9')\"\n",
              "            title=\"Suggest charts\"\n",
              "            style=\"display:none;\">\n",
              "\n",
              "<svg xmlns=\"http://www.w3.org/2000/svg\" height=\"24px\"viewBox=\"0 0 24 24\"\n",
              "     width=\"24px\">\n",
              "    <g>\n",
              "        <path d=\"M19 3H5c-1.1 0-2 .9-2 2v14c0 1.1.9 2 2 2h14c1.1 0 2-.9 2-2V5c0-1.1-.9-2-2-2zM9 17H7v-7h2v7zm4 0h-2V7h2v10zm4 0h-2v-4h2v4z\"/>\n",
              "    </g>\n",
              "</svg>\n",
              "  </button>\n",
              "\n",
              "<style>\n",
              "  .colab-df-quickchart {\n",
              "      --bg-color: #E8F0FE;\n",
              "      --fill-color: #1967D2;\n",
              "      --hover-bg-color: #E2EBFA;\n",
              "      --hover-fill-color: #174EA6;\n",
              "      --disabled-fill-color: #AAA;\n",
              "      --disabled-bg-color: #DDD;\n",
              "  }\n",
              "\n",
              "  [theme=dark] .colab-df-quickchart {\n",
              "      --bg-color: #3B4455;\n",
              "      --fill-color: #D2E3FC;\n",
              "      --hover-bg-color: #434B5C;\n",
              "      --hover-fill-color: #FFFFFF;\n",
              "      --disabled-bg-color: #3B4455;\n",
              "      --disabled-fill-color: #666;\n",
              "  }\n",
              "\n",
              "  .colab-df-quickchart {\n",
              "    background-color: var(--bg-color);\n",
              "    border: none;\n",
              "    border-radius: 50%;\n",
              "    cursor: pointer;\n",
              "    display: none;\n",
              "    fill: var(--fill-color);\n",
              "    height: 32px;\n",
              "    padding: 0;\n",
              "    width: 32px;\n",
              "  }\n",
              "\n",
              "  .colab-df-quickchart:hover {\n",
              "    background-color: var(--hover-bg-color);\n",
              "    box-shadow: 0 1px 2px rgba(60, 64, 67, 0.3), 0 1px 3px 1px rgba(60, 64, 67, 0.15);\n",
              "    fill: var(--button-hover-fill-color);\n",
              "  }\n",
              "\n",
              "  .colab-df-quickchart-complete:disabled,\n",
              "  .colab-df-quickchart-complete:disabled:hover {\n",
              "    background-color: var(--disabled-bg-color);\n",
              "    fill: var(--disabled-fill-color);\n",
              "    box-shadow: none;\n",
              "  }\n",
              "\n",
              "  .colab-df-spinner {\n",
              "    border: 2px solid var(--fill-color);\n",
              "    border-color: transparent;\n",
              "    border-bottom-color: var(--fill-color);\n",
              "    animation:\n",
              "      spin 1s steps(1) infinite;\n",
              "  }\n",
              "\n",
              "  @keyframes spin {\n",
              "    0% {\n",
              "      border-color: transparent;\n",
              "      border-bottom-color: var(--fill-color);\n",
              "      border-left-color: var(--fill-color);\n",
              "    }\n",
              "    20% {\n",
              "      border-color: transparent;\n",
              "      border-left-color: var(--fill-color);\n",
              "      border-top-color: var(--fill-color);\n",
              "    }\n",
              "    30% {\n",
              "      border-color: transparent;\n",
              "      border-left-color: var(--fill-color);\n",
              "      border-top-color: var(--fill-color);\n",
              "      border-right-color: var(--fill-color);\n",
              "    }\n",
              "    40% {\n",
              "      border-color: transparent;\n",
              "      border-right-color: var(--fill-color);\n",
              "      border-top-color: var(--fill-color);\n",
              "    }\n",
              "    60% {\n",
              "      border-color: transparent;\n",
              "      border-right-color: var(--fill-color);\n",
              "    }\n",
              "    80% {\n",
              "      border-color: transparent;\n",
              "      border-right-color: var(--fill-color);\n",
              "      border-bottom-color: var(--fill-color);\n",
              "    }\n",
              "    90% {\n",
              "      border-color: transparent;\n",
              "      border-bottom-color: var(--fill-color);\n",
              "    }\n",
              "  }\n",
              "</style>\n",
              "\n",
              "  <script>\n",
              "    async function quickchart(key) {\n",
              "      const quickchartButtonEl =\n",
              "        document.querySelector('#' + key + ' button');\n",
              "      quickchartButtonEl.disabled = true;  // To prevent multiple clicks.\n",
              "      quickchartButtonEl.classList.add('colab-df-spinner');\n",
              "      try {\n",
              "        const charts = await google.colab.kernel.invokeFunction(\n",
              "            'suggestCharts', [key], {});\n",
              "      } catch (error) {\n",
              "        console.error('Error during call to suggestCharts:', error);\n",
              "      }\n",
              "      quickchartButtonEl.classList.remove('colab-df-spinner');\n",
              "      quickchartButtonEl.classList.add('colab-df-quickchart-complete');\n",
              "    }\n",
              "    (() => {\n",
              "      let quickchartButtonEl =\n",
              "        document.querySelector('#df-7d6cc08f-b367-4c63-8c2a-c22bb4eb4ef9 button');\n",
              "      quickchartButtonEl.style.display =\n",
              "        google.colab.kernel.accessAllowed ? 'block' : 'none';\n",
              "    })();\n",
              "  </script>\n",
              "</div>\n",
              "\n",
              "  <div id=\"id_18631ba5-ab7f-4687-b0f0-48ff5c526b07\">\n",
              "    <style>\n",
              "      .colab-df-generate {\n",
              "        background-color: #E8F0FE;\n",
              "        border: none;\n",
              "        border-radius: 50%;\n",
              "        cursor: pointer;\n",
              "        display: none;\n",
              "        fill: #1967D2;\n",
              "        height: 32px;\n",
              "        padding: 0 0 0 0;\n",
              "        width: 32px;\n",
              "      }\n",
              "\n",
              "      .colab-df-generate:hover {\n",
              "        background-color: #E2EBFA;\n",
              "        box-shadow: 0px 1px 2px rgba(60, 64, 67, 0.3), 0px 1px 3px 1px rgba(60, 64, 67, 0.15);\n",
              "        fill: #174EA6;\n",
              "      }\n",
              "\n",
              "      [theme=dark] .colab-df-generate {\n",
              "        background-color: #3B4455;\n",
              "        fill: #D2E3FC;\n",
              "      }\n",
              "\n",
              "      [theme=dark] .colab-df-generate:hover {\n",
              "        background-color: #434B5C;\n",
              "        box-shadow: 0px 1px 3px 1px rgba(0, 0, 0, 0.15);\n",
              "        filter: drop-shadow(0px 1px 2px rgba(0, 0, 0, 0.3));\n",
              "        fill: #FFFFFF;\n",
              "      }\n",
              "    </style>\n",
              "    <button class=\"colab-df-generate\" onclick=\"generateWithVariable('datos_unit_1')\"\n",
              "            title=\"Generate code using this dataframe.\"\n",
              "            style=\"display:none;\">\n",
              "\n",
              "  <svg xmlns=\"http://www.w3.org/2000/svg\" height=\"24px\"viewBox=\"0 0 24 24\"\n",
              "       width=\"24px\">\n",
              "    <path d=\"M7,19H8.4L18.45,9,17,7.55,7,17.6ZM5,21V16.75L18.45,3.32a2,2,0,0,1,2.83,0l1.4,1.43a1.91,1.91,0,0,1,.58,1.4,1.91,1.91,0,0,1-.58,1.4L9.25,21ZM18.45,9,17,7.55Zm-12,3A5.31,5.31,0,0,0,4.9,8.1,5.31,5.31,0,0,0,1,6.5,5.31,5.31,0,0,0,4.9,4.9,5.31,5.31,0,0,0,6.5,1,5.31,5.31,0,0,0,8.1,4.9,5.31,5.31,0,0,0,12,6.5,5.46,5.46,0,0,0,6.5,12Z\"/>\n",
              "  </svg>\n",
              "    </button>\n",
              "    <script>\n",
              "      (() => {\n",
              "      const buttonEl =\n",
              "        document.querySelector('#id_18631ba5-ab7f-4687-b0f0-48ff5c526b07 button.colab-df-generate');\n",
              "      buttonEl.style.display =\n",
              "        google.colab.kernel.accessAllowed ? 'block' : 'none';\n",
              "\n",
              "      buttonEl.onclick = () => {\n",
              "        google.colab.notebook.generateWithVariable('datos_unit_1');\n",
              "      }\n",
              "      })();\n",
              "    </script>\n",
              "  </div>\n",
              "\n",
              "    </div>\n",
              "  </div>\n"
            ],
            "application/vnd.google.colaboratory.intrinsic+json": {
              "type": "dataframe",
              "variable_name": "datos_unit_1"
            }
          },
          "metadata": {},
          "execution_count": 18
        }
      ]
    },
    {
      "cell_type": "code",
      "source": [
        "datos_unit_1.describe()"
      ],
      "metadata": {
        "colab": {
          "base_uri": "https://localhost:8080/",
          "height": 349
        },
        "id": "1fMP7ehKs3f3",
        "outputId": "6bb8a168-e6ff-4534-ce5e-7f713f8a24d3"
      },
      "execution_count": null,
      "outputs": [
        {
          "output_type": "execute_result",
          "data": {
            "text/plain": [
              "           URMS_AVG      URMS_MAX      URMS_MIN      IRMS_AVG      IRMS_MAX  \\\n",
              "count  86573.000000  86573.000000  86573.000000  86573.000000  86573.000000   \n",
              "mean     231.996269    231.996269    231.996269      0.640288      0.640288   \n",
              "std        3.028006      3.028006      3.028006      0.318552      0.318552   \n",
              "min      222.407990    222.407990    222.407990      0.014202      0.014202   \n",
              "25%      229.800568    229.800568    229.800568      0.768126      0.768126   \n",
              "50%      232.569885    232.569885    232.569885      0.794999      0.794999   \n",
              "75%      234.291107    234.291107    234.291107      0.810112      0.810112   \n",
              "max      239.727142    239.727142    239.727142      5.655886      5.655886   \n",
              "\n",
              "           IRMS_MIN      FREQ_AVG      FREQ_MAX      FREQ_MIN         P_AVG  \\\n",
              "count  86573.000000  86573.000000  86573.000000  86573.000000  86573.000000   \n",
              "mean       0.640288     50.018245     50.018245     50.018245     71.504113   \n",
              "std        0.318552      0.039500      0.039500      0.039500     36.343734   \n",
              "min        0.014202     49.911491     49.911491     49.911491     -1.354101   \n",
              "25%        0.768126     49.990097     49.990097     49.990097     85.146233   \n",
              "50%        0.794999     50.016678     50.016678     50.016678     87.440285   \n",
              "75%        0.810112     50.036537     50.036537     50.036537     89.915802   \n",
              "max        5.655886     50.295246     50.295246     50.295246   1289.210815   \n",
              "\n",
              "       ...       Uac_MIN       Idc_AVG       Idc_MAX       Idc_MIN  \\\n",
              "count  ...  86573.000000  86573.000000  86573.000000  86573.000000   \n",
              "mean   ...    231.921443     -0.000552     -0.000552     -0.000552   \n",
              "std    ...      3.027488      0.000433      0.000433      0.000433   \n",
              "min    ...    222.346756     -0.011278     -0.011278     -0.011278   \n",
              "25%    ...    229.729279     -0.000697     -0.000697     -0.000697   \n",
              "50%    ...    232.495499     -0.000534     -0.000534     -0.000534   \n",
              "75%    ...    234.216858     -0.000427     -0.000427     -0.000427   \n",
              "max    ...    239.667221      0.075105      0.075105      0.075105   \n",
              "\n",
              "            Iac_AVG       Iac_MAX       Iac_MIN        KF_AVG        KF_MAX  \\\n",
              "count  86573.000000  86573.000000  86573.000000  86573.000000  86573.000000   \n",
              "mean       0.639680      0.639680      0.639680      1.615226      1.615226   \n",
              "std        0.318486      0.318486      0.318486      1.177922      1.177922   \n",
              "min        0.012967      0.012967      0.012967      1.020888      1.020888   \n",
              "25%        0.766521      0.766521      0.766521      1.053332      1.053332   \n",
              "50%        0.794460      0.794460      0.794460      1.060514      1.060514   \n",
              "75%        0.810302      0.810302      0.810302      1.073746      1.073746   \n",
              "max        6.049442      6.049442      6.049442     15.815260     15.815260   \n",
              "\n",
              "             KF_MIN  \n",
              "count  86573.000000  \n",
              "mean       1.615226  \n",
              "std        1.177922  \n",
              "min        1.020888  \n",
              "25%        1.053332  \n",
              "50%        1.060514  \n",
              "75%        1.073746  \n",
              "max       15.815260  \n",
              "\n",
              "[8 rows x 51 columns]"
            ],
            "text/html": [
              "\n",
              "  <div id=\"df-2ac7e05d-a48a-43ae-9441-08d3627a6448\" class=\"colab-df-container\">\n",
              "    <div>\n",
              "<style scoped>\n",
              "    .dataframe tbody tr th:only-of-type {\n",
              "        vertical-align: middle;\n",
              "    }\n",
              "\n",
              "    .dataframe tbody tr th {\n",
              "        vertical-align: top;\n",
              "    }\n",
              "\n",
              "    .dataframe thead th {\n",
              "        text-align: right;\n",
              "    }\n",
              "</style>\n",
              "<table border=\"1\" class=\"dataframe\">\n",
              "  <thead>\n",
              "    <tr style=\"text-align: right;\">\n",
              "      <th></th>\n",
              "      <th>URMS_AVG</th>\n",
              "      <th>URMS_MAX</th>\n",
              "      <th>URMS_MIN</th>\n",
              "      <th>IRMS_AVG</th>\n",
              "      <th>IRMS_MAX</th>\n",
              "      <th>IRMS_MIN</th>\n",
              "      <th>FREQ_AVG</th>\n",
              "      <th>FREQ_MAX</th>\n",
              "      <th>FREQ_MIN</th>\n",
              "      <th>P_AVG</th>\n",
              "      <th>...</th>\n",
              "      <th>Uac_MIN</th>\n",
              "      <th>Idc_AVG</th>\n",
              "      <th>Idc_MAX</th>\n",
              "      <th>Idc_MIN</th>\n",
              "      <th>Iac_AVG</th>\n",
              "      <th>Iac_MAX</th>\n",
              "      <th>Iac_MIN</th>\n",
              "      <th>KF_AVG</th>\n",
              "      <th>KF_MAX</th>\n",
              "      <th>KF_MIN</th>\n",
              "    </tr>\n",
              "  </thead>\n",
              "  <tbody>\n",
              "    <tr>\n",
              "      <th>count</th>\n",
              "      <td>86573.000000</td>\n",
              "      <td>86573.000000</td>\n",
              "      <td>86573.000000</td>\n",
              "      <td>86573.000000</td>\n",
              "      <td>86573.000000</td>\n",
              "      <td>86573.000000</td>\n",
              "      <td>86573.000000</td>\n",
              "      <td>86573.000000</td>\n",
              "      <td>86573.000000</td>\n",
              "      <td>86573.000000</td>\n",
              "      <td>...</td>\n",
              "      <td>86573.000000</td>\n",
              "      <td>86573.000000</td>\n",
              "      <td>86573.000000</td>\n",
              "      <td>86573.000000</td>\n",
              "      <td>86573.000000</td>\n",
              "      <td>86573.000000</td>\n",
              "      <td>86573.000000</td>\n",
              "      <td>86573.000000</td>\n",
              "      <td>86573.000000</td>\n",
              "      <td>86573.000000</td>\n",
              "    </tr>\n",
              "    <tr>\n",
              "      <th>mean</th>\n",
              "      <td>231.996269</td>\n",
              "      <td>231.996269</td>\n",
              "      <td>231.996269</td>\n",
              "      <td>0.640288</td>\n",
              "      <td>0.640288</td>\n",
              "      <td>0.640288</td>\n",
              "      <td>50.018245</td>\n",
              "      <td>50.018245</td>\n",
              "      <td>50.018245</td>\n",
              "      <td>71.504113</td>\n",
              "      <td>...</td>\n",
              "      <td>231.921443</td>\n",
              "      <td>-0.000552</td>\n",
              "      <td>-0.000552</td>\n",
              "      <td>-0.000552</td>\n",
              "      <td>0.639680</td>\n",
              "      <td>0.639680</td>\n",
              "      <td>0.639680</td>\n",
              "      <td>1.615226</td>\n",
              "      <td>1.615226</td>\n",
              "      <td>1.615226</td>\n",
              "    </tr>\n",
              "    <tr>\n",
              "      <th>std</th>\n",
              "      <td>3.028006</td>\n",
              "      <td>3.028006</td>\n",
              "      <td>3.028006</td>\n",
              "      <td>0.318552</td>\n",
              "      <td>0.318552</td>\n",
              "      <td>0.318552</td>\n",
              "      <td>0.039500</td>\n",
              "      <td>0.039500</td>\n",
              "      <td>0.039500</td>\n",
              "      <td>36.343734</td>\n",
              "      <td>...</td>\n",
              "      <td>3.027488</td>\n",
              "      <td>0.000433</td>\n",
              "      <td>0.000433</td>\n",
              "      <td>0.000433</td>\n",
              "      <td>0.318486</td>\n",
              "      <td>0.318486</td>\n",
              "      <td>0.318486</td>\n",
              "      <td>1.177922</td>\n",
              "      <td>1.177922</td>\n",
              "      <td>1.177922</td>\n",
              "    </tr>\n",
              "    <tr>\n",
              "      <th>min</th>\n",
              "      <td>222.407990</td>\n",
              "      <td>222.407990</td>\n",
              "      <td>222.407990</td>\n",
              "      <td>0.014202</td>\n",
              "      <td>0.014202</td>\n",
              "      <td>0.014202</td>\n",
              "      <td>49.911491</td>\n",
              "      <td>49.911491</td>\n",
              "      <td>49.911491</td>\n",
              "      <td>-1.354101</td>\n",
              "      <td>...</td>\n",
              "      <td>222.346756</td>\n",
              "      <td>-0.011278</td>\n",
              "      <td>-0.011278</td>\n",
              "      <td>-0.011278</td>\n",
              "      <td>0.012967</td>\n",
              "      <td>0.012967</td>\n",
              "      <td>0.012967</td>\n",
              "      <td>1.020888</td>\n",
              "      <td>1.020888</td>\n",
              "      <td>1.020888</td>\n",
              "    </tr>\n",
              "    <tr>\n",
              "      <th>25%</th>\n",
              "      <td>229.800568</td>\n",
              "      <td>229.800568</td>\n",
              "      <td>229.800568</td>\n",
              "      <td>0.768126</td>\n",
              "      <td>0.768126</td>\n",
              "      <td>0.768126</td>\n",
              "      <td>49.990097</td>\n",
              "      <td>49.990097</td>\n",
              "      <td>49.990097</td>\n",
              "      <td>85.146233</td>\n",
              "      <td>...</td>\n",
              "      <td>229.729279</td>\n",
              "      <td>-0.000697</td>\n",
              "      <td>-0.000697</td>\n",
              "      <td>-0.000697</td>\n",
              "      <td>0.766521</td>\n",
              "      <td>0.766521</td>\n",
              "      <td>0.766521</td>\n",
              "      <td>1.053332</td>\n",
              "      <td>1.053332</td>\n",
              "      <td>1.053332</td>\n",
              "    </tr>\n",
              "    <tr>\n",
              "      <th>50%</th>\n",
              "      <td>232.569885</td>\n",
              "      <td>232.569885</td>\n",
              "      <td>232.569885</td>\n",
              "      <td>0.794999</td>\n",
              "      <td>0.794999</td>\n",
              "      <td>0.794999</td>\n",
              "      <td>50.016678</td>\n",
              "      <td>50.016678</td>\n",
              "      <td>50.016678</td>\n",
              "      <td>87.440285</td>\n",
              "      <td>...</td>\n",
              "      <td>232.495499</td>\n",
              "      <td>-0.000534</td>\n",
              "      <td>-0.000534</td>\n",
              "      <td>-0.000534</td>\n",
              "      <td>0.794460</td>\n",
              "      <td>0.794460</td>\n",
              "      <td>0.794460</td>\n",
              "      <td>1.060514</td>\n",
              "      <td>1.060514</td>\n",
              "      <td>1.060514</td>\n",
              "    </tr>\n",
              "    <tr>\n",
              "      <th>75%</th>\n",
              "      <td>234.291107</td>\n",
              "      <td>234.291107</td>\n",
              "      <td>234.291107</td>\n",
              "      <td>0.810112</td>\n",
              "      <td>0.810112</td>\n",
              "      <td>0.810112</td>\n",
              "      <td>50.036537</td>\n",
              "      <td>50.036537</td>\n",
              "      <td>50.036537</td>\n",
              "      <td>89.915802</td>\n",
              "      <td>...</td>\n",
              "      <td>234.216858</td>\n",
              "      <td>-0.000427</td>\n",
              "      <td>-0.000427</td>\n",
              "      <td>-0.000427</td>\n",
              "      <td>0.810302</td>\n",
              "      <td>0.810302</td>\n",
              "      <td>0.810302</td>\n",
              "      <td>1.073746</td>\n",
              "      <td>1.073746</td>\n",
              "      <td>1.073746</td>\n",
              "    </tr>\n",
              "    <tr>\n",
              "      <th>max</th>\n",
              "      <td>239.727142</td>\n",
              "      <td>239.727142</td>\n",
              "      <td>239.727142</td>\n",
              "      <td>5.655886</td>\n",
              "      <td>5.655886</td>\n",
              "      <td>5.655886</td>\n",
              "      <td>50.295246</td>\n",
              "      <td>50.295246</td>\n",
              "      <td>50.295246</td>\n",
              "      <td>1289.210815</td>\n",
              "      <td>...</td>\n",
              "      <td>239.667221</td>\n",
              "      <td>0.075105</td>\n",
              "      <td>0.075105</td>\n",
              "      <td>0.075105</td>\n",
              "      <td>6.049442</td>\n",
              "      <td>6.049442</td>\n",
              "      <td>6.049442</td>\n",
              "      <td>15.815260</td>\n",
              "      <td>15.815260</td>\n",
              "      <td>15.815260</td>\n",
              "    </tr>\n",
              "  </tbody>\n",
              "</table>\n",
              "<p>8 rows × 51 columns</p>\n",
              "</div>\n",
              "    <div class=\"colab-df-buttons\">\n",
              "\n",
              "  <div class=\"colab-df-container\">\n",
              "    <button class=\"colab-df-convert\" onclick=\"convertToInteractive('df-2ac7e05d-a48a-43ae-9441-08d3627a6448')\"\n",
              "            title=\"Convert this dataframe to an interactive table.\"\n",
              "            style=\"display:none;\">\n",
              "\n",
              "  <svg xmlns=\"http://www.w3.org/2000/svg\" height=\"24px\" viewBox=\"0 -960 960 960\">\n",
              "    <path d=\"M120-120v-720h720v720H120Zm60-500h600v-160H180v160Zm220 220h160v-160H400v160Zm0 220h160v-160H400v160ZM180-400h160v-160H180v160Zm440 0h160v-160H620v160ZM180-180h160v-160H180v160Zm440 0h160v-160H620v160Z\"/>\n",
              "  </svg>\n",
              "    </button>\n",
              "\n",
              "  <style>\n",
              "    .colab-df-container {\n",
              "      display:flex;\n",
              "      gap: 12px;\n",
              "    }\n",
              "\n",
              "    .colab-df-convert {\n",
              "      background-color: #E8F0FE;\n",
              "      border: none;\n",
              "      border-radius: 50%;\n",
              "      cursor: pointer;\n",
              "      display: none;\n",
              "      fill: #1967D2;\n",
              "      height: 32px;\n",
              "      padding: 0 0 0 0;\n",
              "      width: 32px;\n",
              "    }\n",
              "\n",
              "    .colab-df-convert:hover {\n",
              "      background-color: #E2EBFA;\n",
              "      box-shadow: 0px 1px 2px rgba(60, 64, 67, 0.3), 0px 1px 3px 1px rgba(60, 64, 67, 0.15);\n",
              "      fill: #174EA6;\n",
              "    }\n",
              "\n",
              "    .colab-df-buttons div {\n",
              "      margin-bottom: 4px;\n",
              "    }\n",
              "\n",
              "    [theme=dark] .colab-df-convert {\n",
              "      background-color: #3B4455;\n",
              "      fill: #D2E3FC;\n",
              "    }\n",
              "\n",
              "    [theme=dark] .colab-df-convert:hover {\n",
              "      background-color: #434B5C;\n",
              "      box-shadow: 0px 1px 3px 1px rgba(0, 0, 0, 0.15);\n",
              "      filter: drop-shadow(0px 1px 2px rgba(0, 0, 0, 0.3));\n",
              "      fill: #FFFFFF;\n",
              "    }\n",
              "  </style>\n",
              "\n",
              "    <script>\n",
              "      const buttonEl =\n",
              "        document.querySelector('#df-2ac7e05d-a48a-43ae-9441-08d3627a6448 button.colab-df-convert');\n",
              "      buttonEl.style.display =\n",
              "        google.colab.kernel.accessAllowed ? 'block' : 'none';\n",
              "\n",
              "      async function convertToInteractive(key) {\n",
              "        const element = document.querySelector('#df-2ac7e05d-a48a-43ae-9441-08d3627a6448');\n",
              "        const dataTable =\n",
              "          await google.colab.kernel.invokeFunction('convertToInteractive',\n",
              "                                                    [key], {});\n",
              "        if (!dataTable) return;\n",
              "\n",
              "        const docLinkHtml = 'Like what you see? Visit the ' +\n",
              "          '<a target=\"_blank\" href=https://colab.research.google.com/notebooks/data_table.ipynb>data table notebook</a>'\n",
              "          + ' to learn more about interactive tables.';\n",
              "        element.innerHTML = '';\n",
              "        dataTable['output_type'] = 'display_data';\n",
              "        await google.colab.output.renderOutput(dataTable, element);\n",
              "        const docLink = document.createElement('div');\n",
              "        docLink.innerHTML = docLinkHtml;\n",
              "        element.appendChild(docLink);\n",
              "      }\n",
              "    </script>\n",
              "  </div>\n",
              "\n",
              "\n",
              "<div id=\"df-77c4f3a5-fee4-456b-93ab-7dbca57e2adb\">\n",
              "  <button class=\"colab-df-quickchart\" onclick=\"quickchart('df-77c4f3a5-fee4-456b-93ab-7dbca57e2adb')\"\n",
              "            title=\"Suggest charts\"\n",
              "            style=\"display:none;\">\n",
              "\n",
              "<svg xmlns=\"http://www.w3.org/2000/svg\" height=\"24px\"viewBox=\"0 0 24 24\"\n",
              "     width=\"24px\">\n",
              "    <g>\n",
              "        <path d=\"M19 3H5c-1.1 0-2 .9-2 2v14c0 1.1.9 2 2 2h14c1.1 0 2-.9 2-2V5c0-1.1-.9-2-2-2zM9 17H7v-7h2v7zm4 0h-2V7h2v10zm4 0h-2v-4h2v4z\"/>\n",
              "    </g>\n",
              "</svg>\n",
              "  </button>\n",
              "\n",
              "<style>\n",
              "  .colab-df-quickchart {\n",
              "      --bg-color: #E8F0FE;\n",
              "      --fill-color: #1967D2;\n",
              "      --hover-bg-color: #E2EBFA;\n",
              "      --hover-fill-color: #174EA6;\n",
              "      --disabled-fill-color: #AAA;\n",
              "      --disabled-bg-color: #DDD;\n",
              "  }\n",
              "\n",
              "  [theme=dark] .colab-df-quickchart {\n",
              "      --bg-color: #3B4455;\n",
              "      --fill-color: #D2E3FC;\n",
              "      --hover-bg-color: #434B5C;\n",
              "      --hover-fill-color: #FFFFFF;\n",
              "      --disabled-bg-color: #3B4455;\n",
              "      --disabled-fill-color: #666;\n",
              "  }\n",
              "\n",
              "  .colab-df-quickchart {\n",
              "    background-color: var(--bg-color);\n",
              "    border: none;\n",
              "    border-radius: 50%;\n",
              "    cursor: pointer;\n",
              "    display: none;\n",
              "    fill: var(--fill-color);\n",
              "    height: 32px;\n",
              "    padding: 0;\n",
              "    width: 32px;\n",
              "  }\n",
              "\n",
              "  .colab-df-quickchart:hover {\n",
              "    background-color: var(--hover-bg-color);\n",
              "    box-shadow: 0 1px 2px rgba(60, 64, 67, 0.3), 0 1px 3px 1px rgba(60, 64, 67, 0.15);\n",
              "    fill: var(--button-hover-fill-color);\n",
              "  }\n",
              "\n",
              "  .colab-df-quickchart-complete:disabled,\n",
              "  .colab-df-quickchart-complete:disabled:hover {\n",
              "    background-color: var(--disabled-bg-color);\n",
              "    fill: var(--disabled-fill-color);\n",
              "    box-shadow: none;\n",
              "  }\n",
              "\n",
              "  .colab-df-spinner {\n",
              "    border: 2px solid var(--fill-color);\n",
              "    border-color: transparent;\n",
              "    border-bottom-color: var(--fill-color);\n",
              "    animation:\n",
              "      spin 1s steps(1) infinite;\n",
              "  }\n",
              "\n",
              "  @keyframes spin {\n",
              "    0% {\n",
              "      border-color: transparent;\n",
              "      border-bottom-color: var(--fill-color);\n",
              "      border-left-color: var(--fill-color);\n",
              "    }\n",
              "    20% {\n",
              "      border-color: transparent;\n",
              "      border-left-color: var(--fill-color);\n",
              "      border-top-color: var(--fill-color);\n",
              "    }\n",
              "    30% {\n",
              "      border-color: transparent;\n",
              "      border-left-color: var(--fill-color);\n",
              "      border-top-color: var(--fill-color);\n",
              "      border-right-color: var(--fill-color);\n",
              "    }\n",
              "    40% {\n",
              "      border-color: transparent;\n",
              "      border-right-color: var(--fill-color);\n",
              "      border-top-color: var(--fill-color);\n",
              "    }\n",
              "    60% {\n",
              "      border-color: transparent;\n",
              "      border-right-color: var(--fill-color);\n",
              "    }\n",
              "    80% {\n",
              "      border-color: transparent;\n",
              "      border-right-color: var(--fill-color);\n",
              "      border-bottom-color: var(--fill-color);\n",
              "    }\n",
              "    90% {\n",
              "      border-color: transparent;\n",
              "      border-bottom-color: var(--fill-color);\n",
              "    }\n",
              "  }\n",
              "</style>\n",
              "\n",
              "  <script>\n",
              "    async function quickchart(key) {\n",
              "      const quickchartButtonEl =\n",
              "        document.querySelector('#' + key + ' button');\n",
              "      quickchartButtonEl.disabled = true;  // To prevent multiple clicks.\n",
              "      quickchartButtonEl.classList.add('colab-df-spinner');\n",
              "      try {\n",
              "        const charts = await google.colab.kernel.invokeFunction(\n",
              "            'suggestCharts', [key], {});\n",
              "      } catch (error) {\n",
              "        console.error('Error during call to suggestCharts:', error);\n",
              "      }\n",
              "      quickchartButtonEl.classList.remove('colab-df-spinner');\n",
              "      quickchartButtonEl.classList.add('colab-df-quickchart-complete');\n",
              "    }\n",
              "    (() => {\n",
              "      let quickchartButtonEl =\n",
              "        document.querySelector('#df-77c4f3a5-fee4-456b-93ab-7dbca57e2adb button');\n",
              "      quickchartButtonEl.style.display =\n",
              "        google.colab.kernel.accessAllowed ? 'block' : 'none';\n",
              "    })();\n",
              "  </script>\n",
              "</div>\n",
              "\n",
              "    </div>\n",
              "  </div>\n"
            ],
            "application/vnd.google.colaboratory.intrinsic+json": {
              "type": "dataframe"
            }
          },
          "metadata": {},
          "execution_count": 19
        }
      ]
    },
    {
      "cell_type": "code",
      "metadata": {
        "id": "7eFiqAYFSAxQ",
        "colab": {
          "base_uri": "https://localhost:8080/",
          "height": 654
        },
        "outputId": "2ffb838e-d650-48de-af70-fe749d8f68ec"
      },
      "source": [
        "datos_unit_2=pd.read_csv('/content/drive/MyDrive/Doctorado CyT, Maxi/DataSet - doctorado/Heladera_Maxihouse/UNIT-UT283A/2/Base.csv', header=0, delimiter=',')\n",
        "datos_unit_2"
      ],
      "execution_count": null,
      "outputs": [
        {
          "output_type": "stream",
          "name": "stderr",
          "text": [
            "<ipython-input-20-f6dbda0e5d03>:1: DtypeWarning: Columns (7,10,13,25) have mixed types. Specify dtype option on import or set low_memory=False.\n",
            "  datos_unit_2=pd.read_csv('/content/drive/MyDrive/Doctorado CyT, Maxi/DataSet - doctorado/Heladera_Maxihouse/UNIT-UT283A/2/Base.csv', header=0, delimiter=',')\n"
          ]
        },
        {
          "output_type": "execute_result",
          "data": {
            "text/plain": [
              "                    Time    URMS_AVG    URMS_MAX    URMS_MIN  IRMS_AVG  \\\n",
              "0      2/1/2000 01:00:01  227.387222  227.387222  227.387222  0.767279   \n",
              "1      2/1/2000 01:00:02  227.478729  227.478729  227.478729  0.769046   \n",
              "2      2/1/2000 01:00:03  227.453964  227.453964  227.453964  0.768676   \n",
              "3      2/1/2000 01:00:04  227.452911  227.452911  227.452911  0.769165   \n",
              "4      2/1/2000 01:00:05  227.360489  227.360489  227.360489  0.768200   \n",
              "...                  ...         ...         ...         ...       ...   \n",
              "68535  2/1/2000 20:02:16  229.555679  229.555679  229.555679  0.821564   \n",
              "68536  2/1/2000 20:02:17  229.594086  229.594086  229.594086  0.821859   \n",
              "68537  2/1/2000 20:02:18  229.493469  229.493469  229.493469  0.818146   \n",
              "68538  2/1/2000 20:02:19  229.444031  229.444031  229.444031  0.820602   \n",
              "68539  2/1/2000 20:02:20  229.458389  229.458389  229.458389  0.820408   \n",
              "\n",
              "       IRMS_MAX  IRMS_MIN          FREQ_AVG   FREQ_MAX   FREQ_MIN  ...  \\\n",
              "0      0.767279  0.767279         49.997154  49.997154  49.997154  ...   \n",
              "1      0.769046  0.769046         49.996552  49.996552  49.996552  ...   \n",
              "2      0.768676  0.768676         49.993835  49.993835  49.993835  ...   \n",
              "3      0.769165  0.769165         49.991703  49.991703  49.991703  ...   \n",
              "4      0.768200  0.768200         49.986221  49.986221  49.986221  ...   \n",
              "...         ...       ...               ...        ...        ...  ...   \n",
              "68535  0.821564  0.821564  50.0117492675781  50.011749  50.011749  ...   \n",
              "68536  0.821859  0.821859  50.0134887695313  50.013489  50.013489  ...   \n",
              "68537  0.818146  0.818146  50.0180931091309  50.018093  50.018093  ...   \n",
              "68538  0.820602  0.820602  50.0249366760254  50.024937  50.024937  ...   \n",
              "68539  0.820408  0.820408  50.0286026000977  50.028603  50.028603  ...   \n",
              "\n",
              "          Uac_MIN   Idc_AVG   Idc_MAX   Idc_MIN   Iac_AVG   Iac_MAX   Iac_MIN  \\\n",
              "0      227.311600 -0.000473 -0.000473 -0.000473  0.772528  0.772528  0.772528   \n",
              "1      227.419540 -0.000509 -0.000509 -0.000509  0.773638  0.773638  0.773638   \n",
              "2      227.371613 -0.000573 -0.000573 -0.000573  0.772772  0.772772  0.772772   \n",
              "3      227.380722 -0.000094 -0.000094 -0.000094  0.770323  0.770323  0.770323   \n",
              "4      227.289536 -0.000547 -0.000547 -0.000547  0.763189  0.763189  0.763189   \n",
              "...           ...       ...       ...       ...       ...       ...       ...   \n",
              "68535  229.524536 -0.000170 -0.000170 -0.000170  0.813905  0.813905  0.813905   \n",
              "68536  229.496674 -0.000918 -0.000918 -0.000918  0.813905  0.813905  0.813905   \n",
              "68537  229.391037 -0.000822 -0.000822 -0.000822  0.811087  0.811087  0.811087   \n",
              "68538  229.383621 -0.000295 -0.000295 -0.000295  0.812461  0.812461  0.812461   \n",
              "68539  229.385986 -0.000958 -0.000958 -0.000958  0.813069  0.813069  0.813069   \n",
              "\n",
              "         KF_AVG    KF_MAX    KF_MIN  \n",
              "0      1.053422  1.053422  1.053422  \n",
              "1      1.053529  1.053529  1.053529  \n",
              "2      1.051742  1.051742  1.051742  \n",
              "3      1.050814  1.050814  1.050814  \n",
              "4      1.051215  1.051215  1.051215  \n",
              "...         ...       ...       ...  \n",
              "68535  1.070151  1.070151  1.070151  \n",
              "68536  1.070151  1.070151  1.070151  \n",
              "68537  1.065550  1.065550  1.065550  \n",
              "68538  1.065502  1.065502  1.065502  \n",
              "68539  1.060564  1.060564  1.060564  \n",
              "\n",
              "[68540 rows x 52 columns]"
            ],
            "text/html": [
              "\n",
              "  <div id=\"df-8429bded-28e4-4bf4-a6ee-367a9028ac37\" class=\"colab-df-container\">\n",
              "    <div>\n",
              "<style scoped>\n",
              "    .dataframe tbody tr th:only-of-type {\n",
              "        vertical-align: middle;\n",
              "    }\n",
              "\n",
              "    .dataframe tbody tr th {\n",
              "        vertical-align: top;\n",
              "    }\n",
              "\n",
              "    .dataframe thead th {\n",
              "        text-align: right;\n",
              "    }\n",
              "</style>\n",
              "<table border=\"1\" class=\"dataframe\">\n",
              "  <thead>\n",
              "    <tr style=\"text-align: right;\">\n",
              "      <th></th>\n",
              "      <th>Time</th>\n",
              "      <th>URMS_AVG</th>\n",
              "      <th>URMS_MAX</th>\n",
              "      <th>URMS_MIN</th>\n",
              "      <th>IRMS_AVG</th>\n",
              "      <th>IRMS_MAX</th>\n",
              "      <th>IRMS_MIN</th>\n",
              "      <th>FREQ_AVG</th>\n",
              "      <th>FREQ_MAX</th>\n",
              "      <th>FREQ_MIN</th>\n",
              "      <th>...</th>\n",
              "      <th>Uac_MIN</th>\n",
              "      <th>Idc_AVG</th>\n",
              "      <th>Idc_MAX</th>\n",
              "      <th>Idc_MIN</th>\n",
              "      <th>Iac_AVG</th>\n",
              "      <th>Iac_MAX</th>\n",
              "      <th>Iac_MIN</th>\n",
              "      <th>KF_AVG</th>\n",
              "      <th>KF_MAX</th>\n",
              "      <th>KF_MIN</th>\n",
              "    </tr>\n",
              "  </thead>\n",
              "  <tbody>\n",
              "    <tr>\n",
              "      <th>0</th>\n",
              "      <td>2/1/2000 01:00:01</td>\n",
              "      <td>227.387222</td>\n",
              "      <td>227.387222</td>\n",
              "      <td>227.387222</td>\n",
              "      <td>0.767279</td>\n",
              "      <td>0.767279</td>\n",
              "      <td>0.767279</td>\n",
              "      <td>49.997154</td>\n",
              "      <td>49.997154</td>\n",
              "      <td>49.997154</td>\n",
              "      <td>...</td>\n",
              "      <td>227.311600</td>\n",
              "      <td>-0.000473</td>\n",
              "      <td>-0.000473</td>\n",
              "      <td>-0.000473</td>\n",
              "      <td>0.772528</td>\n",
              "      <td>0.772528</td>\n",
              "      <td>0.772528</td>\n",
              "      <td>1.053422</td>\n",
              "      <td>1.053422</td>\n",
              "      <td>1.053422</td>\n",
              "    </tr>\n",
              "    <tr>\n",
              "      <th>1</th>\n",
              "      <td>2/1/2000 01:00:02</td>\n",
              "      <td>227.478729</td>\n",
              "      <td>227.478729</td>\n",
              "      <td>227.478729</td>\n",
              "      <td>0.769046</td>\n",
              "      <td>0.769046</td>\n",
              "      <td>0.769046</td>\n",
              "      <td>49.996552</td>\n",
              "      <td>49.996552</td>\n",
              "      <td>49.996552</td>\n",
              "      <td>...</td>\n",
              "      <td>227.419540</td>\n",
              "      <td>-0.000509</td>\n",
              "      <td>-0.000509</td>\n",
              "      <td>-0.000509</td>\n",
              "      <td>0.773638</td>\n",
              "      <td>0.773638</td>\n",
              "      <td>0.773638</td>\n",
              "      <td>1.053529</td>\n",
              "      <td>1.053529</td>\n",
              "      <td>1.053529</td>\n",
              "    </tr>\n",
              "    <tr>\n",
              "      <th>2</th>\n",
              "      <td>2/1/2000 01:00:03</td>\n",
              "      <td>227.453964</td>\n",
              "      <td>227.453964</td>\n",
              "      <td>227.453964</td>\n",
              "      <td>0.768676</td>\n",
              "      <td>0.768676</td>\n",
              "      <td>0.768676</td>\n",
              "      <td>49.993835</td>\n",
              "      <td>49.993835</td>\n",
              "      <td>49.993835</td>\n",
              "      <td>...</td>\n",
              "      <td>227.371613</td>\n",
              "      <td>-0.000573</td>\n",
              "      <td>-0.000573</td>\n",
              "      <td>-0.000573</td>\n",
              "      <td>0.772772</td>\n",
              "      <td>0.772772</td>\n",
              "      <td>0.772772</td>\n",
              "      <td>1.051742</td>\n",
              "      <td>1.051742</td>\n",
              "      <td>1.051742</td>\n",
              "    </tr>\n",
              "    <tr>\n",
              "      <th>3</th>\n",
              "      <td>2/1/2000 01:00:04</td>\n",
              "      <td>227.452911</td>\n",
              "      <td>227.452911</td>\n",
              "      <td>227.452911</td>\n",
              "      <td>0.769165</td>\n",
              "      <td>0.769165</td>\n",
              "      <td>0.769165</td>\n",
              "      <td>49.991703</td>\n",
              "      <td>49.991703</td>\n",
              "      <td>49.991703</td>\n",
              "      <td>...</td>\n",
              "      <td>227.380722</td>\n",
              "      <td>-0.000094</td>\n",
              "      <td>-0.000094</td>\n",
              "      <td>-0.000094</td>\n",
              "      <td>0.770323</td>\n",
              "      <td>0.770323</td>\n",
              "      <td>0.770323</td>\n",
              "      <td>1.050814</td>\n",
              "      <td>1.050814</td>\n",
              "      <td>1.050814</td>\n",
              "    </tr>\n",
              "    <tr>\n",
              "      <th>4</th>\n",
              "      <td>2/1/2000 01:00:05</td>\n",
              "      <td>227.360489</td>\n",
              "      <td>227.360489</td>\n",
              "      <td>227.360489</td>\n",
              "      <td>0.768200</td>\n",
              "      <td>0.768200</td>\n",
              "      <td>0.768200</td>\n",
              "      <td>49.986221</td>\n",
              "      <td>49.986221</td>\n",
              "      <td>49.986221</td>\n",
              "      <td>...</td>\n",
              "      <td>227.289536</td>\n",
              "      <td>-0.000547</td>\n",
              "      <td>-0.000547</td>\n",
              "      <td>-0.000547</td>\n",
              "      <td>0.763189</td>\n",
              "      <td>0.763189</td>\n",
              "      <td>0.763189</td>\n",
              "      <td>1.051215</td>\n",
              "      <td>1.051215</td>\n",
              "      <td>1.051215</td>\n",
              "    </tr>\n",
              "    <tr>\n",
              "      <th>...</th>\n",
              "      <td>...</td>\n",
              "      <td>...</td>\n",
              "      <td>...</td>\n",
              "      <td>...</td>\n",
              "      <td>...</td>\n",
              "      <td>...</td>\n",
              "      <td>...</td>\n",
              "      <td>...</td>\n",
              "      <td>...</td>\n",
              "      <td>...</td>\n",
              "      <td>...</td>\n",
              "      <td>...</td>\n",
              "      <td>...</td>\n",
              "      <td>...</td>\n",
              "      <td>...</td>\n",
              "      <td>...</td>\n",
              "      <td>...</td>\n",
              "      <td>...</td>\n",
              "      <td>...</td>\n",
              "      <td>...</td>\n",
              "      <td>...</td>\n",
              "    </tr>\n",
              "    <tr>\n",
              "      <th>68535</th>\n",
              "      <td>2/1/2000 20:02:16</td>\n",
              "      <td>229.555679</td>\n",
              "      <td>229.555679</td>\n",
              "      <td>229.555679</td>\n",
              "      <td>0.821564</td>\n",
              "      <td>0.821564</td>\n",
              "      <td>0.821564</td>\n",
              "      <td>50.0117492675781</td>\n",
              "      <td>50.011749</td>\n",
              "      <td>50.011749</td>\n",
              "      <td>...</td>\n",
              "      <td>229.524536</td>\n",
              "      <td>-0.000170</td>\n",
              "      <td>-0.000170</td>\n",
              "      <td>-0.000170</td>\n",
              "      <td>0.813905</td>\n",
              "      <td>0.813905</td>\n",
              "      <td>0.813905</td>\n",
              "      <td>1.070151</td>\n",
              "      <td>1.070151</td>\n",
              "      <td>1.070151</td>\n",
              "    </tr>\n",
              "    <tr>\n",
              "      <th>68536</th>\n",
              "      <td>2/1/2000 20:02:17</td>\n",
              "      <td>229.594086</td>\n",
              "      <td>229.594086</td>\n",
              "      <td>229.594086</td>\n",
              "      <td>0.821859</td>\n",
              "      <td>0.821859</td>\n",
              "      <td>0.821859</td>\n",
              "      <td>50.0134887695313</td>\n",
              "      <td>50.013489</td>\n",
              "      <td>50.013489</td>\n",
              "      <td>...</td>\n",
              "      <td>229.496674</td>\n",
              "      <td>-0.000918</td>\n",
              "      <td>-0.000918</td>\n",
              "      <td>-0.000918</td>\n",
              "      <td>0.813905</td>\n",
              "      <td>0.813905</td>\n",
              "      <td>0.813905</td>\n",
              "      <td>1.070151</td>\n",
              "      <td>1.070151</td>\n",
              "      <td>1.070151</td>\n",
              "    </tr>\n",
              "    <tr>\n",
              "      <th>68537</th>\n",
              "      <td>2/1/2000 20:02:18</td>\n",
              "      <td>229.493469</td>\n",
              "      <td>229.493469</td>\n",
              "      <td>229.493469</td>\n",
              "      <td>0.818146</td>\n",
              "      <td>0.818146</td>\n",
              "      <td>0.818146</td>\n",
              "      <td>50.0180931091309</td>\n",
              "      <td>50.018093</td>\n",
              "      <td>50.018093</td>\n",
              "      <td>...</td>\n",
              "      <td>229.391037</td>\n",
              "      <td>-0.000822</td>\n",
              "      <td>-0.000822</td>\n",
              "      <td>-0.000822</td>\n",
              "      <td>0.811087</td>\n",
              "      <td>0.811087</td>\n",
              "      <td>0.811087</td>\n",
              "      <td>1.065550</td>\n",
              "      <td>1.065550</td>\n",
              "      <td>1.065550</td>\n",
              "    </tr>\n",
              "    <tr>\n",
              "      <th>68538</th>\n",
              "      <td>2/1/2000 20:02:19</td>\n",
              "      <td>229.444031</td>\n",
              "      <td>229.444031</td>\n",
              "      <td>229.444031</td>\n",
              "      <td>0.820602</td>\n",
              "      <td>0.820602</td>\n",
              "      <td>0.820602</td>\n",
              "      <td>50.0249366760254</td>\n",
              "      <td>50.024937</td>\n",
              "      <td>50.024937</td>\n",
              "      <td>...</td>\n",
              "      <td>229.383621</td>\n",
              "      <td>-0.000295</td>\n",
              "      <td>-0.000295</td>\n",
              "      <td>-0.000295</td>\n",
              "      <td>0.812461</td>\n",
              "      <td>0.812461</td>\n",
              "      <td>0.812461</td>\n",
              "      <td>1.065502</td>\n",
              "      <td>1.065502</td>\n",
              "      <td>1.065502</td>\n",
              "    </tr>\n",
              "    <tr>\n",
              "      <th>68539</th>\n",
              "      <td>2/1/2000 20:02:20</td>\n",
              "      <td>229.458389</td>\n",
              "      <td>229.458389</td>\n",
              "      <td>229.458389</td>\n",
              "      <td>0.820408</td>\n",
              "      <td>0.820408</td>\n",
              "      <td>0.820408</td>\n",
              "      <td>50.0286026000977</td>\n",
              "      <td>50.028603</td>\n",
              "      <td>50.028603</td>\n",
              "      <td>...</td>\n",
              "      <td>229.385986</td>\n",
              "      <td>-0.000958</td>\n",
              "      <td>-0.000958</td>\n",
              "      <td>-0.000958</td>\n",
              "      <td>0.813069</td>\n",
              "      <td>0.813069</td>\n",
              "      <td>0.813069</td>\n",
              "      <td>1.060564</td>\n",
              "      <td>1.060564</td>\n",
              "      <td>1.060564</td>\n",
              "    </tr>\n",
              "  </tbody>\n",
              "</table>\n",
              "<p>68540 rows × 52 columns</p>\n",
              "</div>\n",
              "    <div class=\"colab-df-buttons\">\n",
              "\n",
              "  <div class=\"colab-df-container\">\n",
              "    <button class=\"colab-df-convert\" onclick=\"convertToInteractive('df-8429bded-28e4-4bf4-a6ee-367a9028ac37')\"\n",
              "            title=\"Convert this dataframe to an interactive table.\"\n",
              "            style=\"display:none;\">\n",
              "\n",
              "  <svg xmlns=\"http://www.w3.org/2000/svg\" height=\"24px\" viewBox=\"0 -960 960 960\">\n",
              "    <path d=\"M120-120v-720h720v720H120Zm60-500h600v-160H180v160Zm220 220h160v-160H400v160Zm0 220h160v-160H400v160ZM180-400h160v-160H180v160Zm440 0h160v-160H620v160ZM180-180h160v-160H180v160Zm440 0h160v-160H620v160Z\"/>\n",
              "  </svg>\n",
              "    </button>\n",
              "\n",
              "  <style>\n",
              "    .colab-df-container {\n",
              "      display:flex;\n",
              "      gap: 12px;\n",
              "    }\n",
              "\n",
              "    .colab-df-convert {\n",
              "      background-color: #E8F0FE;\n",
              "      border: none;\n",
              "      border-radius: 50%;\n",
              "      cursor: pointer;\n",
              "      display: none;\n",
              "      fill: #1967D2;\n",
              "      height: 32px;\n",
              "      padding: 0 0 0 0;\n",
              "      width: 32px;\n",
              "    }\n",
              "\n",
              "    .colab-df-convert:hover {\n",
              "      background-color: #E2EBFA;\n",
              "      box-shadow: 0px 1px 2px rgba(60, 64, 67, 0.3), 0px 1px 3px 1px rgba(60, 64, 67, 0.15);\n",
              "      fill: #174EA6;\n",
              "    }\n",
              "\n",
              "    .colab-df-buttons div {\n",
              "      margin-bottom: 4px;\n",
              "    }\n",
              "\n",
              "    [theme=dark] .colab-df-convert {\n",
              "      background-color: #3B4455;\n",
              "      fill: #D2E3FC;\n",
              "    }\n",
              "\n",
              "    [theme=dark] .colab-df-convert:hover {\n",
              "      background-color: #434B5C;\n",
              "      box-shadow: 0px 1px 3px 1px rgba(0, 0, 0, 0.15);\n",
              "      filter: drop-shadow(0px 1px 2px rgba(0, 0, 0, 0.3));\n",
              "      fill: #FFFFFF;\n",
              "    }\n",
              "  </style>\n",
              "\n",
              "    <script>\n",
              "      const buttonEl =\n",
              "        document.querySelector('#df-8429bded-28e4-4bf4-a6ee-367a9028ac37 button.colab-df-convert');\n",
              "      buttonEl.style.display =\n",
              "        google.colab.kernel.accessAllowed ? 'block' : 'none';\n",
              "\n",
              "      async function convertToInteractive(key) {\n",
              "        const element = document.querySelector('#df-8429bded-28e4-4bf4-a6ee-367a9028ac37');\n",
              "        const dataTable =\n",
              "          await google.colab.kernel.invokeFunction('convertToInteractive',\n",
              "                                                    [key], {});\n",
              "        if (!dataTable) return;\n",
              "\n",
              "        const docLinkHtml = 'Like what you see? Visit the ' +\n",
              "          '<a target=\"_blank\" href=https://colab.research.google.com/notebooks/data_table.ipynb>data table notebook</a>'\n",
              "          + ' to learn more about interactive tables.';\n",
              "        element.innerHTML = '';\n",
              "        dataTable['output_type'] = 'display_data';\n",
              "        await google.colab.output.renderOutput(dataTable, element);\n",
              "        const docLink = document.createElement('div');\n",
              "        docLink.innerHTML = docLinkHtml;\n",
              "        element.appendChild(docLink);\n",
              "      }\n",
              "    </script>\n",
              "  </div>\n",
              "\n",
              "\n",
              "<div id=\"df-3f84424e-0897-44f3-8db3-293a55a412a2\">\n",
              "  <button class=\"colab-df-quickchart\" onclick=\"quickchart('df-3f84424e-0897-44f3-8db3-293a55a412a2')\"\n",
              "            title=\"Suggest charts\"\n",
              "            style=\"display:none;\">\n",
              "\n",
              "<svg xmlns=\"http://www.w3.org/2000/svg\" height=\"24px\"viewBox=\"0 0 24 24\"\n",
              "     width=\"24px\">\n",
              "    <g>\n",
              "        <path d=\"M19 3H5c-1.1 0-2 .9-2 2v14c0 1.1.9 2 2 2h14c1.1 0 2-.9 2-2V5c0-1.1-.9-2-2-2zM9 17H7v-7h2v7zm4 0h-2V7h2v10zm4 0h-2v-4h2v4z\"/>\n",
              "    </g>\n",
              "</svg>\n",
              "  </button>\n",
              "\n",
              "<style>\n",
              "  .colab-df-quickchart {\n",
              "      --bg-color: #E8F0FE;\n",
              "      --fill-color: #1967D2;\n",
              "      --hover-bg-color: #E2EBFA;\n",
              "      --hover-fill-color: #174EA6;\n",
              "      --disabled-fill-color: #AAA;\n",
              "      --disabled-bg-color: #DDD;\n",
              "  }\n",
              "\n",
              "  [theme=dark] .colab-df-quickchart {\n",
              "      --bg-color: #3B4455;\n",
              "      --fill-color: #D2E3FC;\n",
              "      --hover-bg-color: #434B5C;\n",
              "      --hover-fill-color: #FFFFFF;\n",
              "      --disabled-bg-color: #3B4455;\n",
              "      --disabled-fill-color: #666;\n",
              "  }\n",
              "\n",
              "  .colab-df-quickchart {\n",
              "    background-color: var(--bg-color);\n",
              "    border: none;\n",
              "    border-radius: 50%;\n",
              "    cursor: pointer;\n",
              "    display: none;\n",
              "    fill: var(--fill-color);\n",
              "    height: 32px;\n",
              "    padding: 0;\n",
              "    width: 32px;\n",
              "  }\n",
              "\n",
              "  .colab-df-quickchart:hover {\n",
              "    background-color: var(--hover-bg-color);\n",
              "    box-shadow: 0 1px 2px rgba(60, 64, 67, 0.3), 0 1px 3px 1px rgba(60, 64, 67, 0.15);\n",
              "    fill: var(--button-hover-fill-color);\n",
              "  }\n",
              "\n",
              "  .colab-df-quickchart-complete:disabled,\n",
              "  .colab-df-quickchart-complete:disabled:hover {\n",
              "    background-color: var(--disabled-bg-color);\n",
              "    fill: var(--disabled-fill-color);\n",
              "    box-shadow: none;\n",
              "  }\n",
              "\n",
              "  .colab-df-spinner {\n",
              "    border: 2px solid var(--fill-color);\n",
              "    border-color: transparent;\n",
              "    border-bottom-color: var(--fill-color);\n",
              "    animation:\n",
              "      spin 1s steps(1) infinite;\n",
              "  }\n",
              "\n",
              "  @keyframes spin {\n",
              "    0% {\n",
              "      border-color: transparent;\n",
              "      border-bottom-color: var(--fill-color);\n",
              "      border-left-color: var(--fill-color);\n",
              "    }\n",
              "    20% {\n",
              "      border-color: transparent;\n",
              "      border-left-color: var(--fill-color);\n",
              "      border-top-color: var(--fill-color);\n",
              "    }\n",
              "    30% {\n",
              "      border-color: transparent;\n",
              "      border-left-color: var(--fill-color);\n",
              "      border-top-color: var(--fill-color);\n",
              "      border-right-color: var(--fill-color);\n",
              "    }\n",
              "    40% {\n",
              "      border-color: transparent;\n",
              "      border-right-color: var(--fill-color);\n",
              "      border-top-color: var(--fill-color);\n",
              "    }\n",
              "    60% {\n",
              "      border-color: transparent;\n",
              "      border-right-color: var(--fill-color);\n",
              "    }\n",
              "    80% {\n",
              "      border-color: transparent;\n",
              "      border-right-color: var(--fill-color);\n",
              "      border-bottom-color: var(--fill-color);\n",
              "    }\n",
              "    90% {\n",
              "      border-color: transparent;\n",
              "      border-bottom-color: var(--fill-color);\n",
              "    }\n",
              "  }\n",
              "</style>\n",
              "\n",
              "  <script>\n",
              "    async function quickchart(key) {\n",
              "      const quickchartButtonEl =\n",
              "        document.querySelector('#' + key + ' button');\n",
              "      quickchartButtonEl.disabled = true;  // To prevent multiple clicks.\n",
              "      quickchartButtonEl.classList.add('colab-df-spinner');\n",
              "      try {\n",
              "        const charts = await google.colab.kernel.invokeFunction(\n",
              "            'suggestCharts', [key], {});\n",
              "      } catch (error) {\n",
              "        console.error('Error during call to suggestCharts:', error);\n",
              "      }\n",
              "      quickchartButtonEl.classList.remove('colab-df-spinner');\n",
              "      quickchartButtonEl.classList.add('colab-df-quickchart-complete');\n",
              "    }\n",
              "    (() => {\n",
              "      let quickchartButtonEl =\n",
              "        document.querySelector('#df-3f84424e-0897-44f3-8db3-293a55a412a2 button');\n",
              "      quickchartButtonEl.style.display =\n",
              "        google.colab.kernel.accessAllowed ? 'block' : 'none';\n",
              "    })();\n",
              "  </script>\n",
              "</div>\n",
              "\n",
              "  <div id=\"id_d9a07399-c2ce-4ffb-9bff-4d65d0d24f13\">\n",
              "    <style>\n",
              "      .colab-df-generate {\n",
              "        background-color: #E8F0FE;\n",
              "        border: none;\n",
              "        border-radius: 50%;\n",
              "        cursor: pointer;\n",
              "        display: none;\n",
              "        fill: #1967D2;\n",
              "        height: 32px;\n",
              "        padding: 0 0 0 0;\n",
              "        width: 32px;\n",
              "      }\n",
              "\n",
              "      .colab-df-generate:hover {\n",
              "        background-color: #E2EBFA;\n",
              "        box-shadow: 0px 1px 2px rgba(60, 64, 67, 0.3), 0px 1px 3px 1px rgba(60, 64, 67, 0.15);\n",
              "        fill: #174EA6;\n",
              "      }\n",
              "\n",
              "      [theme=dark] .colab-df-generate {\n",
              "        background-color: #3B4455;\n",
              "        fill: #D2E3FC;\n",
              "      }\n",
              "\n",
              "      [theme=dark] .colab-df-generate:hover {\n",
              "        background-color: #434B5C;\n",
              "        box-shadow: 0px 1px 3px 1px rgba(0, 0, 0, 0.15);\n",
              "        filter: drop-shadow(0px 1px 2px rgba(0, 0, 0, 0.3));\n",
              "        fill: #FFFFFF;\n",
              "      }\n",
              "    </style>\n",
              "    <button class=\"colab-df-generate\" onclick=\"generateWithVariable('datos_unit_2')\"\n",
              "            title=\"Generate code using this dataframe.\"\n",
              "            style=\"display:none;\">\n",
              "\n",
              "  <svg xmlns=\"http://www.w3.org/2000/svg\" height=\"24px\"viewBox=\"0 0 24 24\"\n",
              "       width=\"24px\">\n",
              "    <path d=\"M7,19H8.4L18.45,9,17,7.55,7,17.6ZM5,21V16.75L18.45,3.32a2,2,0,0,1,2.83,0l1.4,1.43a1.91,1.91,0,0,1,.58,1.4,1.91,1.91,0,0,1-.58,1.4L9.25,21ZM18.45,9,17,7.55Zm-12,3A5.31,5.31,0,0,0,4.9,8.1,5.31,5.31,0,0,0,1,6.5,5.31,5.31,0,0,0,4.9,4.9,5.31,5.31,0,0,0,6.5,1,5.31,5.31,0,0,0,8.1,4.9,5.31,5.31,0,0,0,12,6.5,5.46,5.46,0,0,0,6.5,12Z\"/>\n",
              "  </svg>\n",
              "    </button>\n",
              "    <script>\n",
              "      (() => {\n",
              "      const buttonEl =\n",
              "        document.querySelector('#id_d9a07399-c2ce-4ffb-9bff-4d65d0d24f13 button.colab-df-generate');\n",
              "      buttonEl.style.display =\n",
              "        google.colab.kernel.accessAllowed ? 'block' : 'none';\n",
              "\n",
              "      buttonEl.onclick = () => {\n",
              "        google.colab.notebook.generateWithVariable('datos_unit_2');\n",
              "      }\n",
              "      })();\n",
              "    </script>\n",
              "  </div>\n",
              "\n",
              "    </div>\n",
              "  </div>\n"
            ],
            "application/vnd.google.colaboratory.intrinsic+json": {
              "type": "dataframe",
              "variable_name": "datos_unit_2"
            }
          },
          "metadata": {},
          "execution_count": 20
        }
      ]
    },
    {
      "cell_type": "code",
      "metadata": {
        "id": "p01OgSb8s3tD",
        "colab": {
          "base_uri": "https://localhost:8080/"
        },
        "outputId": "4223119b-00b7-40d3-971a-2f822271fe37"
      },
      "source": [
        "from google.colab import drive\n",
        "drive.mount('/content/drive')"
      ],
      "execution_count": null,
      "outputs": [
        {
          "output_type": "stream",
          "name": "stdout",
          "text": [
            "Mounted at /content/drive\n"
          ]
        }
      ]
    },
    {
      "cell_type": "code",
      "source": [],
      "metadata": {
        "id": "da50gi99bV9z"
      },
      "execution_count": null,
      "outputs": []
    },
    {
      "cell_type": "code",
      "metadata": {
        "id": "L1qtnd0kTkyU"
      },
      "source": [
        "my_list=[datos_unit_1,datos_unit_2]"
      ],
      "execution_count": null,
      "outputs": []
    },
    {
      "cell_type": "code",
      "metadata": {
        "id": "LkmsHOJ1SsF3"
      },
      "source": [
        "UNIT=pd.concat(my_list,join=\"inner\", ignore_index=True)"
      ],
      "execution_count": null,
      "outputs": []
    },
    {
      "cell_type": "code",
      "metadata": {
        "id": "MSmCz2CLTZfo"
      },
      "source": [
        "UNIT"
      ],
      "execution_count": null,
      "outputs": []
    },
    {
      "cell_type": "code",
      "metadata": {
        "id": "LkXWmnPITxcW",
        "colab": {
          "base_uri": "https://localhost:8080/"
        },
        "outputId": "ebd5e6e6-4913-4f84-c356-f479f625e973"
      },
      "source": [
        "print(UNIT.isnull().sum())"
      ],
      "execution_count": null,
      "outputs": [
        {
          "output_type": "stream",
          "name": "stdout",
          "text": [
            "Time         0\n",
            "URMS_AVG     0\n",
            "URMS_MAX     0\n",
            "URMS_MIN     0\n",
            "IRMS_AVG     0\n",
            "IRMS_MAX     0\n",
            "IRMS_MIN     0\n",
            "FREQ_AVG     0\n",
            "FREQ_MAX     0\n",
            "FREQ_MIN     0\n",
            "P_AVG        0\n",
            "P_MAX        0\n",
            "P_MIN        0\n",
            "Q_AVG        0\n",
            "Q_MAX        0\n",
            "Q_MIN        0\n",
            "S_AVG        0\n",
            "S_MAX        0\n",
            "S_MIN        0\n",
            "UTHDR_AVG    0\n",
            "UTHDR_MAX    0\n",
            "UTHDR_MIN    0\n",
            "ITHDR_AVG    0\n",
            "ITHDR_MAX    0\n",
            "ITHDR_MIN    0\n",
            "PF_AVG       0\n",
            "PF_MAX       0\n",
            "PF_MIN       0\n",
            "PST_AVG      0\n",
            "PST_MAX      0\n",
            "PST_MIN      0\n",
            "UCF_AVG      0\n",
            "UCF_MAX      0\n",
            "UCF_MIN      0\n",
            "ICF_AVG      0\n",
            "ICF_MAX      0\n",
            "ICF_MIN      0\n",
            "Udc_AVG      0\n",
            "Udc_MAX      0\n",
            "Udc_MIN      0\n",
            "Uac_AVG      0\n",
            "Uac_MAX      0\n",
            "Uac_MIN      0\n",
            "Idc_AVG      0\n",
            "Idc_MAX      0\n",
            "Idc_MIN      0\n",
            "Iac_AVG      0\n",
            "Iac_MAX      0\n",
            "Iac_MIN      0\n",
            "KF_AVG       0\n",
            "KF_MAX       0\n",
            "KF_MIN       0\n",
            "dtype: int64\n"
          ]
        }
      ]
    },
    {
      "cell_type": "code",
      "metadata": {
        "id": "PrNg5OxTT5hH",
        "colab": {
          "base_uri": "https://localhost:8080/",
          "height": 449
        },
        "outputId": "370d8d64-9c69-4109-cf9f-580070b33519"
      },
      "source": [
        "#plt.figure(figsize=(19*2,17.8))\n",
        "plt.plot(UNIT.index,UNIT.P_AVG)\n",
        "\n",
        "plt.xlabel('samples')\n",
        "plt.ylabel('P[W]')\n",
        "#plt.title('Fridge active power [W]')\n",
        "plt.grid()\n",
        "\n",
        "plt.savefig('Fridge active power [W]')\n"
      ],
      "execution_count": null,
      "outputs": [
        {
          "output_type": "display_data",
          "data": {
            "text/plain": [
              "<Figure size 640x480 with 1 Axes>"
            ],
            "image/png": "[encoded data removed]"
          },
          "metadata": {}
        }
      ]
    },
    {
      "cell_type": "code",
      "metadata": {
        "id": "LaACVbszWHNk"
      },
      "source": [
        "zoom_unit=UNIT[20000:20100]"
      ],
      "execution_count": null,
      "outputs": []
    },
    {
      "cell_type": "code",
      "metadata": {
        "id": "kmRMFpwsaVIY",
        "colab": {
          "base_uri": "https://localhost:8080/",
          "height": 833
        },
        "outputId": "d5bc5a55-8ffe-40e3-db44-2840bc127ce3"
      },
      "source": [
        "plt.figure(figsize=(19*2,17.8))\n",
        "plt.plot(zoom_unit.index, zoom_unit['IRMS_AVG'])"
      ],
      "execution_count": null,
      "outputs": [
        {
          "output_type": "execute_result",
          "data": {
            "text/plain": [
              "[<matplotlib.lines.Line2D at 0x78a13488ba90>]"
            ]
          },
          "metadata": {},
          "execution_count": 26
        },
        {
          "output_type": "display_data",
          "data": {
            "text/plain": [
              "<Figure size 3800x1780 with 1 Axes>"
            ],
            "image/png": "[encoded data removed]"
          },
          "metadata": {}
        }
      ]
    },
    {
      "cell_type": "markdown",
      "metadata": {
        "id": "1n4Q4msvXWQn"
      },
      "source": [
        "Al observar"
      ]
    },
    {
      "cell_type": "code",
      "metadata": {
        "id": "toQr4uUkW2hu"
      },
      "source": [],
      "execution_count": null,
      "outputs": []
    },
    {
      "cell_type": "code",
      "metadata": {
        "id": "GJEWK1lHIbag"
      },
      "source": [
        "UNIT.describe()"
      ],
      "execution_count": null,
      "outputs": []
    },
    {
      "cell_type": "markdown",
      "metadata": {
        "id": "Ln2QwiM87UT-"
      },
      "source": [
        "Exportar a CSV"
      ]
    },
    {
      "cell_type": "code",
      "metadata": {
        "id": "JkW8a9oe7WM0"
      },
      "source": [
        "#UNIT.to_csv (r'/content/drive/MyDrive/Doctorado CyT, Maxi/DataSet - doctorado/Heladera_Maxihouse/UNIT-UT283A\\export_dataframe.csv', index = False, header=True)"
      ],
      "execution_count": null,
      "outputs": []
    },
    {
      "cell_type": "markdown",
      "metadata": {
        "id": "qlYj8VQw-v7b"
      },
      "source": [
        "Armónicos de la corriente"
      ]
    },
    {
      "cell_type": "code",
      "metadata": {
        "id": "7LckTWEy9pyM"
      },
      "source": [
        "datos_unit_arm1=pd.read_csv('/content/drive/MyDrive/Doctorado CyT, Maxi/DataSet - doctorado/Heladera_Maxihouse/UNIT-UT283A/1/IHarm.csv', header=0, delimiter=',')\n",
        "datos_unit_arm1"
      ],
      "execution_count": null,
      "outputs": []
    },
    {
      "cell_type": "code",
      "source": [
        "datos_unit_arm1.describe()"
      ],
      "metadata": {
        "id": "lHO4LPgIwX8Y"
      },
      "execution_count": null,
      "outputs": []
    },
    {
      "cell_type": "code",
      "metadata": {
        "id": "O0GadEsoAFv7"
      },
      "source": [
        "datos_unit_arm2=pd.read_csv('/content/drive/MyDrive/Doctorado CyT, Maxi/DataSet - doctorado/Heladera_Maxihouse/UNIT-UT283A/2/IHarm.csv', header=0, delimiter=',')\n",
        "datos_unit_arm2"
      ],
      "execution_count": null,
      "outputs": []
    },
    {
      "cell_type": "code",
      "metadata": {
        "id": "ysASao0D-7uX"
      },
      "source": [
        "my_list=[datos_unit_arm1,datos_unit_arm2]"
      ],
      "execution_count": null,
      "outputs": []
    },
    {
      "cell_type": "code",
      "metadata": {
        "id": "tUbn9yBP_FiJ"
      },
      "source": [
        "UNIT_arm_I=pd.concat(my_list,join=\"inner\", ignore_index=True)"
      ],
      "execution_count": null,
      "outputs": []
    },
    {
      "cell_type": "code",
      "metadata": {
        "id": "IIsjDWi-BFFT"
      },
      "source": [
        "UNIT_arm_I.describe()"
      ],
      "execution_count": null,
      "outputs": []
    },
    {
      "cell_type": "markdown",
      "metadata": {
        "id": "Yh5Cv6iJCspf"
      },
      "source": [
        "Armónicos de la tensión"
      ]
    },
    {
      "cell_type": "code",
      "metadata": {
        "id": "6aMPt0t8BLoU"
      },
      "source": [
        "datos_unit_armU1=pd.read_csv('/content/drive/MyDrive/Doctorado CyT, Maxi/DataSet - doctorado/Heladera_Maxihouse/UNIT-UT283A/1/UHarm.csv', header=0, delimiter=',')\n"
      ],
      "execution_count": null,
      "outputs": []
    },
    {
      "cell_type": "code",
      "metadata": {
        "id": "VQgYDIxDDSgd"
      },
      "source": [
        "datos_unit_armU2=pd.read_csv('/content/drive/MyDrive/Doctorado CyT, Maxi/DataSet - doctorado/Heladera_Maxihouse/UNIT-UT283A/2/UHarm.csv', header=0, delimiter=',')\n"
      ],
      "execution_count": null,
      "outputs": []
    },
    {
      "cell_type": "code",
      "metadata": {
        "id": "GEX0uh7GDpYb"
      },
      "source": [
        "my_list=[datos_unit_armU1,datos_unit_armU2]"
      ],
      "execution_count": null,
      "outputs": []
    },
    {
      "cell_type": "code",
      "metadata": {
        "id": "KVciwFlTD_sA"
      },
      "source": [
        "UNIT_arm_U=pd.concat(my_list,join=\"inner\", ignore_index=True)"
      ],
      "execution_count": null,
      "outputs": []
    },
    {
      "cell_type": "code",
      "metadata": {
        "id": "dkrRnrmIEA74"
      },
      "source": [
        "UNIT_arm_U.describe()"
      ],
      "execution_count": null,
      "outputs": []
    },
    {
      "cell_type": "markdown",
      "metadata": {
        "id": "_MrdEjpiUcQS"
      },
      "source": [
        "Dranetz"
      ]
    },
    {
      "cell_type": "markdown",
      "metadata": {
        "id": "UMKQBr33Ey2g"
      },
      "source": [
        "Corriente y tensión rms"
      ]
    },
    {
      "cell_type": "code",
      "metadata": {
        "id": "jwii8mCvUUff"
      },
      "source": [
        "my_list=[]\n",
        "file_list= glob.glob('/content/drive/MyDrive/Doctorado CyT, Maxi/DataSet - doctorado/Heladera_Maxihouse/Dranetz/U_I/*.txt')\n",
        "print(file_list)\n",
        "path= '/content/drive/MyDrive/Doctorado CyT, Maxi/DataSet - doctorado/Heladera_Maxihouse/Dranetz/U_I/*.txt'\n",
        "for i in sorted(glob.glob(path)):\n",
        "  print(i)\n",
        "for i in sorted(glob.glob(path)):\n",
        "  df=pd.read_csv(i,delimiter=';',encoding=\"ISO-8859-1\",header=0,)\n",
        "  my_list.append(df)\n",
        "  #sorted(my_list)\n",
        "  df_U_I_concat=pd.concat(my_list,join=\"inner\", ignore_index=True)\n",
        "  df_U_I_concat"
      ],
      "execution_count": null,
      "outputs": []
    },
    {
      "cell_type": "code",
      "metadata": {
        "id": "jKwzRhX_U7Kd"
      },
      "source": [
        " df_U_I_concat"
      ],
      "execution_count": null,
      "outputs": []
    },
    {
      "cell_type": "code",
      "metadata": {
        "id": "41uQ3ellVlM8"
      },
      "source": [
        "print(df_U_I_concat.isnull().sum())"
      ],
      "execution_count": null,
      "outputs": []
    },
    {
      "cell_type": "code",
      "metadata": {
        "id": "vnbhaWxcVpTw"
      },
      "source": [
        "plt.figure(figsize=(19*2,17.8))\n",
        "plt.plot(df_U_I_concat.index, df_U_I_concat['AIrmsValor[Amperios]'])"
      ],
      "execution_count": null,
      "outputs": []
    },
    {
      "cell_type": "code",
      "metadata": {
        "id": "LuJXt3hadPcJ"
      },
      "source": [
        "plt.figure(figsize=(19*2,17.8))\n",
        "plt.plot(df_U_I_concat.index, df_U_I_concat['AVrmsValor[Voltios]'])"
      ],
      "execution_count": null,
      "outputs": []
    },
    {
      "cell_type": "markdown",
      "metadata": {
        "id": "bd0Ooos7FTiu"
      },
      "source": [
        "Potencias y factor de potencia"
      ]
    },
    {
      "cell_type": "code",
      "metadata": {
        "id": "5oBpOvuwFWJS"
      },
      "source": [
        "my_list=[]\n",
        "file_list= glob.glob('/content/drive/MyDrive/Doctorado CyT, Maxi/DataSet - doctorado/Heladera_Maxihouse/Dranetz/PQSPF/*.txt')\n",
        "print(file_list)\n",
        "path= '/content/drive/MyDrive/Doctorado CyT, Maxi/DataSet - doctorado/Heladera_Maxihouse/Dranetz/PQSPF/*.txt'\n",
        "for i in sorted(glob.glob(path)):\n",
        "  print(i)\n",
        "  df=pd.read_csv(i,delimiter=';',encoding=\"ISO-8859-1\",header=0,)\n",
        "  my_list.append(df)\n",
        "  #for filename in sorted(glob.glob(os.path.join(directory, \"*.txt\"))):\n",
        "  #sorted(my_list)\n",
        "  df_PQSPF_concat=pd.concat(my_list,join=\"inner\", ignore_index=True)\n",
        "\n",
        "\n"
      ],
      "execution_count": null,
      "outputs": []
    },
    {
      "cell_type": "code",
      "metadata": {
        "id": "zwtjZVH5-KE2"
      },
      "source": [
        "df_PQSPF_concat"
      ],
      "execution_count": null,
      "outputs": []
    },
    {
      "cell_type": "code",
      "metadata": {
        "id": "ej9VnIeh1p0A"
      },
      "source": [
        "plt.figure(figsize=(19*2,17.8))\n",
        "plt.plot(df_PQSPF_concat.index, df_PQSPF_concat['TOTP(kW)Máx[kW]'])"
      ],
      "execution_count": null,
      "outputs": []
    },
    {
      "cell_type": "code",
      "metadata": {
        "id": "Tf3DvxookW9q"
      },
      "source": [
        "plt.figure(figsize=(19*2,17.8))\n",
        "plt.plot(df_PQSPF_concat.index, df_PQSPF_concat['TOTQ-Fnd(kVAR)Máx[kVAR]'])"
      ],
      "execution_count": null,
      "outputs": []
    },
    {
      "cell_type": "markdown",
      "metadata": {
        "id": "mn9lWUxUP5Fw"
      },
      "source": [
        "Armónicos"
      ]
    },
    {
      "cell_type": "code",
      "metadata": {
        "id": "wZ7EIMn1_7qL"
      },
      "source": [
        "my_list=[]\n",
        "file_list= glob.glob('/content/drive/MyDrive/Doctorado CyT, Maxi/DataSet - doctorado/Heladera_Maxihouse/Dranetz/Armónicos/*.txt')\n",
        "print(file_list)\n",
        "path= '/content/drive/MyDrive/Doctorado CyT, Maxi/DataSet - doctorado/Heladera_Maxihouse/Dranetz/Armónicos/*.txt'\n",
        "for i in sorted(glob.glob(path)):\n",
        "  print(i)\n",
        "for i in glob.glob(path):\n",
        "  df=pd.read_csv(i,delimiter=';',encoding=\"ISO-8859-1\",header=0,)\n",
        "  my_list.append(df)\n",
        "  #sorted(my_list)\n",
        "  df_arm_concat=pd.concat(my_list,join=\"inner\", ignore_index=True)"
      ],
      "execution_count": null,
      "outputs": []
    },
    {
      "cell_type": "code",
      "metadata": {
        "id": "-N6_iobFB5uH"
      },
      "source": [
        " df_arm_concat"
      ],
      "execution_count": null,
      "outputs": []
    },
    {
      "cell_type": "code",
      "metadata": {
        "id": "lolF025WQMo-"
      },
      "source": [
        "plt.figure(figsize=(19*2,17.8))\n",
        "plt.plot(df_arm_concat.index, df_arm_concat['AIArmo(150.0Hz)Valor[Amperios]'])"
      ],
      "execution_count": null,
      "outputs": []
    },
    {
      "cell_type": "code",
      "metadata": {
        "id": "IvFJgc89WD5l"
      },
      "source": [
        "df_arm_concat.describe()"
      ],
      "execution_count": null,
      "outputs": []
    },
    {
      "cell_type": "markdown",
      "metadata": {
        "id": "Zr29jEv2B_U_"
      },
      "source": [
        "Wbox"
      ]
    },
    {
      "cell_type": "markdown",
      "metadata": {
        "id": "d8hBGC0pGkQf"
      },
      "source": [
        "P"
      ]
    },
    {
      "cell_type": "code",
      "metadata": {
        "id": "wYt74_TLVt8R"
      },
      "source": [
        "my_list=[]\n",
        "file_list= glob.glob('/content/drive/MyDrive/Doctorado CyT, Maxi/DataSet - doctorado/Heladera_Maxihouse/WBOX/P/*.xlsx')\n",
        "print(file_list)\n",
        "path= '/content/drive/MyDrive/Doctorado CyT, Maxi/DataSet - doctorado/Heladera_Maxihouse/WBOX/P/*.xlsx'\n",
        "for i in glob.glob(path):\n",
        "  print(i)\n",
        "for i in glob.glob(path):\n",
        "  df=pd.read_excel(i)\n",
        "  my_list.append(pd.read_excel(i))\n",
        "  df_todos_P=pd.concat(my_list,join=\"inner\", ignore_index=True)\n",
        "  df_todos_P\n",
        "\n",
        "  #df_todos_P=df_todos.drop(['Circuito 2','Circuito 3', 'Total'], axis=1)\n",
        "df_todos_P['Circuit 3'].replace(\n",
        "    to_replace=['---'],\n",
        "    value=0,\n",
        "    inplace=True\n",
        ")\n",
        "fig3=df_todos_P.plot(\"Date\",\"Circuit 3\")\n",
        "\n",
        "df_todos_P=df_todos_P.drop(['Circuit 1','Circuit 2'], axis=1)\n",
        "df_todos_P['Circuit 3'].replace(\n",
        "    to_replace=['---'],\n",
        "   value=0,\n",
        "   inplace=True\n",
        ")\n",
        "#fig3=df_todos_P.plot(\"Date\",\"Circuit 3\")"
      ],
      "execution_count": null,
      "outputs": []
    },
    {
      "cell_type": "code",
      "metadata": {
        "id": "1cJzKsN55vWc"
      },
      "source": [
        "df_todos_P"
      ],
      "execution_count": null,
      "outputs": []
    },
    {
      "cell_type": "code",
      "metadata": {
        "id": "gJ4V4s_E2og5"
      },
      "source": [
        "df_todos_P.describe()"
      ],
      "execution_count": null,
      "outputs": []
    },
    {
      "cell_type": "markdown",
      "metadata": {
        "id": "pLcLK21HHFB4"
      },
      "source": [
        "Q"
      ]
    },
    {
      "cell_type": "code",
      "metadata": {
        "id": "eoWykNIdQGW1"
      },
      "source": [
        "my_list=[]\n",
        "file_list= glob.glob('/content/drive/MyDrive/Doctorado CyT, Maxi/DataSet - doctorado/Heladera_Maxihouse/WBOX/Q/*.xlsx')\n",
        "print(file_list)\n",
        "path= '/content/drive/MyDrive/Doctorado CyT, Maxi/DataSet - doctorado/Heladera_Maxihouse/WBOX/Q/*.xlsx'\n",
        "for i in glob.glob(path):\n",
        "  print(i)\n",
        "for i in glob.glob(path):\n",
        "  df=pd.read_excel(i)\n",
        "  my_list.append(pd.read_excel(i))\n",
        "  df_todosQ=pd.concat(my_list,join=\"inner\", ignore_index=True)\n",
        "  df_todosQ\n",
        "\n",
        "  #df_todos_P=df_todos.drop(['Circuito 2','Circuito 3', 'Total'], axis=1)\n",
        "df_todosQ['Circuit 3'].replace(\n",
        "    to_replace=['---'],\n",
        "    value=0,\n",
        "    inplace=True\n",
        ")\n",
        "fig3=df_todosQ.plot(\"Date\",\"Circuit 3\")"
      ],
      "execution_count": null,
      "outputs": []
    },
    {
      "cell_type": "code",
      "metadata": {
        "id": "numskMfk24Ei"
      },
      "source": [
        "df_todosQ.describe()"
      ],
      "execution_count": null,
      "outputs": []
    },
    {
      "cell_type": "markdown",
      "metadata": {
        "id": "645EnudmHF-d"
      },
      "source": [
        "S"
      ]
    },
    {
      "cell_type": "code",
      "metadata": {
        "id": "JMZXr4RbQ_Dd"
      },
      "source": [
        "my_list=[]\n",
        "file_list= glob.glob('/content/drive/MyDrive/Doctorado CyT, Maxi/DataSet - doctorado/Heladera_Maxihouse/WBOX/S/*.xlsx')\n",
        "print(file_list)\n",
        "path= '/content/drive/MyDrive/Doctorado CyT, Maxi/DataSet - doctorado/Heladera_Maxihouse/WBOX/S/*.xlsx'\n",
        "for i in glob.glob(path):\n",
        "  print(i)\n",
        "for i in glob.glob(path):\n",
        "  df=pd.read_excel(i)\n",
        "  my_list.append(pd.read_excel(i))\n",
        "  df_todosS=pd.concat(my_list,join=\"inner\", ignore_index=True)\n",
        "  df_todosS\n",
        "\n",
        "  #df_todos_P=df_todos.drop(['Circuito 2','Circuito 3', 'Total'], axis=1)\n",
        "df_todosS['Circuit 3'].replace(\n",
        "    to_replace=['---'],\n",
        "    value=0,\n",
        "    inplace=True\n",
        ")\n",
        "fig3=df_todosS.plot(\"Date\",\"Circuit 3\")"
      ],
      "execution_count": null,
      "outputs": []
    },
    {
      "cell_type": "code",
      "metadata": {
        "id": "BSFWRuBP6BPe"
      },
      "source": [
        "df_todosS"
      ],
      "execution_count": null,
      "outputs": []
    },
    {
      "cell_type": "code",
      "metadata": {
        "id": "XlFWHnhF6Q3n"
      },
      "source": [
        "df_todosS.describe()"
      ],
      "execution_count": null,
      "outputs": []
    },
    {
      "cell_type": "markdown",
      "metadata": {
        "id": "etSo1TzFHG8R"
      },
      "source": [
        "PF"
      ]
    },
    {
      "cell_type": "code",
      "metadata": {
        "id": "rezUiW_FSpHs"
      },
      "source": [
        "my_list=[]\n",
        "file_list= glob.glob('/content/drive/MyDrive/Doctorado CyT, Maxi/DataSet - doctorado/Heladera_Maxihouse/WBOX/PF/*.xlsx')\n",
        "print(file_list)\n",
        "path= '/content/drive/MyDrive/Doctorado CyT, Maxi/DataSet - doctorado/Heladera_Maxihouse/WBOX/PF/*.xlsx'\n",
        "for i in glob.glob(path):\n",
        "  print(i)\n",
        "for i in glob.glob(path):\n",
        "  df=pd.read_excel(i)\n",
        "  my_list.append(pd.read_excel(i))\n",
        "  df_todosPF=pd.concat(my_list,join=\"inner\", ignore_index=True)\n",
        "  df_todosPF\n",
        "\n",
        "  #df_todos_P=df_todos.drop(['Circuito 2','Circuito 3', 'Total'], axis=1)\n",
        "df_todosPF['Circuit 3'].replace(\n",
        "    to_replace=['---'],\n",
        "    value=0,\n",
        "    inplace=True\n",
        ")\n",
        "fig3=df_todosPF.plot(\"Date\",\"Circuit 3\")"
      ],
      "execution_count": null,
      "outputs": []
    },
    {
      "cell_type": "code",
      "metadata": {
        "id": "DGP7Up9N6W5j"
      },
      "source": [
        "df_todosPF.describe()"
      ],
      "execution_count": null,
      "outputs": []
    },
    {
      "cell_type": "markdown",
      "metadata": {
        "id": "ZEK30oj2TKS-"
      },
      "source": [
        "I"
      ]
    },
    {
      "cell_type": "code",
      "metadata": {
        "id": "pqf04yRpTVCi"
      },
      "source": [
        "my_list=[]\n",
        "file_list= glob.glob('/content/drive/MyDrive/Doctorado CyT, Maxi/DataSet - doctorado/Heladera_Maxihouse/WBOX/I/*.xlsx')\n",
        "print(file_list)\n",
        "path= '/content/drive/MyDrive/Doctorado CyT, Maxi/DataSet - doctorado/Heladera_Maxihouse/WBOX/I/*.xlsx'\n",
        "for i in glob.glob(path):\n",
        "  print(i)\n",
        "for i in glob.glob(path):\n",
        "  df=pd.read_excel(i)\n",
        "  my_list.append(pd.read_excel(i))\n",
        "  df_todos_I=pd.concat(my_list,join=\"inner\", ignore_index=True)\n",
        "  df_todos_I\n",
        "\n",
        "  #df_todos_P=df_todos.drop(['Circuito 2','Circuito 3', 'Total'], axis=1)\n",
        "df_todos_I['Circuit 3'].replace(\n",
        "    to_replace=['---'],\n",
        "    value=0,\n",
        "    inplace=True\n",
        ")\n",
        "fig3=df_todos_I.plot(\"Date\",\"Circuit 3\")"
      ],
      "execution_count": null,
      "outputs": []
    },
    {
      "cell_type": "code",
      "metadata": {
        "id": "G0ZJsc6Yjh5z"
      },
      "source": [
        "df_todos_I.describe()"
      ],
      "execution_count": null,
      "outputs": []
    },
    {
      "cell_type": "code",
      "metadata": {
        "id": "hxfdv4M_kbzs"
      },
      "source": [
        "plt.figure(figsize=(19*2,17.8))\n",
        "plt.plot(df_todos_I.index, df_todos_I['Circuit 3'])"
      ],
      "execution_count": null,
      "outputs": []
    },
    {
      "cell_type": "markdown",
      "metadata": {
        "id": "iCvmbGIkUpEL"
      },
      "source": [
        "U"
      ]
    },
    {
      "cell_type": "code",
      "metadata": {
        "id": "RQpMVY24UopJ"
      },
      "source": [
        "my_list=[]\n",
        "file_list= glob.glob('/content/drive/MyDrive/Doctorado CyT, Maxi/DataSet - doctorado/Heladera_Maxihouse/WBOX/U/*.xlsx')\n",
        "print(file_list)\n",
        "path= '/content/drive/MyDrive/Doctorado CyT, Maxi/DataSet - doctorado/Heladera_Maxihouse/WBOX/U/*.xlsx'\n",
        "for i in glob.glob(path):\n",
        "  print(i)\n",
        "for i in glob.glob(path):\n",
        "  df=pd.read_excel(i)\n",
        "  my_list.append(pd.read_excel(i))\n",
        "  df_todos_U=pd.concat(my_list,join=\"inner\", ignore_index=True)\n",
        "  df_todos_U\n",
        "\n",
        "  #df_todos_P=df_todos.drop(['Circuito 2','Circuito 3', 'Total'], axis=1)\n",
        "df_todos_U['Circuit 3'].replace(\n",
        "    to_replace=['---'],\n",
        "    value=0,\n",
        "    inplace=True\n",
        ")\n",
        "fig3=df_todos_U.plot(\"Date\",\"Circuit 3\")"
      ],
      "execution_count": null,
      "outputs": []
    },
    {
      "cell_type": "code",
      "metadata": {
        "id": "OwXop-NoY5t1"
      },
      "source": [
        "df_todos_U"
      ],
      "execution_count": null,
      "outputs": []
    },
    {
      "cell_type": "code",
      "metadata": {
        "id": "LKwb5pGHY9GI"
      },
      "source": [
        "df_todos_U.describe()"
      ],
      "execution_count": null,
      "outputs": []
    },
    {
      "cell_type": "code",
      "metadata": {
        "id": "AMmqf6PpmGZF"
      },
      "source": [
        "plt.figure(figsize=(19*2,17.8))\n",
        "plt.plot(df_todos_U.index, df_todos_U['Circuit 3'])"
      ],
      "execution_count": null,
      "outputs": []
    },
    {
      "cell_type": "code",
      "metadata": {
        "id": "yZE8vjWimhyh"
      },
      "source": [],
      "execution_count": null,
      "outputs": []
    },
    {
      "cell_type": "markdown",
      "metadata": {
        "id": "xji_VmVDVHOF"
      },
      "source": [
        "THD_impar_corriente"
      ]
    },
    {
      "cell_type": "code",
      "metadata": {
        "id": "yiWUKsReU1wD"
      },
      "source": [
        "my_list=[]\n",
        "file_list= glob.glob('/content/drive/MyDrive/Doctorado CyT, Maxi/DataSet - doctorado/Heladera_Maxihouse/WBOX/%THD_impar_I/*.xlsx')\n",
        "print(file_list)\n",
        "path= '/content/drive/MyDrive/Doctorado CyT, Maxi/DataSet - doctorado/Heladera_Maxihouse/WBOX/%THD_impar_I/*.xlsx'\n",
        "for i in glob.glob(path):\n",
        "  print(i)\n",
        "for i in glob.glob(path):\n",
        "  df=pd.read_excel(i)\n",
        "  my_list.append(pd.read_excel(i))\n",
        "  df_todosTHD=pd.concat(my_list,join=\"inner\", ignore_index=True)\n",
        "  df_todosTHD\n",
        "\n",
        "  #df_todos_P=df_todos.drop(['Circuito 2','Circuito 3', 'Total'], axis=1)\n",
        "df_todosTHD['Circuit 3'].replace(\n",
        "    to_replace=['---'],\n",
        "    value=0,\n",
        "    inplace=True\n",
        ")\n",
        "fig3=df_todosTHD.plot(\"Date\",\"Circuit 3\")"
      ],
      "execution_count": null,
      "outputs": []
    },
    {
      "cell_type": "markdown",
      "metadata": {
        "id": "z9jB4J9bXFcx"
      },
      "source": [
        "THD_impar_tensión"
      ]
    },
    {
      "cell_type": "code",
      "metadata": {
        "id": "7cR_gRcAXArK"
      },
      "source": [
        "my_list=[]\n",
        "file_list= glob.glob('/content/drive/MyDrive/Doctorado CyT, Maxi/DataSet - doctorado/Heladera_Maxihouse/WBOX/%THD_impar_U/*.xlsx')\n",
        "print(file_list)\n",
        "path= '/content/drive/MyDrive/Doctorado CyT, Maxi/DataSet - doctorado/Heladera_Maxihouse/WBOX/%THD_impar_U/*.xlsx'\n",
        "for i in glob.glob(path):\n",
        "  print(i)\n",
        "for i in glob.glob(path):\n",
        "  df=pd.read_excel(i)\n",
        "  my_list.append(pd.read_excel(i))\n",
        "  df_todosTHD_U=pd.concat(my_list,join=\"inner\", ignore_index=True)\n",
        "  df_todosTHD_U\n",
        "\n",
        "  #df_todos_P=df_todos.drop(['Circuito 2','Circuito 3', 'Total'], axis=1)\n",
        "df_todosTHD_U['Circuit 3'].replace(\n",
        "    to_replace=['---'],\n",
        "    value=0,\n",
        "    inplace=True\n",
        ")\n",
        "fig3=df_todosTHD_U.plot(\"Date\",\"Circuit 3\")"
      ],
      "execution_count": null,
      "outputs": []
    },
    {
      "cell_type": "code",
      "metadata": {
        "id": "HCUpGZ9uZzX4"
      },
      "source": [
        "df_todosTHD_U"
      ],
      "execution_count": null,
      "outputs": []
    },
    {
      "cell_type": "code",
      "metadata": {
        "id": "V-yywSNmZ5li"
      },
      "source": [
        "df_todosTHD.describe()"
      ],
      "execution_count": null,
      "outputs": []
    },
    {
      "cell_type": "markdown",
      "metadata": {
        "id": "zynUkIAtZ_zH"
      },
      "source": [
        "3er_arm_corriente"
      ]
    },
    {
      "cell_type": "code",
      "metadata": {
        "id": "rcJZ1H9cZ1h6"
      },
      "source": [
        "my_list=[]\n",
        "file_list= glob.glob('/content/drive/MyDrive/Doctorado CyT, Maxi/DataSet - doctorado/Heladera_Maxihouse/WBOX/3erm_i/*.xlsx')\n",
        "print(file_list)\n",
        "path= '/content/drive/MyDrive/Doctorado CyT, Maxi/DataSet - doctorado/Heladera_Maxihouse/WBOX/3erm_i/*.xlsx'\n",
        "for i in glob.glob(path):\n",
        "  print(i)\n",
        "for i in glob.glob(path):\n",
        "  df=pd.read_excel(i)\n",
        "  my_list.append(pd.read_excel(i))\n",
        "  df_todos3arm=pd.concat(my_list,join=\"inner\", ignore_index=True)\n",
        "  df_todos3arm\n",
        "\n",
        "  #df_todos_P=df_todos.drop(['Circuito 2','Circuito 3', 'Total'], axis=1)\n",
        "df_todos3arm['Circuit 3'].replace(\n",
        "    to_replace=['---'],\n",
        "    value=0,\n",
        "    inplace=True\n",
        ")\n",
        "fig3=df_todos3arm.plot(\"Date\",\"Circuit 3\")"
      ],
      "execution_count": null,
      "outputs": []
    },
    {
      "cell_type": "markdown",
      "metadata": {
        "id": "HLpevkH3a7bl"
      },
      "source": [
        "5to_arm_corriente"
      ]
    },
    {
      "cell_type": "code",
      "metadata": {
        "id": "NCxYV_SZa-YZ"
      },
      "source": [
        "my_list=[]\n",
        "file_list= glob.glob('/content/drive/MyDrive/Doctorado CyT, Maxi/DataSet - doctorado/Heladera_Maxihouse/WBOX/5arm_i/*.xlsx')\n",
        "print(file_list)\n",
        "path= '/content/drive/MyDrive/Doctorado CyT, Maxi/DataSet - doctorado/Heladera_Maxihouse/WBOX/5arm_i/*.xlsx'\n",
        "for i in glob.glob(path):\n",
        "  print(i)\n",
        "for i in glob.glob(path):\n",
        "  df=pd.read_excel(i)\n",
        "  my_list.append(pd.read_excel(i))\n",
        "  df_todos5toarm=pd.concat(my_list,join=\"inner\", ignore_index=True)\n",
        "  df_todos5toarm\n",
        "\n",
        "  #df_todos_P=df_todos.drop(['Circuito 2','Circuito 3', 'Total'], axis=1)\n",
        "df_todos5toarm['Circuit 3'].replace(\n",
        "    to_replace=['---'],\n",
        "    value=0,\n",
        "    inplace=True\n",
        ")\n",
        "fig3=df_todos5toarm.plot(\"Date\",\"Circuit 3\")"
      ],
      "execution_count": null,
      "outputs": []
    },
    {
      "cell_type": "markdown",
      "metadata": {
        "id": "yWk225ymbND-"
      },
      "source": [
        "7mo_arm_corriente"
      ]
    },
    {
      "cell_type": "code",
      "metadata": {
        "id": "sBp1Mq_LbGXB"
      },
      "source": [
        "my_list=[]\n",
        "file_list= glob.glob('/content/drive/MyDrive/Doctorado CyT, Maxi/DataSet - doctorado/Heladera_Maxihouse/WBOX/7mo_i/*.xlsx')\n",
        "print(file_list)\n",
        "path= '/content/drive/MyDrive/Doctorado CyT, Maxi/DataSet - doctorado/Heladera_Maxihouse/WBOX/7mo_i/*.xlsx'\n",
        "for i in glob.glob(path):\n",
        "  print(i)\n",
        "for i in glob.glob(path):\n",
        "  df=pd.read_excel(i)\n",
        "  my_list.append(pd.read_excel(i))\n",
        "  df_todos7moarm=pd.concat(my_list,join=\"inner\", ignore_index=True)\n",
        "  df_todos7moarm\n",
        "\n",
        "  #df_todos_P=df_todos.drop(['Circuito 2','Circuito 3', 'Total'], axis=1)\n",
        "df_todos7moarm['Circuit 3'].replace(\n",
        "    to_replace=['---'],\n",
        "    value=0,\n",
        "    inplace=True\n",
        ")\n",
        "fig3=df_todos7moarm.plot(\"Date\",\"Circuit 3\")"
      ],
      "execution_count": null,
      "outputs": []
    },
    {
      "cell_type": "markdown",
      "metadata": {
        "id": "63qXU7JQbgrg"
      },
      "source": [
        "9no_arm_corriente"
      ]
    },
    {
      "cell_type": "code",
      "metadata": {
        "id": "gNp0wzAdbcag",
        "colab": {
          "base_uri": "https://localhost:8080/",
          "height": 240
        },
        "outputId": "6623b10b-3b73-41aa-8ce3-49c1a258d195"
      },
      "source": [
        "my_list=[]\n",
        "file_list= glob.glob('/content/drive/MyDrive/Doctorado CyT, Maxi/DataSet - doctorado/Heladera_Maxihouse/WBOX/9no_i/*.xlsx')\n",
        "print(file_list)\n",
        "path= '/content/drive/MyDrive/Doctorado CyT, Maxi/DataSet - doctorado/Heladera_Maxihouse/WBOX/9no_i/*.xlsx'\n",
        "for i in glob.glob(path):\n",
        "  print(i)\n",
        "for i in glob.glob(path):\n",
        "  df=pd.read_excel(i)\n",
        "  my_list.append(pd.read_excel(i))\n",
        "  df_todos9noarm=pd.concat(my_list,join=\"inner\", ignore_index=True)\n",
        "  df_todos9noarm\n",
        "\n",
        "  #df_todos_P=df_todos.drop(['Circuito 2','Circuito 3', 'Total'], axis=1)\n",
        "df_todos9noarm['Circuit 3'].replace(\n",
        "    to_replace=['---'],\n",
        "    value=0,\n",
        "    inplace=True\n",
        ")\n",
        "fig3=df_todos9noarm.plot(\"Date\",\"Circuit 3\")"
      ],
      "execution_count": null,
      "outputs": [
        {
          "output_type": "stream",
          "name": "stdout",
          "text": [
            "[]\n"
          ]
        },
        {
          "output_type": "error",
          "ename": "NameError",
          "evalue": "name 'df_todos9noarm' is not defined",
          "traceback": [
            "\u001b[0;31m---------------------------------------------------------------------------\u001b[0m",
            "\u001b[0;31mNameError\u001b[0m                                 Traceback (most recent call last)",
            "\u001b[0;32m<ipython-input-3-be67cd0235fe>\u001b[0m in \u001b[0;36m<cell line: 0>\u001b[0;34m()\u001b[0m\n\u001b[1;32m     12\u001b[0m \u001b[0;34m\u001b[0m\u001b[0m\n\u001b[1;32m     13\u001b[0m   \u001b[0;31m#df_todos_P=df_todos.drop(['Circuito 2','Circuito 3', 'Total'], axis=1)\u001b[0m\u001b[0;34m\u001b[0m\u001b[0;34m\u001b[0m\u001b[0m\n\u001b[0;32m---> 14\u001b[0;31m df_todos9noarm['Circuit 3'].replace(\n\u001b[0m\u001b[1;32m     15\u001b[0m     \u001b[0mto_replace\u001b[0m\u001b[0;34m=\u001b[0m\u001b[0;34m[\u001b[0m\u001b[0;34m'---'\u001b[0m\u001b[0;34m]\u001b[0m\u001b[0;34m,\u001b[0m\u001b[0;34m\u001b[0m\u001b[0;34m\u001b[0m\u001b[0m\n\u001b[1;32m     16\u001b[0m     \u001b[0mvalue\u001b[0m\u001b[0;34m=\u001b[0m\u001b[0;36m0\u001b[0m\u001b[0;34m,\u001b[0m\u001b[0;34m\u001b[0m\u001b[0;34m\u001b[0m\u001b[0m\n",
            "\u001b[0;31mNameError\u001b[0m: name 'df_todos9noarm' is not defined"
          ]
        }
      ]
    },
    {
      "cell_type": "markdown",
      "metadata": {
        "id": "GNtMPentcAKn"
      },
      "source": [
        "3er_arm_U"
      ]
    },
    {
      "cell_type": "code",
      "metadata": {
        "id": "0l82JfItbye5"
      },
      "source": [
        "my_list=[]\n",
        "file_list= glob.glob('/content/drive/MyDrive/Doctorado CyT, Maxi/DataSet - doctorado/Heladera_Maxihouse/WBOX/3er_arm_U/*.xlsx')\n",
        "print(file_list)\n",
        "path= '/content/drive/MyDrive/Doctorado CyT, Maxi/DataSet - doctorado/Heladera_Maxihouse/WBOX/3er_arm_U/*.xlsx'\n",
        "for i in glob.glob(path):\n",
        "  print(i)\n",
        "for i in glob.glob(path):\n",
        "  df=pd.read_excel(i)\n",
        "  my_list.append(pd.read_excel(i))\n",
        "  df_todos3erarmu=pd.concat(my_list,join=\"inner\", ignore_index=True)\n",
        "  df_todos3erarmu\n",
        "\n",
        "  #df_todos_P=df_todos.drop(['Circuito 2','Circuito 3', 'Total'], axis=1)\n",
        "df_todos3erarmu['Circuit 3'].replace(\n",
        "    to_replace=['---'],\n",
        "    value=0,\n",
        "    inplace=True\n",
        ")\n",
        "fig3=df_todos3erarmu.plot(\"Date\",\"Circuit 3\")"
      ],
      "execution_count": null,
      "outputs": []
    },
    {
      "cell_type": "code",
      "metadata": {
        "id": "3oYOaniBjSj6",
        "colab": {
          "base_uri": "https://localhost:8080/",
          "height": 148
        },
        "outputId": "cf99b21d-3423-4b4a-b67f-5c7d6c9d3ec0"
      },
      "source": [
        "df_todos3erarmu.describe()"
      ],
      "execution_count": null,
      "outputs": [
        {
          "output_type": "error",
          "ename": "NameError",
          "evalue": "name 'df_todos3erarmu' is not defined",
          "traceback": [
            "\u001b[0;31m---------------------------------------------------------------------------\u001b[0m",
            "\u001b[0;31mNameError\u001b[0m                                 Traceback (most recent call last)",
            "\u001b[0;32m<ipython-input-4-f45e661241cf>\u001b[0m in \u001b[0;36m<cell line: 0>\u001b[0;34m()\u001b[0m\n\u001b[0;32m----> 1\u001b[0;31m \u001b[0mdf_todos3erarmu\u001b[0m\u001b[0;34m.\u001b[0m\u001b[0mdescribe\u001b[0m\u001b[0;34m(\u001b[0m\u001b[0;34m)\u001b[0m\u001b[0;34m\u001b[0m\u001b[0;34m\u001b[0m\u001b[0m\n\u001b[0m",
            "\u001b[0;31mNameError\u001b[0m: name 'df_todos3erarmu' is not defined"
          ]
        }
      ]
    },
    {
      "cell_type": "markdown",
      "metadata": {
        "id": "L0cosO0jdeqp"
      },
      "source": [
        "5to_arm_U"
      ]
    },
    {
      "cell_type": "code",
      "metadata": {
        "id": "3upaXbtDcYEf"
      },
      "source": [
        "my_list=[]\n",
        "file_list= glob.glob('/content/drive/MyDrive/Doctorado CyT, Maxi/DataSet - doctorado/Heladera_Maxihouse/WBOX/5to_arm_U/*.xlsx')\n",
        "print(file_list)\n",
        "path= '/content/drive/MyDrive/Doctorado CyT, Maxi/DataSet - doctorado/Heladera_Maxihouse/WBOX/5to_arm_U/*.xlsx'\n",
        "for i in glob.glob(path):\n",
        "  print(i)\n",
        "for i in glob.glob(path):\n",
        "  df=pd.read_excel(i)\n",
        "  my_list.append(pd.read_excel(i))\n",
        "  df_todos5toarmu=pd.concat(my_list,join=\"inner\", ignore_index=True)\n",
        "  df_todos5toarmu\n",
        "\n",
        "  #df_todos_P=df_todos.drop(['Circuito 2','Circuito 3', 'Total'], axis=1)\n",
        "df_todos5toarmu['Circuit 3'].replace(\n",
        "    to_replace=['---'],\n",
        "    value=0,\n",
        "    inplace=True\n",
        ")\n",
        "fig3=df_todos5toarmu.plot(\"Date\",\"Circuit 3\")"
      ],
      "execution_count": null,
      "outputs": []
    },
    {
      "cell_type": "markdown",
      "metadata": {
        "id": "CfaJB5atiOPJ"
      },
      "source": [
        "7mo arm U"
      ]
    },
    {
      "cell_type": "code",
      "metadata": {
        "id": "HZjWxDzFfnNd",
        "colab": {
          "base_uri": "https://localhost:8080/",
          "height": 240
        },
        "outputId": "6fd4191d-5686-41b0-c959-b4175466bb23"
      },
      "source": [
        "my_list=[]\n",
        "file_list= glob.glob('/content/drive/MyDrive/Doctorado CyT, Maxi/DataSet - doctorado/Heladera_Maxihouse/WBOX/7mo_arm_U/*.xlsx')\n",
        "print(file_list)\n",
        "path= '/content/drive/MyDrive/Doctorado CyT, Maxi/DataSet - doctorado/Heladera_Maxihouse/WBOX/7mo_arm_U/*.xlsx'\n",
        "for i in glob.glob(path):\n",
        "  print(i)\n",
        "for i in glob.glob(path):\n",
        "  df=pd.read_excel(i)\n",
        "  my_list.append(pd.read_excel(i))\n",
        "  df_todos7moarmu=pd.concat(my_list,join=\"inner\", ignore_index=True)\n",
        "  df_todos7moarmu\n",
        "\n",
        "  #df_todos_P=df_todos.drop(['Circuito 2','Circuito 3', 'Total'], axis=1)\n",
        "df_todos7moarmu['Circuit 3'].replace(\n",
        "    to_replace=['---'],\n",
        "    value=0,\n",
        "    inplace=True\n",
        ")\n",
        "fig3=df_todos7moarmu.plot(\"Date\",\"Circuit 3\")"
      ],
      "execution_count": null,
      "outputs": [
        {
          "output_type": "stream",
          "name": "stdout",
          "text": [
            "[]\n"
          ]
        },
        {
          "output_type": "error",
          "ename": "NameError",
          "evalue": "name 'df_todos7moarmu' is not defined",
          "traceback": [
            "\u001b[0;31m---------------------------------------------------------------------------\u001b[0m",
            "\u001b[0;31mNameError\u001b[0m                                 Traceback (most recent call last)",
            "\u001b[0;32m<ipython-input-5-0fa4f58c492c>\u001b[0m in \u001b[0;36m<cell line: 0>\u001b[0;34m()\u001b[0m\n\u001b[1;32m     12\u001b[0m \u001b[0;34m\u001b[0m\u001b[0m\n\u001b[1;32m     13\u001b[0m   \u001b[0;31m#df_todos_P=df_todos.drop(['Circuito 2','Circuito 3', 'Total'], axis=1)\u001b[0m\u001b[0;34m\u001b[0m\u001b[0;34m\u001b[0m\u001b[0m\n\u001b[0;32m---> 14\u001b[0;31m df_todos7moarmu['Circuit 3'].replace(\n\u001b[0m\u001b[1;32m     15\u001b[0m     \u001b[0mto_replace\u001b[0m\u001b[0;34m=\u001b[0m\u001b[0;34m[\u001b[0m\u001b[0;34m'---'\u001b[0m\u001b[0;34m]\u001b[0m\u001b[0;34m,\u001b[0m\u001b[0;34m\u001b[0m\u001b[0;34m\u001b[0m\u001b[0m\n\u001b[1;32m     16\u001b[0m     \u001b[0mvalue\u001b[0m\u001b[0;34m=\u001b[0m\u001b[0;36m0\u001b[0m\u001b[0;34m,\u001b[0m\u001b[0;34m\u001b[0m\u001b[0;34m\u001b[0m\u001b[0m\n",
            "\u001b[0;31mNameError\u001b[0m: name 'df_todos7moarmu' is not defined"
          ]
        }
      ]
    },
    {
      "cell_type": "markdown",
      "metadata": {
        "id": "aKvQOX9cigCe"
      },
      "source": [
        "9no arm U"
      ]
    },
    {
      "cell_type": "code",
      "metadata": {
        "id": "vUiMHp5vf1zR",
        "colab": {
          "base_uri": "https://localhost:8080/",
          "height": 240
        },
        "outputId": "9caa528e-6ed7-4784-9faf-dc4cb50c3a87"
      },
      "source": [
        "my_list=[]\n",
        "file_list= glob.glob('/content/drive/MyDrive/Doctorado CyT, Maxi/DataSet - doctorado/Heladera_Maxihouse/WBOX/9no_arm_U/*.xlsx')\n",
        "print(file_list)\n",
        "path= '/content/drive/MyDrive/Doctorado CyT, Maxi/DataSet - doctorado/Heladera_Maxihouse/WBOX/9no_arm_U/*.xlsx'\n",
        "for i in glob.glob(path):\n",
        "  print(i)\n",
        "for i in glob.glob(path):\n",
        "  df=pd.read_excel(i)\n",
        "  my_list.append(pd.read_excel(i))\n",
        "  df_todos9noarmU=pd.concat(my_list,join=\"inner\", ignore_index=True)\n",
        "  df_todos9noarmU\n",
        "\n",
        "  #df_todos_P=df_todos.drop(['Circuito 2','Circuito 3', 'Total'], axis=1)\n",
        "df_todos9noarmU['Circuit 3'].replace(\n",
        "    to_replace=['---'],\n",
        "    value=0,\n",
        "    inplace=True\n",
        ")\n",
        "fig3=df_todos9noarmU.plot(\"Date\",\"Circuit 3\")"
      ],
      "execution_count": null,
      "outputs": [
        {
          "output_type": "stream",
          "name": "stdout",
          "text": [
            "[]\n"
          ]
        },
        {
          "output_type": "error",
          "ename": "NameError",
          "evalue": "name 'df_todos9noarmU' is not defined",
          "traceback": [
            "\u001b[0;31m---------------------------------------------------------------------------\u001b[0m",
            "\u001b[0;31mNameError\u001b[0m                                 Traceback (most recent call last)",
            "\u001b[0;32m<ipython-input-6-476225bc7996>\u001b[0m in \u001b[0;36m<cell line: 0>\u001b[0;34m()\u001b[0m\n\u001b[1;32m     12\u001b[0m \u001b[0;34m\u001b[0m\u001b[0m\n\u001b[1;32m     13\u001b[0m   \u001b[0;31m#df_todos_P=df_todos.drop(['Circuito 2','Circuito 3', 'Total'], axis=1)\u001b[0m\u001b[0;34m\u001b[0m\u001b[0;34m\u001b[0m\u001b[0m\n\u001b[0;32m---> 14\u001b[0;31m df_todos9noarmU['Circuit 3'].replace(\n\u001b[0m\u001b[1;32m     15\u001b[0m     \u001b[0mto_replace\u001b[0m\u001b[0;34m=\u001b[0m\u001b[0;34m[\u001b[0m\u001b[0;34m'---'\u001b[0m\u001b[0;34m]\u001b[0m\u001b[0;34m,\u001b[0m\u001b[0;34m\u001b[0m\u001b[0;34m\u001b[0m\u001b[0m\n\u001b[1;32m     16\u001b[0m     \u001b[0mvalue\u001b[0m\u001b[0;34m=\u001b[0m\u001b[0;36m0\u001b[0m\u001b[0;34m,\u001b[0m\u001b[0;34m\u001b[0m\u001b[0;34m\u001b[0m\u001b[0m\n",
            "\u001b[0;31mNameError\u001b[0m: name 'df_todos9noarmU' is not defined"
          ]
        }
      ]
    },
    {
      "cell_type": "markdown",
      "metadata": {
        "id": "ZEjCVFN5gljQ"
      },
      "source": [
        "# El proceso descriptivo - estadística básica"
      ]
    },
    {
      "cell_type": "markdown",
      "metadata": {
        "id": "4XE0YjEbrFjX"
      },
      "source": [
        "**Hard ad-hoc**"
      ]
    },
    {
      "cell_type": "code",
      "metadata": {
        "id": "cBedCqpEgozP"
      },
      "source": [
        "datos_hardadhoc.describe()"
      ],
      "execution_count": null,
      "outputs": []
    },
    {
      "cell_type": "code",
      "metadata": {
        "id": "04xTmXWrcs2y",
        "colab": {
          "base_uri": "https://localhost:8080/",
          "height": 222
        },
        "outputId": "5e954982-479f-4c0c-abda-a4caf840de1f"
      },
      "source": [
        "corr=datos_hardadhoc.corr()\n",
        "plt.figure(figsize=(50,50))\n",
        "sns.heatmap(corr,cbar=True, square=True, annot=True, fmt='.2f', annot_kws={'size':15},cmap='coolwarm')\n",
        "plt.xticks(rotation=45)\n",
        "plt.yticks(rotation=45)\n",
        "plt.show()"
      ],
      "execution_count": null,
      "outputs": [
        {
          "output_type": "error",
          "ename": "NameError",
          "evalue": "name 'datos_hardadhoc' is not defined",
          "traceback": [
            "\u001b[0;31m---------------------------------------------------------------------------\u001b[0m",
            "\u001b[0;31mNameError\u001b[0m                                 Traceback (most recent call last)",
            "\u001b[0;32m<ipython-input-7-876d1daed730>\u001b[0m in \u001b[0;36m<cell line: 0>\u001b[0;34m()\u001b[0m\n\u001b[0;32m----> 1\u001b[0;31m \u001b[0mcorr\u001b[0m\u001b[0;34m=\u001b[0m\u001b[0mdatos_hardadhoc\u001b[0m\u001b[0;34m.\u001b[0m\u001b[0mcorr\u001b[0m\u001b[0;34m(\u001b[0m\u001b[0;34m)\u001b[0m\u001b[0;34m\u001b[0m\u001b[0;34m\u001b[0m\u001b[0m\n\u001b[0m\u001b[1;32m      2\u001b[0m \u001b[0mplt\u001b[0m\u001b[0;34m.\u001b[0m\u001b[0mfigure\u001b[0m\u001b[0;34m(\u001b[0m\u001b[0mfigsize\u001b[0m\u001b[0;34m=\u001b[0m\u001b[0;34m(\u001b[0m\u001b[0;36m50\u001b[0m\u001b[0;34m,\u001b[0m\u001b[0;36m50\u001b[0m\u001b[0;34m)\u001b[0m\u001b[0;34m)\u001b[0m\u001b[0;34m\u001b[0m\u001b[0;34m\u001b[0m\u001b[0m\n\u001b[1;32m      3\u001b[0m \u001b[0msns\u001b[0m\u001b[0;34m.\u001b[0m\u001b[0mheatmap\u001b[0m\u001b[0;34m(\u001b[0m\u001b[0mcorr\u001b[0m\u001b[0;34m,\u001b[0m\u001b[0mcbar\u001b[0m\u001b[0;34m=\u001b[0m\u001b[0;32mTrue\u001b[0m\u001b[0;34m,\u001b[0m \u001b[0msquare\u001b[0m\u001b[0;34m=\u001b[0m\u001b[0;32mTrue\u001b[0m\u001b[0;34m,\u001b[0m \u001b[0mannot\u001b[0m\u001b[0;34m=\u001b[0m\u001b[0;32mTrue\u001b[0m\u001b[0;34m,\u001b[0m \u001b[0mfmt\u001b[0m\u001b[0;34m=\u001b[0m\u001b[0;34m'.2f'\u001b[0m\u001b[0;34m,\u001b[0m \u001b[0mannot_kws\u001b[0m\u001b[0;34m=\u001b[0m\u001b[0;34m{\u001b[0m\u001b[0;34m'size'\u001b[0m\u001b[0;34m:\u001b[0m\u001b[0;36m15\u001b[0m\u001b[0;34m}\u001b[0m\u001b[0;34m,\u001b[0m\u001b[0mcmap\u001b[0m\u001b[0;34m=\u001b[0m\u001b[0;34m'coolwarm'\u001b[0m\u001b[0;34m)\u001b[0m\u001b[0;34m\u001b[0m\u001b[0;34m\u001b[0m\u001b[0m\n\u001b[1;32m      4\u001b[0m \u001b[0mplt\u001b[0m\u001b[0;34m.\u001b[0m\u001b[0mxticks\u001b[0m\u001b[0;34m(\u001b[0m\u001b[0mrotation\u001b[0m\u001b[0;34m=\u001b[0m\u001b[0;36m45\u001b[0m\u001b[0;34m)\u001b[0m\u001b[0;34m\u001b[0m\u001b[0;34m\u001b[0m\u001b[0m\n\u001b[1;32m      5\u001b[0m \u001b[0mplt\u001b[0m\u001b[0;34m.\u001b[0m\u001b[0myticks\u001b[0m\u001b[0;34m(\u001b[0m\u001b[0mrotation\u001b[0m\u001b[0;34m=\u001b[0m\u001b[0;36m45\u001b[0m\u001b[0;34m)\u001b[0m\u001b[0;34m\u001b[0m\u001b[0;34m\u001b[0m\u001b[0m\n",
            "\u001b[0;31mNameError\u001b[0m: name 'datos_hardadhoc' is not defined"
          ]
        }
      ]
    },
    {
      "cell_type": "markdown",
      "metadata": {
        "id": "cyof2QSTraz7"
      },
      "source": [
        "**UNIT**"
      ]
    },
    {
      "cell_type": "code",
      "metadata": {
        "id": "Q5iXbxu0hRen"
      },
      "source": [
        "UNIT.describe()"
      ],
      "execution_count": null,
      "outputs": []
    },
    {
      "cell_type": "code",
      "metadata": {
        "id": "ZgsO6y8Eby53"
      },
      "source": [
        "corr=UNIT.corr()\n",
        "plt.figure(figsize=(50,50))\n",
        "sns.heatmap(corr,cbar=True, square=True, annot=True, fmt='.2f', annot_kws={'size':15},cmap='coolwarm')\n",
        "plt.xticks(rotation=45)\n",
        "plt.yticks(rotation=45)\n",
        "plt.show()"
      ],
      "execution_count": null,
      "outputs": []
    },
    {
      "cell_type": "markdown",
      "metadata": {
        "id": "O6_RJrS9sIxi"
      },
      "source": [
        "**Dranetz**"
      ]
    },
    {
      "cell_type": "code",
      "metadata": {
        "id": "V0G3KxDasFEN"
      },
      "source": [
        "  df_U_I_concat.describe()"
      ],
      "execution_count": null,
      "outputs": []
    },
    {
      "cell_type": "code",
      "metadata": {
        "id": "CaySF6CCspKV"
      },
      "source": [
        "df_arm_concat.describe()"
      ],
      "execution_count": null,
      "outputs": []
    },
    {
      "cell_type": "code",
      "metadata": {
        "id": "e6kp0rkSoJVt"
      },
      "source": [
        "df_PQSPF_concat.describe()"
      ],
      "execution_count": null,
      "outputs": []
    },
    {
      "cell_type": "code",
      "metadata": {
        "id": "FYGYaGiTsFQ5"
      },
      "source": [
        "plt.plot(df_PQSPF_concat.index, df_PQSPF_concat['TOTP(kW)Máx[kW]'])"
      ],
      "execution_count": null,
      "outputs": []
    },
    {
      "cell_type": "markdown",
      "metadata": {
        "id": "rp-RhW-kXdD9"
      },
      "source": [
        "# Indexación e identificación de eventos"
      ]
    },
    {
      "cell_type": "code",
      "metadata": {
        "id": "lhShn0HoXnKV"
      },
      "source": [
        "#evento_1.loc[evento_1['AIrmsValor[Amperios]'].idxmax()]"
      ],
      "execution_count": null,
      "outputs": []
    },
    {
      "cell_type": "code",
      "metadata": {
        "id": "Pu2rV8nGXvGX"
      },
      "source": [
        "#reqd_Index = evento_1[evento_1['Datos X']=='10/03/2021 03:08:54.804185152'].index.tolist()\n",
        "#print(reqd_Index)"
      ],
      "execution_count": null,
      "outputs": []
    },
    {
      "cell_type": "code",
      "metadata": {
        "id": "Qi7QkG_DYGFj"
      },
      "source": [
        "#evento_1.loc[evento_1['AIrmsValor[Amperios]']==0.770700]"
      ],
      "execution_count": null,
      "outputs": []
    },
    {
      "cell_type": "code",
      "metadata": {
        "id": "gMwlp1gbYI_R"
      },
      "source": [
        "#evento_2=df_U_I_concat[mask_evento_2]   ###Acá están los outliers\n",
        "#evento_2"
      ],
      "execution_count": null,
      "outputs": []
    },
    {
      "cell_type": "markdown",
      "metadata": {
        "id": "oBbSobRIkxNM"
      },
      "source": [
        "# Eventos para la extracción de la forma de onda"
      ]
    },
    {
      "cell_type": "code",
      "metadata": {
        "id": "VE7rNNKLngWs",
        "colab": {
          "base_uri": "https://localhost:8080/",
          "height": 203
        },
        "outputId": "6ea3b6ba-36cc-470c-9f4f-42b240f3e9eb"
      },
      "source": [
        "plt.figure(figsize=(19*2,17.8))\n",
        "plt.plot(df_U_I_concat.index, df_U_I_concat['AIrmsValor[Amperios]'])\n",
        "#plt.savefig('formadeondacorriente.png')"
      ],
      "execution_count": null,
      "outputs": [
        {
          "output_type": "error",
          "ename": "NameError",
          "evalue": "name 'df_U_I_concat' is not defined",
          "traceback": [
            "\u001b[0;31m---------------------------------------------------------------------------\u001b[0m",
            "\u001b[0;31mNameError\u001b[0m                                 Traceback (most recent call last)",
            "\u001b[0;32m<ipython-input-8-e6086a919d71>\u001b[0m in \u001b[0;36m<cell line: 0>\u001b[0;34m()\u001b[0m\n\u001b[1;32m      1\u001b[0m \u001b[0mplt\u001b[0m\u001b[0;34m.\u001b[0m\u001b[0mfigure\u001b[0m\u001b[0;34m(\u001b[0m\u001b[0mfigsize\u001b[0m\u001b[0;34m=\u001b[0m\u001b[0;34m(\u001b[0m\u001b[0;36m19\u001b[0m\u001b[0;34m*\u001b[0m\u001b[0;36m2\u001b[0m\u001b[0;34m,\u001b[0m\u001b[0;36m17.8\u001b[0m\u001b[0;34m)\u001b[0m\u001b[0;34m)\u001b[0m\u001b[0;34m\u001b[0m\u001b[0;34m\u001b[0m\u001b[0m\n\u001b[0;32m----> 2\u001b[0;31m \u001b[0mplt\u001b[0m\u001b[0;34m.\u001b[0m\u001b[0mplot\u001b[0m\u001b[0;34m(\u001b[0m\u001b[0mdf_U_I_concat\u001b[0m\u001b[0;34m.\u001b[0m\u001b[0mindex\u001b[0m\u001b[0;34m,\u001b[0m \u001b[0mdf_U_I_concat\u001b[0m\u001b[0;34m[\u001b[0m\u001b[0;34m'AIrmsValor[Amperios]'\u001b[0m\u001b[0;34m]\u001b[0m\u001b[0;34m)\u001b[0m\u001b[0;34m\u001b[0m\u001b[0;34m\u001b[0m\u001b[0m\n\u001b[0m\u001b[1;32m      3\u001b[0m \u001b[0;31m#plt.savefig('formadeondacorriente.png')\u001b[0m\u001b[0;34m\u001b[0m\u001b[0;34m\u001b[0m\u001b[0m\n",
            "\u001b[0;31mNameError\u001b[0m: name 'df_U_I_concat' is not defined"
          ]
        },
        {
          "output_type": "display_data",
          "data": {
            "text/plain": [
              "<Figure size 3800x1780 with 0 Axes>"
            ]
          },
          "metadata": {}
        }
      ]
    },
    {
      "cell_type": "code",
      "metadata": {
        "id": "ahOpcKtsk1Kl"
      },
      "source": [
        "mask_evento= df_U_I_concat['AIrmsValor[Amperios]']>2\n",
        "\n",
        "evento_arranque=df_U_I_concat[mask_evento]   ###Acá están los outliers\n",
        "evento_arranque"
      ],
      "execution_count": null,
      "outputs": []
    },
    {
      "cell_type": "code",
      "metadata": {
        "id": "tMooo-aSloIP"
      },
      "source": [
        "evento_arranque['Datos X'].unique()"
      ],
      "execution_count": null,
      "outputs": []
    },
    {
      "cell_type": "markdown",
      "metadata": {
        "id": "GIo0UzsKotpH"
      },
      "source": [
        "Evento - transitorio - encendido\n",
        "\n",
        "* 01/04/2021 - 14:38:58\n",
        "* 01/04/2021 - 20:46:48\n",
        "* 02/04/2021 - 05:13:25\n",
        "* 02/04/2021 - 10:12:58\n",
        "* 02/04/2021 - 16:27:50\n",
        "* 03/04/2021 - 03:01:47\n",
        "* 03/04/2021 - 09:23:55  ### restablecimiento por corte de suministro"
      ]
    },
    {
      "cell_type": "markdown",
      "metadata": {
        "id": "InkAzVKXYm6W"
      },
      "source": [
        "# Eventos - forma de onda a 12 kHz"
      ]
    },
    {
      "cell_type": "markdown",
      "metadata": {
        "id": "EcOT9Cc7a_-U"
      },
      "source": [
        "![image.png](data:image/png;base64,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)"
      ]
    },
    {
      "cell_type": "markdown",
      "metadata": {
        "id": "zxLYM5ntoKwT"
      },
      "source": [
        "Ventanas 2560 valores \\\\\n",
        "2560*21=53760"
      ]
    },
    {
      "cell_type": "markdown",
      "metadata": {
        "id": "HtKc_xLDjLrX"
      },
      "source": [
        "Evento Nº1"
      ]
    },
    {
      "cell_type": "code",
      "metadata": {
        "id": "ixLpvO-7jNu6"
      },
      "source": [
        "my_list=[]\n",
        "file_list= glob.glob('/content/drive/MyDrive/Doctorado CyT, Maxi/DataSet - doctorado/Heladera_Maxihouse/Dranetz/Forma_de_onda_eventos_12k/Evento Nº1/*.txt')\n",
        "print(file_list)\n",
        "path= '/content/drive/MyDrive/Doctorado CyT, Maxi/DataSet - doctorado/Heladera_Maxihouse/Dranetz/Forma_de_onda_eventos_12k/Evento Nº1/*.txt'\n",
        "for i in sorted(glob.glob(path)):\n",
        "  print(i)\n",
        "  df=pd.read_csv(i,delimiter=';',encoding=\"ISO-8859-1\",header=0,)\n",
        "  my_list.append(df)\n",
        "  #for filename in sorted(glob.glob(os.path.join(directory, \"*.txt\"))):\n",
        "  #sorted(my_list)\n",
        "  df_evento_1=pd.concat(my_list,join=\"inner\", ignore_index=True)"
      ],
      "execution_count": null,
      "outputs": []
    },
    {
      "cell_type": "code",
      "metadata": {
        "id": "mB0VHTe1niid"
      },
      "source": [
        "plt.figure(figsize=(19*2,17.8))\n",
        "plt.plot(df_evento_1.index, df_evento_1['AIValor[Amperios]'])"
      ],
      "execution_count": null,
      "outputs": []
    },
    {
      "cell_type": "markdown",
      "metadata": {
        "id": "8S7eCtmyzuSP"
      },
      "source": [
        "En estas 21 ventanas observamos el estado cero, transiorio y estacionario."
      ]
    },
    {
      "cell_type": "markdown",
      "metadata": {
        "id": "NfpBvaHOKNXb"
      },
      "source": [
        "Subevento Nº1 - transitorio del apagado"
      ]
    },
    {
      "cell_type": "code",
      "metadata": {
        "id": "xUvsD_iEKRXh"
      },
      "source": [
        "my_list=[]\n",
        "file_list= glob.glob('/content/drive/MyDrive/Doctorado CyT, Maxi/DataSet - doctorado/Heladera_Maxihouse/Dranetz/Forma_de_onda_eventos_12k/Evento Nº1/subeventoapagado_1/*.txt')\n",
        "print(file_list)\n",
        "path= '/content/drive/MyDrive/Doctorado CyT, Maxi/DataSet - doctorado/Heladera_Maxihouse/Dranetz/Forma_de_onda_eventos_12k/Evento Nº1/subeventoapagado_1/*.txt'\n",
        "for i in sorted(glob.glob(path)):\n",
        "  print(i)\n",
        "  df=pd.read_csv(i,delimiter=';',encoding=\"ISO-8859-1\",header=0,)\n",
        "  my_list.append(df)\n",
        "  #for filename in sorted(glob.glob(os.path.join(directory, \"*.txt\"))):\n",
        "  #sorted(my_list)\n",
        "  df_subevento_1=pd.concat(my_list,join=\"inner\", ignore_index=True)"
      ],
      "execution_count": null,
      "outputs": []
    },
    {
      "cell_type": "code",
      "metadata": {
        "id": "jQwypen6LN2e"
      },
      "source": [
        "plt.figure(figsize=(19*2,17.8))\n",
        "plt.plot(df_subevento_1.index, df_subevento_1['AIValor[Amperios]'])"
      ],
      "execution_count": null,
      "outputs": []
    },
    {
      "cell_type": "markdown",
      "metadata": {
        "id": "l8ZwNLjXwSVU"
      },
      "source": [
        "DFT y THD en el evento de encendido"
      ]
    },
    {
      "cell_type": "code",
      "metadata": {
        "id": "iRfrfmcziGfv"
      },
      "source": [
        "my_list=[]\n",
        "file_list= glob.glob('/content/drive/MyDrive/Doctorado CyT, Maxi/DataSet - doctorado/Heladera_Maxihouse/Dranetz/Forma_de_onda_eventos_12k/Evento Nº1/THD y armónicos encendido evento N°1/*.txt')\n",
        "print(file_list)\n",
        "path= '/content/drive/MyDrive/Doctorado CyT, Maxi/DataSet - doctorado/Heladera_Maxihouse/Dranetz/Forma_de_onda_eventos_12k/Evento Nº1/THD y armónicos encendido evento N°1/*.txt'\n",
        "for i in sorted(glob.glob(path)):\n",
        "  print(i)\n",
        "  df=pd.read_csv(i,delimiter=';',encoding=\"ISO-8859-1\",header=0,)\n",
        "  my_list.append(df)\n",
        "  #for filename in sorted(glob.glob(os.path.join(directory, \"*.txt\"))):\n",
        "  #sorted(my_list)\n",
        "  df_THD_arm_evento1=pd.concat(my_list,join=\"inner\", ignore_index=True)"
      ],
      "execution_count": null,
      "outputs": []
    },
    {
      "cell_type": "code",
      "metadata": {
        "id": "v_Uvn67fiqdl"
      },
      "source": [
        "df_THD_arm_evento1"
      ],
      "execution_count": null,
      "outputs": []
    },
    {
      "cell_type": "code",
      "metadata": {
        "id": "N-uTtFftWsbr"
      },
      "source": [
        "df_sin_THD=df_THD_arm_evento1[df_THD_arm_evento1['Datos X']!='THD']"
      ],
      "execution_count": null,
      "outputs": []
    },
    {
      "cell_type": "code",
      "metadata": {
        "id": "_2YcJ2qqi9uZ"
      },
      "source": [
        "df_sin_THD"
      ],
      "execution_count": null,
      "outputs": []
    },
    {
      "cell_type": "code",
      "metadata": {
        "id": "LMXq-H3D28sX"
      },
      "source": [
        "plt.figure(figsize=(19*2,17.8))\n",
        "plt.plot(df_THD_arm_evento1.index, df_THD_arm_evento1['AIArmoValor[Amperios]'])"
      ],
      "execution_count": null,
      "outputs": []
    },
    {
      "cell_type": "markdown",
      "metadata": {
        "id": "biSmAoJvycnu"
      },
      "source": [
        "Evolución del THD en el encendido"
      ]
    },
    {
      "cell_type": "code",
      "metadata": {
        "id": "mfM2KKwuyg6p"
      },
      "source": [
        "THD=df_THD_arm_evento1 [df_THD_arm_evento1['Datos X']=='THD']\n",
        "THD"
      ],
      "execution_count": null,
      "outputs": []
    },
    {
      "cell_type": "markdown",
      "metadata": {
        "id": "6nuizVEzpRrt"
      },
      "source": [
        "Evolución del THD en el evento N°1"
      ]
    },
    {
      "cell_type": "code",
      "metadata": {
        "id": "B9qXctZSzLg_"
      },
      "source": [
        "plt.plot(THD.index, THD['AIArmoValor[Amperios]'])"
      ],
      "execution_count": null,
      "outputs": []
    },
    {
      "cell_type": "markdown",
      "metadata": {
        "id": "kNNTP_jOu3nv"
      },
      "source": [
        "Totalizador de cómo va variando el evento N°1 - La variación del espectro de armónicos (componente a componente) durante el transitorio."
      ]
    },
    {
      "cell_type": "code",
      "metadata": {
        "id": "hvkCeQvUh5HP"
      },
      "source": [
        "plt.figure(figsize=(19*2,17.8))\n",
        "plt.bar(df_sin_THD['Datos X'], df_sin_THD['AIArmoValor[Amperios]'])\n",
        "plt.xticks(size = 'small', color = 'black', rotation = 90)\n",
        "plt.savefig(\"espectro.png\")\n",
        "plt.show()\n",
        "\n"
      ],
      "execution_count": null,
      "outputs": []
    },
    {
      "cell_type": "markdown",
      "metadata": {
        "id": "p6-qq9cBwEDI"
      },
      "source": [
        "Evento Nº2"
      ]
    },
    {
      "cell_type": "code",
      "metadata": {
        "id": "_kBm1O64wDkP"
      },
      "source": [
        "my_list=[]\n",
        "file_list= glob.glob('/content/drive/MyDrive/Doctorado CyT, Maxi/DataSet - doctorado/Heladera_Maxihouse/Dranetz/Forma_de_onda_eventos_12k/Evento Nº2/*.txt')\n",
        "print(file_list)\n",
        "path= '/content/drive/MyDrive/Doctorado CyT, Maxi/DataSet - doctorado/Heladera_Maxihouse/Dranetz/Forma_de_onda_eventos_12k/Evento Nº2/*.txt'\n",
        "for i in sorted(glob.glob(path)):\n",
        "  print(i)\n",
        "  df=pd.read_csv(i,delimiter=';',encoding=\"ISO-8859-1\",header=0,)\n",
        "  my_list.append(df)\n",
        "  #for filename in sorted(glob.glob(os.path.join(directory, \"*.txt\"))):\n",
        "  #sorted(my_list)\n",
        "  df_evento_2=pd.concat(my_list,join=\"inner\", ignore_index=True)"
      ],
      "execution_count": null,
      "outputs": []
    },
    {
      "cell_type": "code",
      "metadata": {
        "id": "mTlGDftKSNRl"
      },
      "source": [
        "plt.figure(figsize=(19*2,17.8))\n",
        "plt.plot(df_evento_2.index, df_evento_2['AIValor[Amperios]'])"
      ],
      "execution_count": null,
      "outputs": []
    },
    {
      "cell_type": "markdown",
      "metadata": {
        "id": "RYenMslyTSlP"
      },
      "source": [
        "Subvevento 2 - apagado"
      ]
    },
    {
      "cell_type": "code",
      "metadata": {
        "id": "gn0cYh5BTVd6"
      },
      "source": [
        "my_list=[]\n",
        "file_list= glob.glob('/content/drive/MyDrive/Doctorado CyT, Maxi/DataSet - doctorado/Heladera_Maxihouse/Dranetz/Forma_de_onda_eventos_12k/Evento Nº2/subeventoapagado2/*.txt')\n",
        "print(file_list)\n",
        "path= '/content/drive/MyDrive/Doctorado CyT, Maxi/DataSet - doctorado/Heladera_Maxihouse/Dranetz/Forma_de_onda_eventos_12k/Evento Nº2/subeventoapagado2/*.txt'\n",
        "for i in sorted(glob.glob(path)):\n",
        "  print(i)\n",
        "  df=pd.read_csv(i,delimiter=';',encoding=\"ISO-8859-1\",header=0,)\n",
        "  my_list.append(df)\n",
        "  #for filename in sorted(glob.glob(os.path.join(directory, \"*.txt\"))):\n",
        "  #sorted(my_list)\n",
        "  df_subevento_2=pd.concat(my_list,join=\"inner\", ignore_index=True)"
      ],
      "execution_count": null,
      "outputs": []
    },
    {
      "cell_type": "code",
      "metadata": {
        "id": "TGqonIv8URkc"
      },
      "source": [
        "plt.figure(figsize=(19*2,17.8))\n",
        "plt.plot(df_subevento_2.index, df_subevento_2['AIValor[Amperios]'])"
      ],
      "execution_count": null,
      "outputs": []
    },
    {
      "cell_type": "markdown",
      "metadata": {
        "id": "cpdSgWJyk7ds"
      },
      "source": [
        "DFT - THD y armónicos"
      ]
    },
    {
      "cell_type": "code",
      "metadata": {
        "id": "9YwdI510lAwb"
      },
      "source": [
        "my_list=[]\n",
        "file_list= glob.glob('/content/drive/MyDrive/Doctorado CyT, Maxi/DataSet - doctorado/Heladera_Maxihouse/Dranetz/Forma_de_onda_eventos_12k/Evento Nº2/THD y armónicos_Encendido - evento N°2/*.txt')\n",
        "print(file_list)\n",
        "path= '/content/drive/MyDrive/Doctorado CyT, Maxi/DataSet - doctorado/Heladera_Maxihouse/Dranetz/Forma_de_onda_eventos_12k/Evento Nº2/THD y armónicos_Encendido - evento N°2/*.txt'\n",
        "for i in sorted(glob.glob(path)):\n",
        "  print(i)\n",
        "  df=pd.read_csv(i,delimiter=';',encoding=\"ISO-8859-1\",header=0,)\n",
        "  my_list.append(df)\n",
        "  #for filename in sorted(glob.glob(os.path.join(directory, \"*.txt\"))):\n",
        "  #sorted(my_list)\n",
        "  df_DFT_evento2=pd.concat(my_list,join=\"inner\", ignore_index=True)"
      ],
      "execution_count": null,
      "outputs": []
    },
    {
      "cell_type": "code",
      "metadata": {
        "id": "3L8bMWI-ljup"
      },
      "source": [
        "df_DFT_evento2"
      ],
      "execution_count": null,
      "outputs": []
    },
    {
      "cell_type": "code",
      "metadata": {
        "id": "xVLk_nzR4Bew"
      },
      "source": [
        "plt.figure(figsize=(19*2,17.8))\n",
        "plt.plot(df_DFT_evento2.index, df_DFT_evento2['AIArmoValor[Amperios]'])"
      ],
      "execution_count": null,
      "outputs": []
    },
    {
      "cell_type": "markdown",
      "metadata": {
        "id": "KgazAdqK1bcN"
      },
      "source": [
        "Evolución del THD en el evento de encendido"
      ]
    },
    {
      "cell_type": "code",
      "metadata": {
        "id": "6qsFtHqe1fnA"
      },
      "source": [
        "THD=df_DFT_evento2[df_DFT_evento2['Datos X']=='THD']\n",
        "print(THD)\n",
        "plt.plot(THD.index, THD['AIArmoValor[Amperios]'])"
      ],
      "execution_count": null,
      "outputs": []
    },
    {
      "cell_type": "markdown",
      "metadata": {
        "id": "NQ9je1olSmI2"
      },
      "source": [
        "Evento N°3"
      ]
    },
    {
      "cell_type": "code",
      "metadata": {
        "id": "vpVzH4p7mTE0"
      },
      "source": [
        "my_list=[]\n",
        "file_list= glob.glob('/content/drive/MyDrive/Doctorado CyT, Maxi/DataSet - doctorado/Heladera_Maxihouse/Dranetz/Forma_de_onda_eventos_12k/Evento Nº3/*.txt')\n",
        "print(file_list)\n",
        "path= '/content/drive/MyDrive/Doctorado CyT, Maxi/DataSet - doctorado/Heladera_Maxihouse/Dranetz/Forma_de_onda_eventos_12k/Evento Nº3/*.txt'\n",
        "for i in sorted(glob.glob(path)):\n",
        "  print(i)\n",
        "  df=pd.read_csv(i,delimiter=';',encoding=\"ISO-8859-1\",header=0,)\n",
        "  my_list.append(df)\n",
        "  #for filename in sorted(glob.glob(os.path.join(directory, \"*.txt\"))):\n",
        "  #sorted(my_list)\n",
        "  df_evento_3=pd.concat(my_list,join=\"inner\", ignore_index=True)"
      ],
      "execution_count": null,
      "outputs": []
    },
    {
      "cell_type": "code",
      "metadata": {
        "id": "R8OKjP3ZmuVe"
      },
      "source": [
        "plt.figure(figsize=(19*2,17.8))\n",
        "plt.plot(df_evento_3.index, df_evento_3['AIValor[Amperios]'])"
      ],
      "execution_count": null,
      "outputs": []
    },
    {
      "cell_type": "markdown",
      "metadata": {
        "id": "YfSWLB8zmQlo"
      },
      "source": [
        "DFT y THD"
      ]
    },
    {
      "cell_type": "code",
      "metadata": {
        "id": "cPrn1uwTSn1u"
      },
      "source": [
        "my_list=[]\n",
        "file_list= glob.glob('/content/drive/MyDrive/Doctorado CyT, Maxi/DataSet - doctorado/Heladera_Maxihouse/Dranetz/Forma_de_onda_eventos_12k/Evento Nº3/THD y armónicos_Encendido-evento N°3/*.txt')\n",
        "print(file_list)\n",
        "path= '/content/drive/MyDrive/Doctorado CyT, Maxi/DataSet - doctorado/Heladera_Maxihouse/Dranetz/Forma_de_onda_eventos_12k/Evento Nº3/THD y armónicos_Encendido-evento N°3/*.txt'\n",
        "for i in sorted(glob.glob(path)):\n",
        "  print(i)\n",
        "  df=pd.read_csv(i,delimiter=';',encoding=\"ISO-8859-1\",header=0,)\n",
        "  my_list.append(df)\n",
        "  #for filename in sorted(glob.glob(os.path.join(directory, \"*.txt\"))):\n",
        "  #sorted(my_list)\n",
        "  df_DFT_evento_3=pd.concat(my_list,join=\"inner\", ignore_index=True)"
      ],
      "execution_count": null,
      "outputs": []
    },
    {
      "cell_type": "code",
      "metadata": {
        "id": "m6RvFcmLl8MD"
      },
      "source": [
        "df_DFT_evento_3"
      ],
      "execution_count": null,
      "outputs": []
    },
    {
      "cell_type": "code",
      "metadata": {
        "id": "jh_gWxgb72nA"
      },
      "source": [
        "plt.figure(figsize=(19*2,17.8))\n",
        "plt.plot(df_DFT_evento_3.index, df_DFT_evento_3['AIArmoValor[Amperios]'])"
      ],
      "execution_count": null,
      "outputs": []
    },
    {
      "cell_type": "markdown",
      "metadata": {
        "id": "uSh1bWjn27VC"
      },
      "source": [
        "Evolución del THD y armónicos\n"
      ]
    },
    {
      "cell_type": "code",
      "metadata": {
        "id": "BOqgAbtM2_Jm"
      },
      "source": [
        "THD=df_DFT_evento_3[df_DFT_evento_3['Datos X']=='THD']\n",
        "print(THD)\n",
        "plt.plot(THD.index, THD['AIArmoValor[Amperios]'])"
      ],
      "execution_count": null,
      "outputs": []
    },
    {
      "cell_type": "markdown",
      "metadata": {
        "id": "-8OdVV2pBpwM"
      },
      "source": [
        "Apagado evento Nº3"
      ]
    },
    {
      "cell_type": "code",
      "metadata": {
        "id": "d379MQzhBu2d",
        "colab": {
          "base_uri": "https://localhost:8080/"
        },
        "outputId": "32277089-db9d-4967-abda-37bc65d72832"
      },
      "source": [
        "my_list=[]\n",
        "file_list= glob.glob('/content/drive/MyDrive/Doctorado CyT, Maxi/DataSet - doctorado/Heladera_Maxihouse/Dranetz/Forma_de_onda_eventos_12k/Evento Nº3/subeventoNº3/*.txt')\n",
        "print(file_list)\n",
        "path= '/content/drive/MyDrive/Doctorado CyT, Maxi/DataSet - doctorado/Heladera_Maxihouse/Dranetz/Forma_de_onda_eventos_12k/Evento Nº3/subeventoNº3/*.txt'\n",
        "for i in sorted(glob.glob(path)):\n",
        "  print(i)\n",
        "  df=pd.read_csv(i,delimiter=';',encoding=\"ISO-8859-1\",header=0,)\n",
        "  my_list.append(df)\n",
        "  #for filename in sorted(glob.glob(os.path.join(directory, \"*.txt\"))):\n",
        "  #sorted(my_list)\n",
        "  df_subevento_3=pd.concat(my_list,join=\"inner\", ignore_index=True)"
      ],
      "execution_count": null,
      "outputs": [
        {
          "output_type": "stream",
          "name": "stdout",
          "text": [
            "[]\n"
          ]
        }
      ]
    },
    {
      "cell_type": "code",
      "metadata": {
        "id": "cUrIPW_GCXn0",
        "colab": {
          "base_uri": "https://localhost:8080/",
          "height": 185
        },
        "outputId": "a58312a1-e69d-44c4-8ffc-d42159cbb945"
      },
      "source": [
        "plt.figure(figsize=(19*2,17.8))\n",
        "plt.plot(df_subevento_3.index, df_subevento_3['AIValor[Amperios]'])"
      ],
      "execution_count": null,
      "outputs": [
        {
          "output_type": "error",
          "ename": "NameError",
          "evalue": "name 'df_subevento_3' is not defined",
          "traceback": [
            "\u001b[0;31m---------------------------------------------------------------------------\u001b[0m",
            "\u001b[0;31mNameError\u001b[0m                                 Traceback (most recent call last)",
            "\u001b[0;32m<ipython-input-10-cf72dcf07790>\u001b[0m in \u001b[0;36m<cell line: 0>\u001b[0;34m()\u001b[0m\n\u001b[1;32m      1\u001b[0m \u001b[0mplt\u001b[0m\u001b[0;34m.\u001b[0m\u001b[0mfigure\u001b[0m\u001b[0;34m(\u001b[0m\u001b[0mfigsize\u001b[0m\u001b[0;34m=\u001b[0m\u001b[0;34m(\u001b[0m\u001b[0;36m19\u001b[0m\u001b[0;34m*\u001b[0m\u001b[0;36m2\u001b[0m\u001b[0;34m,\u001b[0m\u001b[0;36m17.8\u001b[0m\u001b[0;34m)\u001b[0m\u001b[0;34m)\u001b[0m\u001b[0;34m\u001b[0m\u001b[0;34m\u001b[0m\u001b[0m\n\u001b[0;32m----> 2\u001b[0;31m \u001b[0mplt\u001b[0m\u001b[0;34m.\u001b[0m\u001b[0mplot\u001b[0m\u001b[0;34m(\u001b[0m\u001b[0mdf_subevento_3\u001b[0m\u001b[0;34m.\u001b[0m\u001b[0mindex\u001b[0m\u001b[0;34m,\u001b[0m \u001b[0mdf_subevento_3\u001b[0m\u001b[0;34m[\u001b[0m\u001b[0;34m'AIValor[Amperios]'\u001b[0m\u001b[0;34m]\u001b[0m\u001b[0;34m)\u001b[0m\u001b[0;34m\u001b[0m\u001b[0;34m\u001b[0m\u001b[0m\n\u001b[0m",
            "\u001b[0;31mNameError\u001b[0m: name 'df_subevento_3' is not defined"
          ]
        },
        {
          "output_type": "display_data",
          "data": {
            "text/plain": [
              "<Figure size 3800x1780 with 0 Axes>"
            ]
          },
          "metadata": {}
        }
      ]
    },
    {
      "cell_type": "markdown",
      "metadata": {
        "id": "KttalY7bTHFz"
      },
      "source": [
        "Evento N°4"
      ]
    },
    {
      "cell_type": "code",
      "metadata": {
        "id": "HThEphTyTK5O"
      },
      "source": [
        "my_list=[]\n",
        "file_list= glob.glob('/content/drive/MyDrive/Doctorado CyT, Maxi/DataSet - doctorado/Heladera_Maxihouse/Dranetz/Forma_de_onda_eventos_12k/Evento Nº4/*.txt')\n",
        "print(file_list)\n",
        "path= '/content/drive/MyDrive/Doctorado CyT, Maxi/DataSet - doctorado/Heladera_Maxihouse/Dranetz/Forma_de_onda_eventos_12k/Evento Nº4/*.txt'\n",
        "for i in sorted(glob.glob(path)):\n",
        "  print(i)\n",
        "  df=pd.read_csv(i,delimiter=';',encoding=\"ISO-8859-1\",header=0,)\n",
        "  my_list.append(df)\n",
        "  #for filename in sorted(glob.glob(os.path.join(directory, \"*.txt\"))):\n",
        "  #sorted(my_list)\n",
        "  df_evento_4=pd.concat(my_list,join=\"inner\", ignore_index=True)"
      ],
      "execution_count": null,
      "outputs": []
    },
    {
      "cell_type": "code",
      "metadata": {
        "id": "lK7dDkvwTeZT"
      },
      "source": [
        "plt.figure(figsize=(19*2,17.8))\n",
        "plt.plot(df_evento_4.index, df_evento_4['AIValor[Amperios]'])"
      ],
      "execution_count": null,
      "outputs": []
    },
    {
      "cell_type": "markdown",
      "metadata": {
        "id": "HwsVoqQlDFRv"
      },
      "source": [
        "Subevento Nº4"
      ]
    },
    {
      "cell_type": "code",
      "metadata": {
        "id": "q5FN1lF0DH5F"
      },
      "source": [
        "my_list=[]\n",
        "file_list= glob.glob('/content/drive/MyDrive/Doctorado CyT, Maxi/DataSet - doctorado/Heladera_Maxihouse/Dranetz/Forma_de_onda_eventos_12k/Evento Nº4/subeventoNº4/*.txt')\n",
        "print(file_list)\n",
        "path= '/content/drive/MyDrive/Doctorado CyT, Maxi/DataSet - doctorado/Heladera_Maxihouse/Dranetz/Forma_de_onda_eventos_12k/Evento Nº4/subeventoNº4/*.txt'\n",
        "for i in sorted(glob.glob(path)):\n",
        "  print(i)\n",
        "  df=pd.read_csv(i,delimiter=';',encoding=\"ISO-8859-1\",header=0,)\n",
        "  my_list.append(df)\n",
        "  #for filename in sorted(glob.glob(os.path.join(directory, \"*.txt\"))):\n",
        "  #sorted(my_list)\n",
        "  df_subevento_4=pd.concat(my_list,join=\"inner\", ignore_index=True)"
      ],
      "execution_count": null,
      "outputs": []
    },
    {
      "cell_type": "code",
      "metadata": {
        "id": "BWHiNe0vDYEG"
      },
      "source": [
        "plt.figure(figsize=(19*2,17.8))\n",
        "plt.plot(df_subevento_4.index, df_subevento_4['AIValor[Amperios]'])"
      ],
      "execution_count": null,
      "outputs": []
    },
    {
      "cell_type": "markdown",
      "metadata": {
        "id": "pCq4UoXpm_VE"
      },
      "source": [
        "DFT y THD"
      ]
    },
    {
      "cell_type": "code",
      "metadata": {
        "id": "dlbImbURnDNk"
      },
      "source": [
        "my_list=[]\n",
        "file_list= glob.glob('/content/drive/MyDrive/Doctorado CyT, Maxi/DataSet - doctorado/Heladera_Maxihouse/Dranetz/Forma_de_onda_eventos_12k/Evento Nº4/THD y armónicos_Encendido-eventoN°4/*.txt')\n",
        "print(file_list)\n",
        "path= '/content/drive/MyDrive/Doctorado CyT, Maxi/DataSet - doctorado/Heladera_Maxihouse/Dranetz/Forma_de_onda_eventos_12k/Evento Nº4/THD y armónicos_Encendido-eventoN°4/*.txt'\n",
        "for i in sorted(glob.glob(path)):\n",
        "  print(i)\n",
        "  df=pd.read_csv(i,delimiter=';',encoding=\"ISO-8859-1\",header=0,)\n",
        "  my_list.append(df)\n",
        "  #for filename in sorted(glob.glob(os.path.join(directory, \"*.txt\"))):\n",
        "  #sorted(my_list)\n",
        "  df_DFT_THD_evento4=pd.concat(my_list,join=\"inner\", ignore_index=True)"
      ],
      "execution_count": null,
      "outputs": []
    },
    {
      "cell_type": "code",
      "metadata": {
        "id": "2Qc-4NIAnIJR"
      },
      "source": [
        "df_DFT_THD_evento4"
      ],
      "execution_count": null,
      "outputs": []
    },
    {
      "cell_type": "code",
      "metadata": {
        "id": "OCkLiX3F8KYz"
      },
      "source": [
        "plt.figure(figsize=(19*2,17.8))\n",
        "plt.plot(df_DFT_THD_evento4.index, df_DFT_THD_evento4['AIArmoValor[Amperios]'])"
      ],
      "execution_count": null,
      "outputs": []
    },
    {
      "cell_type": "code",
      "metadata": {
        "id": "qXlSMXDr6bcK"
      },
      "source": [
        "THD=df_DFT_THD_evento4[df_DFT_THD_evento4['Datos X']=='THD']\n",
        "print(THD)\n",
        "plt.plot(THD.index, THD['AIArmoValor[Amperios]'])"
      ],
      "execution_count": null,
      "outputs": []
    },
    {
      "cell_type": "markdown",
      "metadata": {
        "id": "eYepT6bATiux"
      },
      "source": [
        "Evento N°5"
      ]
    },
    {
      "cell_type": "code",
      "metadata": {
        "id": "rVAwMPP9TkTp"
      },
      "source": [
        "my_list=[]\n",
        "file_list= glob.glob('/content/drive/MyDrive/Doctorado CyT, Maxi/DataSet - doctorado/Heladera_Maxihouse/Dranetz/Forma_de_onda_eventos_12k/Evento Nº5/*.txt')\n",
        "print(file_list)\n",
        "path= '/content/drive/MyDrive/Doctorado CyT, Maxi/DataSet - doctorado/Heladera_Maxihouse/Dranetz/Forma_de_onda_eventos_12k/Evento Nº5/*.txt'\n",
        "for i in sorted(glob.glob(path)):\n",
        "  print(i)\n",
        "  df=pd.read_csv(i,delimiter=';',encoding=\"ISO-8859-1\",header=0,)\n",
        "  my_list.append(df)\n",
        "  #for filename in sorted(glob.glob(os.path.join(directory, \"*.txt\"))):\n",
        "  #sorted(my_list)\n",
        "  df_evento_5=pd.concat(my_list,join=\"inner\", ignore_index=True)"
      ],
      "execution_count": null,
      "outputs": []
    },
    {
      "cell_type": "code",
      "metadata": {
        "id": "ttCjgSDfUG87"
      },
      "source": [
        "plt.figure(figsize=(19*2,17.8))\n",
        "plt.plot(df_evento_5.index, df_evento_5['AIValor[Amperios]'])"
      ],
      "execution_count": null,
      "outputs": []
    },
    {
      "cell_type": "markdown",
      "metadata": {
        "id": "ZANjxMKxEEqK"
      },
      "source": [
        "Subevento Nº5"
      ]
    },
    {
      "cell_type": "code",
      "metadata": {
        "id": "NNh3OAp7DqI7"
      },
      "source": [
        "my_list=[]\n",
        "file_list= glob.glob('/content/drive/MyDrive/Doctorado CyT, Maxi/DataSet - doctorado/Heladera_Maxihouse/Dranetz/Forma_de_onda_eventos_12k/Evento Nº5/subeventoNº5/*.txt')\n",
        "print(file_list)\n",
        "path= '/content/drive/MyDrive/Doctorado CyT, Maxi/DataSet - doctorado/Heladera_Maxihouse/Dranetz/Forma_de_onda_eventos_12k/Evento Nº5/subeventoNº5/*.txt'\n",
        "for i in sorted(glob.glob(path)):\n",
        "  print(i)\n",
        "  df=pd.read_csv(i,delimiter=';',encoding=\"ISO-8859-1\",header=0,)\n",
        "  my_list.append(df)\n",
        "  #for filename in sorted(glob.glob(os.path.join(directory, \"*.txt\"))):\n",
        "  #sorted(my_list)\n",
        "  df_subevento_5=pd.concat(my_list,join=\"inner\", ignore_index=True)"
      ],
      "execution_count": null,
      "outputs": []
    },
    {
      "cell_type": "code",
      "metadata": {
        "id": "b6ZCPBF1EKn3"
      },
      "source": [
        "plt.figure(figsize=(19*2,17.8))\n",
        "plt.plot(df_subevento_5.index, df_subevento_5['AIValor[Amperios]'])"
      ],
      "execution_count": null,
      "outputs": []
    },
    {
      "cell_type": "markdown",
      "metadata": {
        "id": "pl8x2tWOoDCh"
      },
      "source": [
        "DFT y THD"
      ]
    },
    {
      "cell_type": "code",
      "metadata": {
        "id": "NSNIHSDPoBMY"
      },
      "source": [
        "my_list=[]\n",
        "file_list= glob.glob('/content/drive/MyDrive/Doctorado CyT, Maxi/DataSet - doctorado/Heladera_Maxihouse/Dranetz/Forma_de_onda_eventos_12k/Evento Nº5/THD y armónicos_Encendidos_evento N°5/*.txt')\n",
        "print(file_list)\n",
        "path= '/content/drive/MyDrive/Doctorado CyT, Maxi/DataSet - doctorado/Heladera_Maxihouse/Dranetz/Forma_de_onda_eventos_12k/Evento Nº5/THD y armónicos_Encendidos_evento N°5/*.txt'\n",
        "for i in sorted(glob.glob(path)):\n",
        "  print(i)\n",
        "  df=pd.read_csv(i,delimiter=';',encoding=\"ISO-8859-1\",header=0,)\n",
        "  my_list.append(df)\n",
        "  #for filename in sorted(glob.glob(os.path.join(directory, \"*.txt\"))):\n",
        "  #sorted(my_list)\n",
        "  df_DFT_evento_5=pd.concat(my_list,join=\"inner\", ignore_index=True)"
      ],
      "execution_count": null,
      "outputs": []
    },
    {
      "cell_type": "code",
      "metadata": {
        "id": "TF2aSPMpoXuX"
      },
      "source": [
        "df_DFT_evento_5"
      ],
      "execution_count": null,
      "outputs": []
    },
    {
      "cell_type": "code",
      "metadata": {
        "id": "Vg50gjuVqFuV"
      },
      "source": [
        "plt.figure(figsize=(19*2,17.8))\n",
        "plt.plot(df_DFT_evento_5.index, df_DFT_evento_5['AIArmoValor[Amperios]'])"
      ],
      "execution_count": null,
      "outputs": []
    },
    {
      "cell_type": "code",
      "metadata": {
        "id": "JNTMSDSp6tHJ"
      },
      "source": [
        "THD=df_DFT_evento_5[df_DFT_evento_5['Datos X']=='THD']\n",
        "print(THD)\n",
        "plt.plot(THD.index, THD['AIArmoValor[Amperios]'])"
      ],
      "execution_count": null,
      "outputs": []
    },
    {
      "cell_type": "markdown",
      "metadata": {
        "id": "yjdM5CYlVUsB"
      },
      "source": [
        "Evento N°6"
      ]
    },
    {
      "cell_type": "code",
      "metadata": {
        "id": "gwD48E-pVWi0"
      },
      "source": [
        "my_list=[]\n",
        "file_list= glob.glob('/content/drive/MyDrive/Doctorado CyT, Maxi/DataSet - doctorado/Heladera_Maxihouse/Dranetz/Forma_de_onda_eventos_12k/Evento Nº6/*.txt')\n",
        "print(file_list)\n",
        "path= '/content/drive/MyDrive/Doctorado CyT, Maxi/DataSet - doctorado/Heladera_Maxihouse/Dranetz/Forma_de_onda_eventos_12k/Evento Nº6/*.txt'\n",
        "for i in sorted(glob.glob(path)):\n",
        "  print(i)\n",
        "  df=pd.read_csv(i,delimiter=';',encoding=\"ISO-8859-1\",header=0,)\n",
        "  my_list.append(df)\n",
        "  #for filename in sorted(glob.glob(os.path.join(directory, \"*.txt\"))):\n",
        "  #sorted(my_list)\n",
        "  df_evento_6=pd.concat(my_list,join=\"inner\", ignore_index=True)"
      ],
      "execution_count": null,
      "outputs": []
    },
    {
      "cell_type": "code",
      "metadata": {
        "id": "ycC7qkZ1Vosl"
      },
      "source": [
        "plt.figure(figsize=(19*2,17.8))\n",
        "plt.plot(df_evento_6.index, df_evento_6['AIValor[Amperios]'])"
      ],
      "execution_count": null,
      "outputs": []
    },
    {
      "cell_type": "markdown",
      "metadata": {
        "id": "405MakS_EeNk"
      },
      "source": [
        "subeventoNº6"
      ]
    },
    {
      "cell_type": "code",
      "metadata": {
        "id": "vvMv5ybOEgFn"
      },
      "source": [
        "my_list=[]\n",
        "file_list= glob.glob('/content/drive/MyDrive/Doctorado CyT, Maxi/DataSet - doctorado/Heladera_Maxihouse/Dranetz/Forma_de_onda_eventos_12k/Evento Nº6/subeventoNº6/*.txt')\n",
        "print(file_list)\n",
        "path= '/content/drive/MyDrive/Doctorado CyT, Maxi/DataSet - doctorado/Heladera_Maxihouse/Dranetz/Forma_de_onda_eventos_12k/Evento Nº6/subeventoNº6/*.txt'\n",
        "for i in sorted(glob.glob(path)):\n",
        "  print(i)\n",
        "  df=pd.read_csv(i,delimiter=';',encoding=\"ISO-8859-1\",header=0,)\n",
        "  my_list.append(df)\n",
        "  #for filename in sorted(glob.glob(os.path.join(directory, \"*.txt\"))):\n",
        "  #sorted(my_list)\n",
        "  df_subevento_6=pd.concat(my_list,join=\"inner\", ignore_index=True)"
      ],
      "execution_count": null,
      "outputs": []
    },
    {
      "cell_type": "code",
      "metadata": {
        "id": "3XeZAZvYEkX1"
      },
      "source": [
        "plt.figure(figsize=(19*2,17.8))\n",
        "plt.plot(df_subevento_6.index, df_subevento_6['AIValor[Amperios]'])"
      ],
      "execution_count": null,
      "outputs": []
    },
    {
      "cell_type": "markdown",
      "metadata": {
        "id": "yG5h8O-Z9tiQ"
      },
      "source": [
        "DFT y harmónicos en el evento de encendido"
      ]
    },
    {
      "cell_type": "code",
      "metadata": {
        "id": "evYt1XIOpWWs"
      },
      "source": [
        "my_list=[]\n",
        "file_list= glob.glob('/content/drive/MyDrive/Doctorado CyT, Maxi/DataSet - doctorado/Heladera_Maxihouse/Dranetz/Forma_de_onda_eventos_12k/Evento Nº6/THD y armónicos_Encendido-evento N°6/*.txt')\n",
        "print(file_list)\n",
        "path= '/content/drive/MyDrive/Doctorado CyT, Maxi/DataSet - doctorado/Heladera_Maxihouse/Dranetz/Forma_de_onda_eventos_12k/Evento Nº6/THD y armónicos_Encendido-evento N°6/*.txt'\n",
        "for i in sorted(glob.glob(path)):\n",
        "  print(i)\n",
        "  df=pd.read_csv(i,delimiter=';',encoding=\"ISO-8859-1\",header=0,)\n",
        "  my_list.append(df)\n",
        "  #for filename in sorted(glob.glob(os.path.join(directory, \"*.txt\"))):\n",
        "  #sorted(my_list)\n",
        "  df_DFT_evento6=pd.concat(my_list,join=\"inner\", ignore_index=True)"
      ],
      "execution_count": null,
      "outputs": []
    },
    {
      "cell_type": "code",
      "metadata": {
        "id": "7BR2U3ybpphA"
      },
      "source": [
        "df_DFT_evento6"
      ],
      "execution_count": null,
      "outputs": []
    },
    {
      "cell_type": "code",
      "metadata": {
        "id": "aW3pX0US75Oh"
      },
      "source": [
        "df_sin_THD=df_DFT_evento6.drop(0, axis=0)\n"
      ],
      "execution_count": null,
      "outputs": []
    },
    {
      "cell_type": "code",
      "metadata": {
        "id": "zS1KYOUP9mQT"
      },
      "source": [
        "plt.figure(figsize=(19*2,17.8))\n",
        "plt.plot(df_sin_THD.index, df_sin_THD['AIArmoValor[Amperios]'])"
      ],
      "execution_count": null,
      "outputs": []
    },
    {
      "cell_type": "code",
      "metadata": {
        "id": "WSJmHbEi7C5k"
      },
      "source": [
        "THD=df_DFT_evento6[df_DFT_evento6['Datos X']=='THD']\n",
        "print(THD)\n",
        "plt.plot(THD.index, THD['AIArmoValor[Amperios]'])"
      ],
      "execution_count": null,
      "outputs": []
    },
    {
      "cell_type": "markdown",
      "metadata": {
        "id": "m93ZdwGmN7dB"
      },
      "source": [
        "**FFT** sobre ventana de evento N°1"
      ]
    },
    {
      "cell_type": "code",
      "metadata": {
        "id": "ZPoLpUHRN9Qj"
      },
      "source": [
        "domiciliario_ventana_para_FFT=pd.read_csv('/content/drive/MyDrive/Doctorado CyT, Maxi/DataSet - doctorado/Heladera_Maxihouse/Dranetz/FFT/domiciliario_01_ventana_para_FFT.txt',delimiter=';',encoding=\"ISO-8859-1\",header=0,)\n",
        "domiciliario_ventana_para_FFT"
      ],
      "execution_count": null,
      "outputs": []
    },
    {
      "cell_type": "code",
      "metadata": {
        "id": "B_gqDIMwbbXi"
      },
      "source": [
        "plt.plot(domiciliario_ventana_para_FFT.index,domiciliario_ventana_para_FFT['AIValor[Amperios]'])"
      ],
      "execution_count": null,
      "outputs": []
    },
    {
      "cell_type": "code",
      "metadata": {
        "id": "yGYHsM8sJVc6"
      },
      "source": [
        "\n",
        "import scipy.fftpack as fourier\n",
        "x=domiciliario_ventana_para_FFT['AIValor[Amperios]']\n",
        "lista=x.tolist()  ### pasar a lista"
      ],
      "execution_count": null,
      "outputs": []
    },
    {
      "cell_type": "code",
      "metadata": {
        "id": "fdXDZo1SLiwW"
      },
      "source": [
        "Ts = 0.0008                                       # Definimos un tiempo y frecuencia de muestreo\n",
        "Fs=1/Ts"
      ],
      "execution_count": null,
      "outputs": []
    },
    {
      "cell_type": "code",
      "metadata": {
        "id": "vvh9Oy2DcIVJ"
      },
      "source": [
        "gk = fourier.fft(lista)                             # Calculamos la FFT\n",
        "M_gk = abs(gk)                                  # Calculamos la Magnitud de la FFT\n",
        "\n",
        "F = Fs*np.arange(0, len(lista))/len(lista)              # Definimos el Vector de Frecuencias\n",
        "\n",
        "plt.plot(F, M_gk)\n",
        "plt.xlabel('Frecuencia (Hz)', fontsize='14')\n",
        "plt.ylabel('Amplitud FFT', fontsize='14')\n",
        "plt.show()"
      ],
      "execution_count": null,
      "outputs": []
    },
    {
      "cell_type": "code",
      "metadata": {
        "id": "9oBiGsrg_e55"
      },
      "source": [
        "fourier = np.fft.fft(x)\n",
        "n = x.size\n",
        "timestep = 0.1\n",
        "freq = np.fft.fftfreq(n, d=timestep)\n",
        "freq"
      ],
      "execution_count": null,
      "outputs": []
    },
    {
      "cell_type": "code",
      "metadata": {
        "id": "lftzXlfQAIxw"
      },
      "source": [
        "df_freq=pd.DataFrame(freq)\n",
        "plt.plot(df_freq.index, freq)"
      ],
      "execution_count": null,
      "outputs": []
    },
    {
      "cell_type": "markdown",
      "metadata": {
        "id": "836Gw2--vGhJ"
      },
      "source": [
        "THD%"
      ]
    },
    {
      "cell_type": "markdown",
      "metadata": {
        "id": "yN_Y7t56hWZA"
      },
      "source": [
        "Resultados del Dranetz"
      ]
    },
    {
      "cell_type": "code",
      "metadata": {
        "id": "qRSfT41IhYtl"
      },
      "source": [
        "domiciliario_ventana_para_FFT=pd.read_csv('/content/drive/MyDrive/Doctorado CyT, Maxi/DataSet - doctorado/Heladera_Maxihouse/Dranetz/FFT/domiciliario_01_FFT_sobre_ventana.txt',delimiter=';',encoding=\"ISO-8859-1\",header=0,)\n",
        "domiciliario_ventana_para_FFT"
      ],
      "execution_count": null,
      "outputs": []
    },
    {
      "cell_type": "code",
      "metadata": {
        "id": "CQgcRC1B2cvI"
      },
      "source": [],
      "execution_count": null,
      "outputs": []
    },
    {
      "cell_type": "markdown",
      "metadata": {
        "id": "Jvexmv6lxzAo"
      },
      "source": [
        "%TDH y armónicos a partir de los eventos - 5 archivos a la izq y a la derecha, a partir del evento ENCENDIDO y APAGADO."
      ]
    },
    {
      "cell_type": "code",
      "metadata": {
        "id": "f7dt6I6q2XEN"
      },
      "source": [],
      "execution_count": null,
      "outputs": []
    },
    {
      "cell_type": "markdown",
      "metadata": {
        "id": "ifxYqAPVxiVO"
      },
      "source": [
        "Extra - una prueba con ventana anterior y posterior"
      ]
    },
    {
      "cell_type": "code",
      "metadata": {
        "id": "YqVWIJ3uYh5C"
      },
      "source": [
        "domiciliario_02=pd.read_csv('/content/drive/MyDrive/Doctorado CyT, Maxi/Piloto (sistema de medición)/pruebas separadas Dranetz - transitorios/domiciliario_11_ventana_post_evento.txt',delimiter=';',encoding=\"ISO-8859-1\",header=0,)\n",
        "domiciliario_02"
      ],
      "execution_count": null,
      "outputs": []
    },
    {
      "cell_type": "code",
      "metadata": {
        "id": "qxEK_eEzdt9z"
      },
      "source": [
        "plt.plot(domiciliario_02.index, domiciliario_02['AIValor[Amperios]'])"
      ],
      "execution_count": null,
      "outputs": []
    },
    {
      "cell_type": "code",
      "metadata": {
        "id": "fWSJhNWsdxXM"
      },
      "source": [
        "A=domiciliario_02['AIValor[Amperios]']\n",
        "B=domiciliario_02['AVValor[Voltios]']"
      ],
      "execution_count": null,
      "outputs": []
    },
    {
      "cell_type": "code",
      "metadata": {
        "id": "9tigTS2nd6-t"
      },
      "source": [
        "Irms=np.sqrt(((A - A.mean(axis=0))**2).mean())\n",
        "Irms"
      ],
      "execution_count": null,
      "outputs": []
    },
    {
      "cell_type": "code",
      "metadata": {
        "id": "hNh9hHJceAai"
      },
      "source": [
        "Urms=np.sqrt(((B - B.mean(axis=0))**2).mean())\n",
        "Urms"
      ],
      "execution_count": null,
      "outputs": []
    },
    {
      "cell_type": "code",
      "metadata": {
        "id": "UZqoGW2MeCss"
      },
      "source": [
        "C=A*B"
      ],
      "execution_count": null,
      "outputs": []
    },
    {
      "cell_type": "code",
      "metadata": {
        "id": "xOjz7V1ZeLDq"
      },
      "source": [
        "plt.plot(C.index, C)"
      ],
      "execution_count": null,
      "outputs": []
    },
    {
      "cell_type": "code",
      "metadata": {
        "id": "hZd2O_E6eNw2"
      },
      "source": [
        "plt.plot(A, B)\n",
        "plt.grid()\n",
        "plt.show()"
      ],
      "execution_count": null,
      "outputs": []
    },
    {
      "cell_type": "code",
      "metadata": {
        "id": "M9kteC85eQ_z"
      },
      "source": [
        "import math"
      ],
      "execution_count": null,
      "outputs": []
    },
    {
      "cell_type": "code",
      "metadata": {
        "id": "r5aYY67eeXWD"
      },
      "source": [
        "B.max()"
      ],
      "execution_count": null,
      "outputs": []
    },
    {
      "cell_type": "code",
      "metadata": {
        "id": "5pP9723-eaKt"
      },
      "source": [
        "teta=math.asin(293.6135/B.max())\n",
        "teta  ###Desfase estimado con Lissajous"
      ],
      "execution_count": null,
      "outputs": []
    },
    {
      "cell_type": "code",
      "metadata": {
        "id": "8Sz7GVbTeeti"
      },
      "source": [],
      "execution_count": null,
      "outputs": []
    },
    {
      "cell_type": "markdown",
      "metadata": {
        "id": "8c6dluQK_Wr2"
      },
      "source": [
        "#**Prueba de dos canales de tensión y corriente - Microchip y Dranetz con tostadora y heladera**"
      ]
    },
    {
      "cell_type": "markdown",
      "metadata": {
        "id": "FrBuiLy7AEp0"
      },
      "source": [
        "Hard-adhoc"
      ]
    },
    {
      "cell_type": "code",
      "metadata": {
        "id": "JwDlks2cAJG8"
      },
      "source": [
        "datos_hardadhoc_2=pd.read_csv(\"/content/drive/MyDrive/Doctorado CyT, Maxi/Piloto (sistema de medición)/Prueba dos canales/Hard-adhoc/04071213.054\",delimiter=';',header=0,index_col=False)\n",
        "datos_hardadhoc_2"
      ],
      "execution_count": null,
      "outputs": []
    },
    {
      "cell_type": "code",
      "metadata": {
        "id": "dE3JVCv92qAX"
      },
      "source": [
        "datos_hardadhoc_2.describe()"
      ],
      "execution_count": null,
      "outputs": []
    },
    {
      "cell_type": "code",
      "metadata": {
        "id": "1BwYFgKnB_4J"
      },
      "source": [
        "plt.plot(datos_hardadhoc_2.index, datos_hardadhoc_2['IrmsB(A)'], datos_hardadhoc_2.index,datos_hardadhoc_2['IrmsA(A)'] )\n",
        "plt.grid()\n",
        "plt.show()"
      ],
      "execution_count": null,
      "outputs": []
    },
    {
      "cell_type": "code",
      "metadata": {
        "id": "yAIpmSE0Cs11"
      },
      "source": [
        "plt.plot(datos_hardadhoc_2.index, datos_hardadhoc_2['UrmsA(V)'] )\n",
        "plt.grid()\n",
        "plt.show()"
      ],
      "execution_count": null,
      "outputs": []
    },
    {
      "cell_type": "markdown",
      "metadata": {
        "id": "nvyF5ckRAHHY"
      },
      "source": [
        "Dranetz"
      ]
    },
    {
      "cell_type": "code",
      "metadata": {
        "id": "MmskrTrPB_Xl"
      },
      "source": [
        "domiciliario_fasepartida=pd.read_csv('/content/drive/MyDrive/Doctorado CyT, Maxi/Piloto (sistema de medición)/Prueba dos canales/Dranetz/domiciliario12ayb_00_U_Ia_Ib.txt',delimiter=';',encoding=\"ISO-8859-1\",header=0,)\n",
        "domiciliario_fasepartida"
      ],
      "execution_count": null,
      "outputs": []
    },
    {
      "cell_type": "code",
      "metadata": {
        "id": "QT9KjvInN2XV"
      },
      "source": [
        "plt.plot(domiciliario_fasepartida.index, domiciliario_fasepartida['AVValor[Voltios]'])"
      ],
      "execution_count": null,
      "outputs": []
    },
    {
      "cell_type": "code",
      "metadata": {
        "id": "yoK5dM50NRch"
      },
      "source": [
        "plt.plot(domiciliario_fasepartida.index, domiciliario_fasepartida['AIValor[Amperios]'], domiciliario_fasepartida.index, domiciliario_fasepartida['BIValor[Amperios]'])"
      ],
      "execution_count": null,
      "outputs": []
    },
    {
      "cell_type": "markdown",
      "metadata": {
        "id": "YhGQ2Enpuqim"
      },
      "source": [
        "Valor medio"
      ]
    },
    {
      "cell_type": "markdown",
      "metadata": {
        "id": "omdJiIv2ulpR"
      },
      "source": [
        "Y=$\\frac{1}{T}\\int_0^T f(t) dt$"
      ]
    },
    {
      "cell_type": "markdown",
      "metadata": {
        "id": "URZ90UVEvK5p"
      },
      "source": [
        "Valor eficaz"
      ]
    },
    {
      "cell_type": "markdown",
      "metadata": {
        "id": "lbMR2XWDvw8j"
      },
      "source": [
        "$Y=\\sqrt{\\frac {1}{T}\\int_0^T [f(t)]^2 dt}$"
      ]
    },
    {
      "cell_type": "markdown",
      "metadata": {
        "id": "-hvtJGZALWLt"
      },
      "source": [
        "![image.png](data:image/png;base64,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)"
      ]
    },
    {
      "cell_type": "markdown",
      "metadata": {
        "id": "ix5Rsby-CdlP"
      },
      "source": [
        "![image.png](data:image/png;base64,iVBORw0KGgoAAAANSUhEUgAAAKsAAAAdCAYAAADVe5xxAAAFQUlEQVR4Ae3a6Q3kRBAF4CIDyAACQIIIOALgkvjNkQAgkPiFOBKADIAIgAiACCADyAAyAH3Ij+31emZ8zo5nXZJVdrddXf3qdXXZM1WHHAgcCBwIHAgcCBwI7AeBp6rq0rGf2Rye3gUCz1fVl73j46r66sLxWe8ZNt6+C0SOSewOgSOrXjlkz1XVi1ce8xjuQGAyAt9U1RdV9WNV/VZVT0+2cDxwIHAFBN7sCJqhfq+q73Jx6MUIvFxVn3fJYLMk8GxVvdQdiz2+YQPAlFEDpCz7y436u7eYwNaORT6sqr+qyhxWlReqStASyB9WtX7bxv5oAL4lT/sx+fmWnDvhCw7BM/Jn91Ug16tomcZARMb5p6psl/cussCtlgB7jIkF9kZDmk0Swbtd2s44yCqN70FeG/im92lVfTLQ3s7HnLNlrb5VtQPNPN9zTEzZLv13U27NhOH8YxnkFgN43vPxvVY/MkTmZtfUvbGzld5bTODixVWm3UwM4mVj00E2836cYXNT+Ns9cviFZY7AygfyLWVvMeGvxU+TVzq9qmJcnRSi3mtmNS8AtsfcuV6DrG3ymOvnqkQ5YwyHvAi+3pUB7zSl1pnHHnQ90z2gPjNZBp1/1LDf3WpUfTKFbee9ByZ2c+ZXKXNzmEuut6q/f12YWf2CFn9bnYTRxkTb44wJHvGHn3yBb66dExk1u1U0Lo0SYFiZtDrN9pfs6ZebfAGgYzx69CCjPHn0pjazjTl/1MLDLWwAC0GB6E3U3C1Q87Y415a5mVU8+BesW+1zjy8xS2LC/hhMc0/Idgof/XjjfkTlb3hF61ssjFgRRNAMImgGdZ5ajQNxPLp7bDPV/zfPpetLgCroIxaa+Qm6Fynn7SeV3LdUzyErIlk85msXE5+furbWn6GYXMIgz8vAl/Bs+411TvBIEojA02IKp5L00j9Lt06YgEEyqIHuRQSxnY9AmGtefloc5swZ+dttOuf5jpjr6HPbtZoOOeMbfywk/iaxzPFxy2da/JLoaNL2dU3L1fdVZYtpQVpu9TYtqCVlvbXEYnh14JDNh9plzyHRjpRv9Tr7i6vXfVOXm/naZhtZoP2eaEXoF4gPuj8fyCDOtXmT84eE9KfdM9rbmjb3qBU9N0ZkGIQaexjjnGSFy04IAdSIvkvP594pemoZkN2tnzC8PwzVfbIXrPkv+yYel3y0LY/F1X1tLIdshyf6LFDPROAa7NM2WTOQoGVFtwFEFoE1WOo69axfHTjv8LytzT15acnHdE5nK2ArZAB6PxhDzrtnyjFkI23ZRvmvTuV3fHPPVFLF7iU91S6f+Nbiow3mKc8yZupt12pc+CN18M99p/Ra2CJqXsyHEoEdu+/7KZ/S/nVV+f9JOPPfFwCDWM0I5Pi2M0z366o+iAxry6oDqjIiIlCITBCXTVl18SrrbE5RWUgWpd2DP7JQruktZCpZ+RDf4IR4rof8ywshsogD0fZ/gLu2rRU/8cjYMjYeIZp28Z/zlcXiNKeHuPJ+tx0mjTMsuw6BE0DaybdkRVrBibRkZR9JkNnErg0onzK3/lynrvrMb4yeQ9bWV9nz0ktVks0Yf7a6B1ERM4mLT3jU7l5TxhajIQ6OsoFcS8ja1sJWXyY1avAd37TKJ5sT87dVIglsU75ZkI8jEZxw8frNWG4LR1Zbp2viXJs+5KO9pNm6HM7VqvqkdS9gzmWbJxrQDr+lyi4FUwvCtqvEkomfaEGsZEI6RMs5jcDqi/awfaVPv8O2kOefaFBXmDwckziC7wpmDxMHAgcCBwIHAvePwL+1kz/ytAUguAAAAABJRU5ErkJggg==)"
      ]
    },
    {
      "cell_type": "code",
      "metadata": {
        "id": "A7V-LMZb8D3V"
      },
      "source": [
        "Y=domiciliario_fasepartida['BIValor[Amperios]']   #### Del conjunto\n",
        "U=domiciliario_fasepartida['AVValor[Voltios]']"
      ],
      "execution_count": null,
      "outputs": []
    },
    {
      "cell_type": "code",
      "metadata": {
        "id": "hRY8IveM9IHX"
      },
      "source": [
        "Y.shape"
      ],
      "execution_count": null,
      "outputs": []
    },
    {
      "cell_type": "markdown",
      "metadata": {
        "id": "5rkuNzrE8jAi"
      },
      "source": [
        "De lo que devuelve el DranView, sería, el rms calculado en grupos de  "
      ]
    },
    {
      "cell_type": "code",
      "metadata": {
        "id": "V-gtnvdM8onQ"
      },
      "source": [],
      "execution_count": null,
      "outputs": []
    },
    {
      "cell_type": "code",
      "metadata": {
        "id": "u54NjnHy8A-w"
      },
      "source": [
        "rms = np.sqrt(np.mean(Y**2))\n",
        "rms"
      ],
      "execution_count": null,
      "outputs": []
    },
    {
      "cell_type": "code",
      "metadata": {
        "id": "OoYRmeMv9mBG"
      },
      "source": [
        "rms = np.sqrt(np.mean(U**2))\n",
        "rms"
      ],
      "execution_count": null,
      "outputs": []
    },
    {
      "cell_type": "markdown",
      "metadata": {
        "id": "8rt45x4c_w-p"
      },
      "source": [
        "Si les saco el rms a los primeros 20, tendría la información procesada del DranView. Los rms que me muestra."
      ]
    },
    {
      "cell_type": "code",
      "metadata": {
        "id": "C_hZhL350JQn"
      },
      "source": [
        "muestra=domiciliario_fasepartida\n",
        "muestra"
      ],
      "execution_count": null,
      "outputs": []
    },
    {
      "cell_type": "code",
      "metadata": {
        "id": "uc9oFLS7WGOF"
      },
      "source": [
        "muestra[100:130]"
      ],
      "execution_count": null,
      "outputs": []
    },
    {
      "cell_type": "code",
      "metadata": {
        "id": "I0VzGRtuQiBF"
      },
      "source": [
        "\n",
        "plt.figure(figsize=(19*2,17.8))\n",
        "plt.plot(muestra.index, muestra['AIValor[Amperios]'])\n",
        "plt.grid()"
      ],
      "execution_count": null,
      "outputs": []
    },
    {
      "cell_type": "code",
      "metadata": {
        "id": "tovrSRxKUi4C"
      },
      "source": [
        "V=muestra['AVValor[Voltios]']\n",
        "V"
      ],
      "execution_count": null,
      "outputs": []
    },
    {
      "cell_type": "code",
      "metadata": {
        "id": "zDbomBZTVUbt",
        "colab": {
          "base_uri": "https://localhost:8080/",
          "height": 166
        },
        "outputId": "b4fa449f-0755-4d09-d165-83c4bb5a9d6b"
      },
      "source": [
        "I=muestra['AIValor[Amperios]']\n",
        "I"
      ],
      "execution_count": null,
      "outputs": [
        {
          "output_type": "error",
          "ename": "NameError",
          "evalue": "name 'muestra' is not defined",
          "traceback": [
            "\u001b[0;31m---------------------------------------------------------------------------\u001b[0m",
            "\u001b[0;31mNameError\u001b[0m                                 Traceback (most recent call last)",
            "\u001b[0;32m<ipython-input-11-aae5904d1164>\u001b[0m in \u001b[0;36m<cell line: 0>\u001b[0;34m()\u001b[0m\n\u001b[0;32m----> 1\u001b[0;31m \u001b[0mI\u001b[0m\u001b[0;34m=\u001b[0m\u001b[0mmuestra\u001b[0m\u001b[0;34m[\u001b[0m\u001b[0;34m'AIValor[Amperios]'\u001b[0m\u001b[0;34m]\u001b[0m\u001b[0;34m\u001b[0m\u001b[0;34m\u001b[0m\u001b[0m\n\u001b[0m\u001b[1;32m      2\u001b[0m \u001b[0mI\u001b[0m\u001b[0;34m\u001b[0m\u001b[0;34m\u001b[0m\u001b[0m\n",
            "\u001b[0;31mNameError\u001b[0m: name 'muestra' is not defined"
          ]
        }
      ]
    },
    {
      "cell_type": "markdown",
      "metadata": {
        "id": "We9dhPlnSQoC"
      },
      "source": [
        "Detección de cruce por ceros, ejemplo de juguete"
      ]
    },
    {
      "cell_type": "code",
      "metadata": {
        "id": "VbpCpw2tSTOl"
      },
      "source": [
        "def zero_crossing(data):\n",
        "    return np.where(np.diff(np.sign(np.array(data))))[0]\n",
        "\n",
        "df1 = pd.DataFrame({'a':[1,2,-1,5,0,9,-6,7]},index=[100,101,102,103,104,105,106,107])\n",
        "df1\n",
        "\n",
        "\n",
        "\n",
        "print(zero_crossing(df1['a']))"
      ],
      "execution_count": null,
      "outputs": []
    },
    {
      "cell_type": "code",
      "metadata": {
        "id": "hDY572KRSiCZ"
      },
      "source": [
        "df1.index[zero_crossing(df1['a'])]"
      ],
      "execution_count": null,
      "outputs": []
    },
    {
      "cell_type": "markdown",
      "metadata": {
        "id": "LlkGEVvNU2oO"
      },
      "source": [
        "Ejemplo real con U e I"
      ]
    },
    {
      "cell_type": "code",
      "metadata": {
        "id": "k3tNN3_2U1Gb"
      },
      "source": [
        "def zero_crossing(data):\n",
        "    return np.where(np.diff(np.sign(np.array(data))))[0]\n",
        "\n",
        "print(zero_crossing(V))\n"
      ],
      "execution_count": null,
      "outputs": []
    },
    {
      "cell_type": "code",
      "metadata": {
        "id": "v3IFQ4nwV6Bb"
      },
      "source": [
        "muestra[172:257]"
      ],
      "execution_count": null,
      "outputs": []
    },
    {
      "cell_type": "code",
      "metadata": {
        "id": "wIpwiOJ-VScG"
      },
      "source": [
        "Z_I=zero_crossing(I)\n",
        "print(zero_crossing(I))"
      ],
      "execution_count": null,
      "outputs": []
    },
    {
      "cell_type": "code",
      "metadata": {
        "id": "3HOXmRy6Vypg"
      },
      "source": [
        "#fi= (tdiff*360)/20 ms; tddiff=tiempo de cruce por ceros de cada una de las señales\n",
        "#Para este caso, considerando el índice 255 para V y el índice 172 para I. la diferencia de tiempo correspondiente es 6.4 ms\n",
        "\n",
        "#cosfi(aprox)= 0.42, Dranetz marca 0.47 mean."
      ],
      "execution_count": null,
      "outputs": []
    },
    {
      "cell_type": "markdown",
      "metadata": {
        "id": "McBYaFgtf2yy"
      },
      "source": [
        "Observación: Ni siquiera hay que calcular el factor de potencia con nuestro modelo. El indicador diferencia de tiempo del cruce por zeros es suficiente."
      ]
    },
    {
      "cell_type": "markdown",
      "metadata": {
        "id": "roNOFCNEXhTh"
      },
      "source": [
        "**RMS VALUE**"
      ]
    },
    {
      "cell_type": "code",
      "metadata": {
        "id": "lTIyUWcieQFT"
      },
      "source": [
        "YY=muestra['AIValor[Amperios]']\n",
        "rms=np.sqrt(np.mean(YY**2))\n",
        "rms"
      ],
      "execution_count": null,
      "outputs": []
    },
    {
      "cell_type": "markdown",
      "metadata": {
        "id": "ltNAJsUSsPze"
      },
      "source": [
        "**Valor rms discretos de dos valores de la ventana de 1 s, con total 2560 valores**"
      ]
    },
    {
      "cell_type": "code",
      "metadata": {
        "id": "xutIwOxy8a4F"
      },
      "source": [
        "intervalo=[2,28,50,100,200,1000,2559]    ### Valores rms a partir de distintos bins de la ventana de un segundo.\n",
        "for i in intervalo:\n",
        "  rms=np.sqrt((YY[0:i]**2).sum()/YY[0:i].size)\n",
        "  print(rms)"
      ],
      "execution_count": null,
      "outputs": []
    },
    {
      "cell_type": "code",
      "metadata": {
        "id": "WiKtuue6oqLF"
      },
      "source": [
        "\n",
        "rms = np.sqrt ((YY[0:2559] ** 2) .sum ()/YY[0:2559].size)\n",
        "rms"
      ],
      "execution_count": null,
      "outputs": []
    },
    {
      "cell_type": "code",
      "metadata": {
        "id": "MUmJXJ_y4cBu"
      },
      "source": [
        "res = YY.groupby(np.arange(len(YY))//2).agg(lambda x: x.mode().iloc[-1])  ### Agrupar cada n valor\n",
        "print(res)"
      ],
      "execution_count": null,
      "outputs": []
    },
    {
      "cell_type": "code",
      "metadata": {
        "id": "kBp_5aFO5JIb"
      },
      "source": [
        "prom=YY.groupby(np.arange(len(YY)) // 2, axis=0).mean()  #### promedio cada dos\n",
        "prom"
      ],
      "execution_count": null,
      "outputs": []
    },
    {
      "cell_type": "code",
      "metadata": {
        "id": "KLxbvsi6eFxF"
      },
      "source": [
        "#muestra['AIValor[Amperios]'] = pd.cut(muestra['AIValor[Amperios]'], bins=5)\n",
        "muestra.groupby(np.arange(len(muestra))//2).max()"
      ],
      "execution_count": null,
      "outputs": []
    },
    {
      "cell_type": "code",
      "metadata": {
        "id": "O6oRUqOgG0Zx"
      },
      "source": [
        "\n",
        "rms = np.sqrt(np.mean(muestra['BIValor[Amperios]']**2))\n",
        "rms"
      ],
      "execution_count": null,
      "outputs": []
    },
    {
      "cell_type": "markdown",
      "metadata": {
        "id": "UTzbWnod5Ojv"
      },
      "source": [
        "Agrupando como el procesamiento del DranView - se simula la adquisición de distintos instrumentos, distintas configuraciones y/o distintos errores de medición."
      ]
    },
    {
      "cell_type": "code",
      "metadata": {
        "id": "T5H4GDsO5Q8H"
      },
      "source": [
        "agrupados=domiciliario_fasepartida['BIValor[Amperios]'] .groupby(np.arange(len(domiciliario_fasepartida['BIValor[Amperios]'] )) // 2, axis=0).mean()"
      ],
      "execution_count": null,
      "outputs": []
    },
    {
      "cell_type": "code",
      "metadata": {
        "id": "CIzL9vcJ-UAZ"
      },
      "source": [
        "agrupados"
      ],
      "execution_count": null,
      "outputs": []
    },
    {
      "cell_type": "markdown",
      "metadata": {
        "id": "sfhH5i_LJLML"
      },
      "source": [
        "Measuring power factor in the samples"
      ]
    },
    {
      "cell_type": "markdown",
      "metadata": {
        "id": "tyJYH4DzJPhc"
      },
      "source": [
        "https://electronics.stackexchange.com/questions/319841/measuring-power-factor-on-sinusoids"
      ]
    },
    {
      "cell_type": "markdown",
      "metadata": {
        "id": "qm2yeU0YKzWz"
      },
      "source": [
        "Estimar potencia activa, valor medio de la instantánea"
      ]
    },
    {
      "cell_type": "code",
      "metadata": {
        "id": "AJV-lcKDK3rh"
      },
      "source": [
        "A=muestra['AVValor[Voltios]']\n",
        "B=muestra['AIValor[Amperios]']\n",
        "C=A*B"
      ],
      "execution_count": null,
      "outputs": []
    },
    {
      "cell_type": "code",
      "metadata": {
        "id": "34jEoG6fLJMg"
      },
      "source": [
        "C"
      ],
      "execution_count": null,
      "outputs": []
    },
    {
      "cell_type": "code",
      "metadata": {
        "id": "jCpYjYy2QX_3"
      },
      "source": [],
      "execution_count": null,
      "outputs": []
    },
    {
      "cell_type": "code",
      "metadata": {
        "id": "PVV0GCWJLNwf"
      },
      "source": [
        "plt.plot(C.index, C)"
      ],
      "execution_count": null,
      "outputs": []
    },
    {
      "cell_type": "markdown",
      "metadata": {
        "id": "lWRwuRCQOlI2"
      },
      "source": [
        "En esta señal tengo potencia activa y reactiva que hay que desagregar"
      ]
    },
    {
      "cell_type": "markdown",
      "metadata": {
        "id": "0YGkspJoQ2rC"
      },
      "source": [
        "![image.png](data:image/png;base64,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)"
      ]
    },
    {
      "cell_type": "markdown",
      "metadata": {
        "id": "SuyT6YF0Rd-T"
      },
      "source": [
        "Propuesta es, me quedo con los valores mayores iguales a cero y le saco la media a esos valores. Luego, con potencia activa y aparente, obtengo el desfase."
      ]
    },
    {
      "cell_type": "code",
      "metadata": {
        "id": "xTpPhyk-LWtI"
      },
      "source": [],
      "execution_count": null,
      "outputs": []
    },
    {
      "cell_type": "code",
      "metadata": {
        "id": "DoX6zKHe59Tl"
      },
      "source": [
        "C"
      ],
      "execution_count": null,
      "outputs": []
    },
    {
      "cell_type": "code",
      "metadata": {
        "id": "C-4KB3UL6l0d"
      },
      "source": [
        "df=pd.DataFrame(C, columns=['P_inst'])\n",
        "df"
      ],
      "execution_count": null,
      "outputs": []
    },
    {
      "cell_type": "markdown",
      "metadata": {
        "id": "Q9V-bxCKxwOE"
      },
      "source": [
        "FFT"
      ]
    },
    {
      "cell_type": "code",
      "metadata": {
        "id": "L2OX4VYwy5ns"
      },
      "source": [
        "\n",
        "from IPython.display import Image\n",
        "import numpy as np\n",
        "import scipy.fftpack as fourier\n",
        "import matplotlib.pyplot as plt\n",
        "import scipy.io.wavfile as waves"
      ],
      "execution_count": null,
      "outputs": []
    },
    {
      "cell_type": "markdown",
      "metadata": {
        "id": "h1pPhSN1Xk3r"
      },
      "source": [
        "Ejemplo de juguete FFT"
      ]
    },
    {
      "cell_type": "code",
      "metadata": {
        "id": "lhtEDnimzxSP"
      },
      "source": [
        "gn = [0, 1, 2, 3, 4] # Definimos una función en tiempo discreto\n",
        "gk = fourier.fft(gn) # Calculamos la FFT\n",
        "gk"
      ],
      "execution_count": null,
      "outputs": []
    },
    {
      "cell_type": "code",
      "metadata": {
        "id": "ovZ2xIpggJvx"
      },
      "source": [
        "type(gn)"
      ],
      "execution_count": null,
      "outputs": []
    },
    {
      "cell_type": "code",
      "metadata": {
        "id": "DT_DaDJd0Zs4"
      },
      "source": [
        "\n",
        "M_gk = abs(gk)                   # Calculamos la Magnitud de la FFT\n",
        "Ph_gk = np.angle(gk)             # Calculamos la Fase de la FFT\n",
        "print('Magnitud: ', M_gk)\n",
        "print('Angle: ',Ph_gk*180/np.pi)"
      ],
      "execution_count": null,
      "outputs": []
    },
    {
      "cell_type": "code",
      "metadata": {
        "id": "mQkKpqgd0heL"
      },
      "source": [
        "\n",
        "\n",
        "Ts = 0.001                                       # Definimos un tiempo y frecuencia de muestreo\n",
        "Fs=1/Ts\n",
        "w1 = 2*np.pi*60                                  # Definimos una frecuencia de 60 Hz para la señal 1\n",
        "w2 = 2*np.pi*223                                 # Definimos una frecuencia de 223 Hz para la señal 2\n",
        "\n",
        "n = Ts*np.arange(0, 1000)\n",
        "ruido = np.random.random(len(n))\n",
        "x = 3*np.sin(w1*n)+2.3*np.sin(w2*n)+ruido        # Construimos una señal compuesta por la señal 1 y 2, y agregamos ruido\n",
        "\n",
        "\n",
        "plt.plot(n,x,'.-')\n",
        "plt.xlabel('Tiempo (s)', fontsize='14')\n",
        "plt.ylabel('Amplitud', fontsize='14')\n",
        "plt.show()"
      ],
      "execution_count": null,
      "outputs": []
    },
    {
      "cell_type": "code",
      "metadata": {
        "id": "3r3MHgmM0p-L"
      },
      "source": [
        "\n",
        "\n",
        "gk = fourier.fft(x)                             # Calculamos la FFT\n",
        "M_gk = abs(gk)                                  # Calculamos la Magnitud de la FFT\n",
        "\n",
        "F = Fs*np.arange(0, len(x))/len(x)              # Definimos el Vector de Frecuencias\n",
        "\n",
        "plt.plot(F, M_gk)\n",
        "plt.xlabel('Frecuencia (Hz)', fontsize='14')\n",
        "plt.ylabel('Amplitud FFT', fontsize='14')\n",
        "plt.show()"
      ],
      "execution_count": null,
      "outputs": []
    },
    {
      "cell_type": "markdown",
      "metadata": {
        "id": "oLBpGYbxXpqg"
      },
      "source": [
        "Sobre el conjunto de datos"
      ]
    },
    {
      "cell_type": "code",
      "metadata": {
        "id": "laoU_1EabT-6"
      },
      "source": [
        "from scipy.fftpack import fft, fftfreq"
      ],
      "execution_count": null,
      "outputs": []
    },
    {
      "cell_type": "code",
      "metadata": {
        "id": "blbGISuOhMKO"
      },
      "source": [
        "lista=YY.tolist()  ### pasar a lista"
      ],
      "execution_count": null,
      "outputs": []
    },
    {
      "cell_type": "code",
      "metadata": {
        "id": "IE4olQtL01Eq"
      },
      "source": [
        "gk = fourier.fft(lista)\n",
        "gk"
      ],
      "execution_count": null,
      "outputs": []
    },
    {
      "cell_type": "code",
      "metadata": {
        "id": "ZzhTtcrvZMmg"
      },
      "source": [
        "M_gk = abs(gk)                   # Calculamos la Magnitud de la FFT\n",
        "Ph_gk = np.angle(gk)             # Calculamos la Fase de la FFT\n",
        "print('Magnitud: ', M_gk)\n",
        "print('Angle: ',Ph_gk*180/np.pi)"
      ],
      "execution_count": null,
      "outputs": []
    },
    {
      "cell_type": "code",
      "metadata": {
        "id": "lUVJEFTPiHa6"
      },
      "source": [],
      "execution_count": null,
      "outputs": []
    },
    {
      "cell_type": "code",
      "metadata": {
        "id": "hVfXvAFKkHkm"
      },
      "source": [
        "from scipy.fftpack import fft, fftfreq"
      ],
      "execution_count": null,
      "outputs": []
    },
    {
      "cell_type": "code",
      "metadata": {
        "id": "MGCA6XgfkISG"
      },
      "source": [
        "n = 2 ** 6 # Número de intervalos\n",
        "f = 50.0 # Hz\n",
        "dt = 1 / (f * 16) # Espaciado, 16 puntos por período\n",
        "Y = fft(lista) / n # Normalizada\n",
        "frq = fftfreq(n, dt) # Recuperamos las frecuencias\n",
        "t = np.linspace(0, (n - 1) * dt, n) # Intervalo de tiempo en segundos"
      ],
      "execution_count": null,
      "outputs": []
    },
    {
      "cell_type": "code",
      "metadata": {
        "id": "kOLCyRSnnPjt"
      },
      "source": [],
      "execution_count": null,
      "outputs": []
    },
    {
      "cell_type": "code",
      "metadata": {
        "id": "ZN39zTLRnPoX"
      },
      "source": [
        "len(lista)"
      ],
      "execution_count": null,
      "outputs": []
    },
    {
      "cell_type": "code",
      "metadata": {
        "id": "B-2cU4hwk3HH"
      },
      "source": [
        "# Number of samplepoints\n",
        "N = 2560\n",
        "# sample frequency\n",
        "Fs=50\n",
        "import scipy.fftpack\n",
        "\n",
        "t = np.linspace(0.0, N/Fs-1/Fs, N)\n",
        "frequency = np.linspace(0.0, Fs//2, N//2)\n",
        "spectrum_abs = (2/N)*np.abs(scipy.fftpack.fft(lista))\n",
        "half_spectrum_abs=spectrum_abs[:N//2]\n",
        "\n",
        "fig, ax = plt.subplots()\n",
        "ax.stem(frequency, half_spectrum_abs)\n",
        "plt.show()"
      ],
      "execution_count": null,
      "outputs": []
    },
    {
      "cell_type": "markdown",
      "metadata": {
        "id": "az2Ahy7c5Tuj"
      },
      "source": [
        "Hanning Windows"
      ]
    },
    {
      "cell_type": "markdown",
      "metadata": {
        "id": "vyW3CMjA5Z14"
      },
      "source": [
        "https://numpy.org/doc/stable/reference/generated/numpy.hanning.html"
      ]
    },
    {
      "cell_type": "markdown",
      "metadata": {
        "id": "1jH5sjykF_ss"
      },
      "source": [
        "Prueba de sincronización de señales"
      ]
    },
    {
      "cell_type": "markdown",
      "metadata": {
        "id": "qogTiRLGGROS"
      },
      "source": [
        "Referencia: https://towardsdatascience.com/how-to-synchronize-time-series-datasets-in-python-f3a1826c21c0"
      ]
    },
    {
      "cell_type": "code",
      "metadata": {
        "id": "INQ0Dli6F-w2"
      },
      "source": [
        "pip install fastdtw"
      ],
      "execution_count": null,
      "outputs": []
    },
    {
      "cell_type": "code",
      "metadata": {
        "id": "WGxR7_H4GmNA"
      },
      "source": [
        "import numpy as np\n",
        "import pandas as pd\n",
        "import plotly.express as px\n",
        "from sklearn.metrics import r2_score\n",
        "import fastdtw\n",
        "from scipy.spatial.distance import euclidean\n",
        "from fastdtw import fastdtw"
      ],
      "execution_count": null,
      "outputs": []
    },
    {
      "cell_type": "code",
      "metadata": {
        "id": "JDXYkbr4HbN_"
      },
      "source": [
        "domiciliario_fasepartida"
      ],
      "execution_count": null,
      "outputs": []
    },
    {
      "cell_type": "code",
      "metadata": {
        "id": "a8tjtFRCLT5u"
      },
      "source": [
        "#UNIT['IRMS_AVG'] = pd.to_numeric(UNIT['IRMS_AVG'],errors='coerce')\n",
        "#UNIT['P_AVG'] = pd.to_numeric(UNIT['P_AVG'],errors='coerce')"
      ],
      "execution_count": null,
      "outputs": []
    },
    {
      "cell_type": "code",
      "metadata": {
        "id": "KEHySrpAGs6m"
      },
      "source": [
        "x = np.array(domiciliario_fasepartida['AVValor[Voltios]'].fillna(0))\n",
        "y = np.array(domiciliario_fasepartida['AIValor[Amperios]'].fillna(0))"
      ],
      "execution_count": null,
      "outputs": []
    },
    {
      "cell_type": "code",
      "metadata": {
        "id": "rujcEayMIqtD"
      },
      "source": [
        "distance,path = fastdtw(x, y, dist=euclidean)\n"
      ],
      "execution_count": null,
      "outputs": []
    },
    {
      "cell_type": "code",
      "metadata": {
        "id": "k9hnYa-3IyYh"
      },
      "source": [
        "result = []\n",
        "for i in range(0,len(path)):\n",
        "    result.append([domiciliario_fasepartida['Datos X'].iloc[path[i][0]],\n",
        "    domiciliario_fasepartida['AVValor[Voltios]'].iloc[path[i][0]],\n",
        "    domiciliario_fasepartida['AVValor[Voltios]'].iloc[path[i][1]]])\n",
        "df_sync = pd.DataFrame(data=result,columns=['DateTime','Power','Current']).dropna()\n",
        "df_sync = df_sync.drop_duplicates(subset=['DateTime'])\n",
        "df_sync = df_sync.sort_values(by='DateTime')\n",
        "df_sync = df_sync.reset_index(drop=True)"
      ],
      "execution_count": null,
      "outputs": []
    },
    {
      "cell_type": "code",
      "metadata": {
        "id": "ZBRhE60iStMy"
      },
      "source": [
        "correlation = r2_score(domiciliario_fasepartida['AVValor[Voltios]'],domiciliario_fasepartida['AIValor[Amperios]'])\n",
        "correlation"
      ],
      "execution_count": null,
      "outputs": []
    },
    {
      "cell_type": "code",
      "metadata": {
        "id": "ySY04vk0TeNc"
      },
      "source": [
        "df_sync"
      ],
      "execution_count": null,
      "outputs": []
    },
    {
      "cell_type": "code",
      "metadata": {
        "id": "98kKxZF9UrwG"
      },
      "source": [
        "plt.figure(figsize=(19*2,17.8))\n",
        "plt.plot(df_sync.index, df_sync['Power'], df_sync.index, df_sync['Current'])\n"
      ],
      "execution_count": null,
      "outputs": []
    },
    {
      "cell_type": "code",
      "metadata": {
        "id": "etOmTswUU-u7"
      },
      "source": [
        "plt.figure(figsize=(19*2,17.8))\n",
        "plt.plot(domiciliario_fasepartida.index, domiciliario_fasepartida['AVValor[Voltios]'], domiciliario_fasepartida.index, domiciliario_fasepartida['AIValor[Amperios]'])\n",
        "plt.ylim(0,100)"
      ],
      "execution_count": null,
      "outputs": []
    },
    {
      "cell_type": "markdown",
      "metadata": {
        "id": "K-pRfk21YVn6"
      },
      "source": [
        "Señales originales"
      ]
    },
    {
      "cell_type": "code",
      "metadata": {
        "id": "3jEzIqvfVrA0"
      },
      "source": [
        "plt.figure(figsize=(19*2,17.8))\n",
        "plt.plot(UNIT.index, UNIT['P_AVG'],UNIT.index, UNIT['URMS_AVG'])\n",
        "plt.ylim(0,300)"
      ],
      "execution_count": null,
      "outputs": []
    }
  ]
}